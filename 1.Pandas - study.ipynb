{
 "cells": [
  {
   "cell_type": "code",
   "execution_count": 1,
   "id": "d0c23397",
   "metadata": {},
   "outputs": [],
   "source": [
    "###Tạo DataFrame\n",
    "#khai báo dữ liệu\n",
    "import pandas as pd\n",
    "\n",
    "#Tạo một DataFrame rỗng lưu vào biến df\n",
    "df = pd.DataFrame()\n",
    "\n",
    "#Hiển thị số dòng mong muôn nếu truyền vào. Mặc định là 5\n",
    "df.head()\n",
    "\n",
    "##Tạo DataFrame từ List\n",
    "#Khai báo List:\n",
    "lst = ['Kế toán','Kinh doanh','Tiếp thị']\n",
    "\n",
    "#Gán giá trị của List vào DataFrame\n",
    "df = pd.DataFrame(lst)\n",
    "\n",
    "##Tạo DataFrame từ Tuple\n",
    "#Khai báo Tuple:\n",
    "tuples = [('Kế toán', 2000),( 'Kinh doanh', 2100), ('Tiếp thị', 1900)]\n",
    "\n",
    "#Gán giá trị của Tuple vào DataFrame\n",
    "df = pd.DataFrame(tuples, columns=['Nghề','Lương'])\n",
    "\n",
    "##Tạo DataFrame từ Dictionary\n",
    "dic = {'Nghề':['Kế toán','Kinh doanh','Tiếp thị'],\n",
    "       'Lương':[2000, 2100, 1900]}\n",
    "\n",
    "#Gán giá trị của Dic vào DataFrame\n",
    "df = pd.DataFrame(dic)"
   ]
  },
  {
   "cell_type": "code",
   "execution_count": 6,
   "id": "3a208be0",
   "metadata": {},
   "outputs": [
    {
     "data": {
      "text/plain": [
       "0    10\n",
       "1    10\n",
       "2    10\n",
       "3    10\n",
       "4    10\n",
       "5    10\n",
       "dtype: int64"
      ]
     },
     "execution_count": 6,
     "metadata": {},
     "output_type": "execute_result"
    }
   ],
   "source": [
    "###Tạo Series\n",
    "#Khai báo thư viện Pandas:\n",
    "import pandas as pd\n",
    "import numpy as np\n",
    "\n",
    "##Tạo Series từ Dictionary\n",
    "#Khai báo Dictionary:\n",
    "dict = {0 : 'Kế toán', 1 : 'Kinh doanh', 2 : 'Tiếp thị'}\n",
    "\n",
    "#Gán giá trị của Dictionary vào Series\n",
    "seri = pd.Series(dict)\n",
    "\n",
    "#Tạo Series từ Numpy array\n",
    "arr = np.array([51,65,48,59,68])\n",
    "\n",
    "#Gán giá trị của array vào Series\n",
    "seri = pd.Series(arr)\n",
    "\n",
    "#Tạo Series từ các giá trị vô hướng\n",
    "#Tạo Series\n",
    "\n",
    "seri = pd.Series(10, index=[0,1,2,3,4,5])\n",
    "\n",
    "seri\n"
   ]
  },
  {
   "cell_type": "code",
   "execution_count": 7,
   "id": "204aba81",
   "metadata": {},
   "outputs": [
    {
     "data": {
      "text/plain": [
       "Place           object\n",
       "ProductId        int64\n",
       "ProductName     object\n",
       "UmId             int64\n",
       "UmName          object\n",
       "Month            int64\n",
       "Year             int64\n",
       "Price          float64\n",
       "dtype: object"
      ]
     },
     "execution_count": 7,
     "metadata": {},
     "output_type": "execute_result"
    }
   ],
   "source": [
    "#Đọc bộ dữ liệu:\n",
    "import pandas as pd\n",
    "df = pd.read_csv(\"FoodPrice_in_Turkey.csv\")\n",
    "\n",
    "#Xác định số hàng và cột của DataFrame.\n",
    "df.shape\n",
    "\n",
    "#Số dòng dữ liệu\n",
    "df.shape[0]\n",
    "#Số cột dữ liệu\n",
    "df.shape[1]\n",
    "\n",
    "#Kiểm tra tên của các cột thuộc tính\n",
    "df.columns\n",
    "\n",
    "#Kiểm tra kiểu dữ liệu của các cột thuộc tính\n",
    "df.dtypes\n",
    "\n",
    "#Sử dụng phương thức info()\n",
    "df.info()"
   ]
  },
  {
   "cell_type": "code",
   "execution_count": null,
   "id": "157b0e05",
   "metadata": {},
   "outputs": [],
   "source": [
    "#Đọc dữ liệu từ file hdf5\n",
    "df=pd.read_hdf('FoodPrice.h5', 'table')\n",
    "df.head()\n",
    "\n",
    "#Đọc dữ liệu từ file Json\n",
    "df = pd.read_json('FoodPrice.json')\n",
    "df.head()\n",
    "\n",
    "#Đọc dữ liệu từ file excel\n",
    "df=pd.read_excel('house_price_đống đa.xlsx')\n",
    "df.head()\n",
    "\n",
    "#Đọc dữ liệu từ file csv\n",
    "#Cách 1: Ghi tường minh các tham số\n",
    "import pandas as pd\n",
    "df=pd.read_csv(filepath_or_buffer = 'FoodPrice_in_Turkey.csv', sep = ',')\n",
    "# Hiển thị 5 dòng dữ liệu đầu tiên\n",
    "df.head()\n",
    "\n",
    "#Cách 2: Không ghi tường minh các tham số\n",
    "import pandas as pd\n",
    "df=pd.read_csv('FoodPrice_in_Turkey.csv')\n",
    "# Hiển thị 5 dòng dữ liệu đầu tiên\n",
    "df.head()\n",
    "\n",
    "#Đọc dữ liệu từ file html\n",
    "url = 'https://en.wikipedia.org/wiki/List_of_sovereign_states_and_dependent_territories_in_North_America'\n",
    "df = pd.read_html(url)\n",
    "df[0].head()"
   ]
  },
  {
   "cell_type": "code",
   "execution_count": 9,
   "id": "48f8290b",
   "metadata": {},
   "outputs": [
    {
     "ename": "SyntaxError",
     "evalue": "invalid character '–' (U+2013) (3066370078.py, line 5)",
     "output_type": "error",
     "traceback": [
      "\u001b[1;36m  Input \u001b[1;32mIn [9]\u001b[1;36m\u001b[0m\n\u001b[1;33m    min – Tính giá trị nhỏ nhất của biến định lượng\u001b[0m\n\u001b[1;37m        ^\u001b[0m\n\u001b[1;31mSyntaxError\u001b[0m\u001b[1;31m:\u001b[0m invalid character '–' (U+2013)\n"
     ]
    }
   ],
   "source": [
    "#Mô tả dữ liệu\n",
    "#count – Đếm tần suất xuất hiện của biến định lượng\n",
    "df_price.count()\n",
    "\n",
    "#min – Tính giá trị nhỏ nhất của biến định lượng\n",
    "df_price.min()\n",
    "\n",
    "#max – Tính giá trị lớn nhất của biến định lượng\n",
    "df_price.max()\n",
    "\n",
    "#Xu hướng tập trung\n",
    "#Một trong những phương pháp đo lường phổ biến dùng trong thống kê là đo lường xu hướng tập trung của dữ liệu dựa trên 3 tham số: mode, trung vị (media) và trung bình (mean).\n",
    "\n",
    "#mode – Tính giá trị xuất hiện nhiều nhất của biến định lượng\n",
    "df_price.mode()\n",
    "\n",
    "\n",
    "\n",
    "#median – Tính giá trị trung vị của biến định lượng\n",
    "#Trung vị là giá trị chia các phần tử của thuộc tính thành 2 nhóm mà trong đó số các số trong mỗi nhóm là bằng nhau. \n",
    "df_price.median()\n",
    "\n",
    "\n",
    "#mean – Tính giá trị trung bình của biến định lượng\n",
    "df_price.mean()\n",
    "\n",
    "#Tính các giá trị thống kê của tất cả các biến định lượng trong DataFrame\n",
    "df.describe()"
   ]
  },
  {
   "cell_type": "code",
   "execution_count": null,
   "id": "15512804",
   "metadata": {},
   "outputs": [],
   "source": [
    "#Cú pháp của Pivot table gồm:\n",
    "pandas.pivot_table(values='a', index='b', columns='c', aggfunc='mean')\n",
    "df.pivot_table(values=['Price','Month'], index='ProductName', columns='Place', aggfunc ={'Price': np.sum,'Month': np.mean})\n"
   ]
  }
 ],
 "metadata": {
  "kernelspec": {
   "display_name": "Python 3 (ipykernel)",
   "language": "python",
   "name": "python3"
  },
  "language_info": {
   "codemirror_mode": {
    "name": "ipython",
    "version": 3
   },
   "file_extension": ".py",
   "mimetype": "text/x-python",
   "name": "python",
   "nbconvert_exporter": "python",
   "pygments_lexer": "ipython3",
   "version": "3.10.4"
  }
 },
 "nbformat": 4,
 "nbformat_minor": 5
}
