{
 "cells": [
  {
   "cell_type": "code",
   "execution_count": 1,
   "id": "638c67c0",
   "metadata": {},
   "outputs": [
    {
     "data": {
      "text/html": [
       "<div>\n",
       "<style scoped>\n",
       "    .dataframe tbody tr th:only-of-type {\n",
       "        vertical-align: middle;\n",
       "    }\n",
       "\n",
       "    .dataframe tbody tr th {\n",
       "        vertical-align: top;\n",
       "    }\n",
       "\n",
       "    .dataframe thead th {\n",
       "        text-align: right;\n",
       "    }\n",
       "</style>\n",
       "<table border=\"1\" class=\"dataframe\">\n",
       "  <thead>\n",
       "    <tr style=\"text-align: right;\">\n",
       "      <th></th>\n",
       "      <th>TV</th>\n",
       "      <th>Radio</th>\n",
       "      <th>Newspaper</th>\n",
       "      <th>Sales</th>\n",
       "    </tr>\n",
       "  </thead>\n",
       "  <tbody>\n",
       "    <tr>\n",
       "      <th>0</th>\n",
       "      <td>230.1</td>\n",
       "      <td>37.8</td>\n",
       "      <td>69.2</td>\n",
       "      <td>22.1</td>\n",
       "    </tr>\n",
       "    <tr>\n",
       "      <th>1</th>\n",
       "      <td>44.5</td>\n",
       "      <td>39.3</td>\n",
       "      <td>45.1</td>\n",
       "      <td>10.4</td>\n",
       "    </tr>\n",
       "    <tr>\n",
       "      <th>2</th>\n",
       "      <td>17.2</td>\n",
       "      <td>45.9</td>\n",
       "      <td>69.3</td>\n",
       "      <td>12.0</td>\n",
       "    </tr>\n",
       "    <tr>\n",
       "      <th>3</th>\n",
       "      <td>151.5</td>\n",
       "      <td>41.3</td>\n",
       "      <td>58.5</td>\n",
       "      <td>16.5</td>\n",
       "    </tr>\n",
       "    <tr>\n",
       "      <th>4</th>\n",
       "      <td>180.8</td>\n",
       "      <td>10.8</td>\n",
       "      <td>58.4</td>\n",
       "      <td>17.9</td>\n",
       "    </tr>\n",
       "    <tr>\n",
       "      <th>...</th>\n",
       "      <td>...</td>\n",
       "      <td>...</td>\n",
       "      <td>...</td>\n",
       "      <td>...</td>\n",
       "    </tr>\n",
       "    <tr>\n",
       "      <th>195</th>\n",
       "      <td>38.2</td>\n",
       "      <td>3.7</td>\n",
       "      <td>13.8</td>\n",
       "      <td>7.6</td>\n",
       "    </tr>\n",
       "    <tr>\n",
       "      <th>196</th>\n",
       "      <td>94.2</td>\n",
       "      <td>4.9</td>\n",
       "      <td>8.1</td>\n",
       "      <td>14.0</td>\n",
       "    </tr>\n",
       "    <tr>\n",
       "      <th>197</th>\n",
       "      <td>177.0</td>\n",
       "      <td>9.3</td>\n",
       "      <td>6.4</td>\n",
       "      <td>14.8</td>\n",
       "    </tr>\n",
       "    <tr>\n",
       "      <th>198</th>\n",
       "      <td>283.6</td>\n",
       "      <td>42.0</td>\n",
       "      <td>66.2</td>\n",
       "      <td>25.5</td>\n",
       "    </tr>\n",
       "    <tr>\n",
       "      <th>199</th>\n",
       "      <td>232.1</td>\n",
       "      <td>8.6</td>\n",
       "      <td>8.7</td>\n",
       "      <td>18.4</td>\n",
       "    </tr>\n",
       "  </tbody>\n",
       "</table>\n",
       "<p>200 rows × 4 columns</p>\n",
       "</div>"
      ],
      "text/plain": [
       "        TV  Radio  Newspaper  Sales\n",
       "0    230.1   37.8       69.2   22.1\n",
       "1     44.5   39.3       45.1   10.4\n",
       "2     17.2   45.9       69.3   12.0\n",
       "3    151.5   41.3       58.5   16.5\n",
       "4    180.8   10.8       58.4   17.9\n",
       "..     ...    ...        ...    ...\n",
       "195   38.2    3.7       13.8    7.6\n",
       "196   94.2    4.9        8.1   14.0\n",
       "197  177.0    9.3        6.4   14.8\n",
       "198  283.6   42.0       66.2   25.5\n",
       "199  232.1    8.6        8.7   18.4\n",
       "\n",
       "[200 rows x 4 columns]"
      ]
     },
     "execution_count": 1,
     "metadata": {},
     "output_type": "execute_result"
    }
   ],
   "source": [
    "import pandas as pd\n",
    "dat = pd.read_csv('advertising.csv')\n",
    "dat\n",
    "import matplotlib.plot as plt\n",
    "import seaborn as sns"
   ]
  },
  {
   "cell_type": "code",
   "execution_count": null,
   "id": "b0026e78",
   "metadata": {},
   "outputs": [],
   "source": [
    "import sklearn.linear_model as lm\n",
    "reg = lm.LinearReg"
   ]
  },
  {
   "cell_type": "code",
   "execution_count": 2,
   "id": "0bddb9e8",
   "metadata": {},
   "outputs": [
    {
     "name": "stdout",
     "output_type": "stream",
     "text": [
      "Khai báo thành công\n"
     ]
    },
    {
     "ename": "NameError",
     "evalue": "name 'x' is not defined",
     "output_type": "error",
     "traceback": [
      "\u001b[1;31m---------------------------------------------------------------------------\u001b[0m",
      "\u001b[1;31mNameError\u001b[0m                                 Traceback (most recent call last)",
      "Input \u001b[1;32mIn [2]\u001b[0m, in \u001b[0;36m<cell line: 25>\u001b[1;34m()\u001b[0m\n\u001b[0;32m     17\u001b[0m pipeline \u001b[38;5;241m=\u001b[39m Pipeline(\n\u001b[0;32m     18\u001b[0m         [\n\u001b[0;32m     19\u001b[0m             (\u001b[38;5;124m\"\u001b[39m\u001b[38;5;124mpolynomial_features\u001b[39m\u001b[38;5;124m\"\u001b[39m, poly),\n\u001b[0;32m     20\u001b[0m             (\u001b[38;5;124m\"\u001b[39m\u001b[38;5;124mlinear_regression\u001b[39m\u001b[38;5;124m\"\u001b[39m, pr_model)\n\u001b[0;32m     21\u001b[0m         ]\n\u001b[0;32m     22\u001b[0m     )\n\u001b[0;32m     24\u001b[0m \u001b[38;5;66;03m#Tính pipeline\u001b[39;00m\n\u001b[1;32m---> 25\u001b[0m pipeline\u001b[38;5;241m.\u001b[39mfit(\u001b[43mx\u001b[49m\u001b[38;5;241m.\u001b[39mreshape(\u001b[38;5;241m-\u001b[39m\u001b[38;5;241m1\u001b[39m,\u001b[38;5;241m1\u001b[39m), y)\n\u001b[0;32m     27\u001b[0m \u001b[38;5;66;03m#Tạo giá trị y dự đoán\u001b[39;00m\n\u001b[0;32m     28\u001b[0m Y_pred \u001b[38;5;241m=\u001b[39m pipeline\u001b[38;5;241m.\u001b[39mpredict(x\u001b[38;5;241m.\u001b[39mreshape(\u001b[38;5;241m-\u001b[39m\u001b[38;5;241m1\u001b[39m, \u001b[38;5;241m1\u001b[39m))\n",
      "\u001b[1;31mNameError\u001b[0m: name 'x' is not defined"
     ]
    }
   ],
   "source": [
    "import numpy as np\n",
    "import matplotlib.pyplot as plt\n",
    "from sklearn.preprocessing import PolynomialFeatures as pf\n",
    "from sklearn.linear_model import LinearRegression as lr\n",
    "import seaborn as sns\n",
    "print('Khai báo thành công')\n",
    "#Pipeline là 1 quy trình, tương tự như user function\n",
    "from sklearn.pipeline import Pipeline\n",
    "\n",
    "#Chuyển đổi sang bậc cao\n",
    "poly = pf(degree=2)\n",
    "\n",
    "#Tạo model regression\n",
    "pr_model = lr()\n",
    "\n",
    "#Tạo pipeline\n",
    "pipeline = Pipeline(\n",
    "        [\n",
    "            (\"polynomial_features\", poly),\n",
    "            (\"linear_regression\", pr_model)\n",
    "        ]\n",
    "    )\n",
    "\n",
    "#Tính pipeline\n",
    "pipeline.fit(x.reshape(-1,1), y)\n",
    "\n",
    "#Tạo giá trị y dự đoán\n",
    "Y_pred = pipeline.predict(x.reshape(-1, 1))\n",
    "\n",
    "#Vẽ hình\n",
    "sns.scatterplot(x=x, y=y)\n",
    "sns.lineplot(x=x, y=Y_pred, color='r')\n",
    "plt.show()\n",
    "y2\n"
   ]
  },
  {
   "cell_type": "code",
   "execution_count": 3,
   "id": "1a414a6d",
   "metadata": {},
   "outputs": [
    {
     "data": {
      "text/plain": [
       "array([[2100,    5,    1],\n",
       "       [1416,    3,    2],\n",
       "       [1534,    3,    2],\n",
       "       [ 852,    2,    1],\n",
       "       [1600,    3,    2],\n",
       "       [1985,    5,    1],\n",
       "       [1535,    4,    2],\n",
       "       [1050,    2,    1],\n",
       "       [2300,    4,    2],\n",
       "       [1200,    3,    2]])"
      ]
     },
     "execution_count": 3,
     "metadata": {},
     "output_type": "execute_result"
    }
   ],
   "source": [
    "area = [2100,1416,1534,852,1600,1985,1535,1050,2300,1200]\n",
    "bedroom = [5,3,3,2,3,5,4,2,4,3]\n",
    "floor = [1,2,2,1,2,1,2,1,2,2]\n",
    "price = [460,232,315,178,329,420,330,195,450,250]\n",
    "Y = np.asarray(price) #Xử lý Y --> numpy array\n",
    "#Xử lý X\n",
    "X = np.append(np.array(area).reshape(-1, 1), np.array(bedroom).reshape(-1, 1), axis=1)\n",
    "X = np.append(X, np.array(floor).reshape(-1, 1), axis=1)\n",
    "X\n"
   ]
  },
  {
   "cell_type": "code",
   "execution_count": null,
   "id": "552b9f6b",
   "metadata": {},
   "outputs": [],
   "source": [
    "#Nhập dữ liệu\n",
    "x = np.arange(0, 30)\n",
    "y = [3, 4, 5, 7, 10, 8, 9, 10, 10, 23, 27, 44, 50, 63, 67, 60, 62, 70, 75, 88, 81, 87, 95, 100, 108, 135, 151, 160, 169, 179]\n",
    "#Chuyển đổi sang bậc cao (đa thức hóa biến x)\n",
    "poly = pf(degree=2) # khai báo đa thức bậc 2\n",
    "poly_X = poly.fit_transform(x.reshape(-1, 1)) #đa thức hóa\n",
    "poly_X\n"
   ]
  },
  {
   "cell_type": "code",
   "execution_count": 4,
   "id": "c18861f1",
   "metadata": {},
   "outputs": [
    {
     "data": {
      "image/png": "[encoded data removed]",
      "text/plain": [
       "<Figure size 432x288 with 1 Axes>"
      ]
     },
     "metadata": {
      "needs_background": "light"
     },
     "output_type": "display_data"
    }
   ],
   "source": [
    "#Sử dụng pipeline (kiểu mới)\n",
    "from sklearn.preprocessing import StandardScaler\n",
    "zscore = StandardScaler(with_mean=False)\n",
    "demo6_model = lr()\n",
    "#Tạo pipeline\n",
    "pipeline = Pipeline(\n",
    "        [\n",
    "            (\"StandardScaler\", zscore),\n",
    "            (\"linear_regression\", demo6_model)\n",
    "        ]\n",
    "    )\n",
    "pipeline.fit(X,Y)\n",
    "Y_ = pipeline.predict(X)\n",
    "\n",
    "#Vẽ\n",
    "sns.scatterplot(x=X[:,0], y=Y);\n",
    "sns.lineplot(x=X[:,0], y=Y_, color='r');\n"
   ]
  },
  {
   "cell_type": "code",
   "execution_count": 5,
   "id": "bf5a77e0",
   "metadata": {},
   "outputs": [
    {
     "ename": "NameError",
     "evalue": "name 'dat7' is not defined",
     "output_type": "error",
     "traceback": [
      "\u001b[1;31m---------------------------------------------------------------------------\u001b[0m",
      "\u001b[1;31mNameError\u001b[0m                                 Traceback (most recent call last)",
      "Input \u001b[1;32mIn [5]\u001b[0m, in \u001b[0;36m<cell line: 1>\u001b[1;34m()\u001b[0m\n\u001b[1;32m----> 1\u001b[0m dat71 \u001b[38;5;241m=\u001b[39m pd\u001b[38;5;241m.\u001b[39mget_dummies(\u001b[43mdat7\u001b[49m)\n\u001b[0;32m      2\u001b[0m dat71\n\u001b[0;32m      3\u001b[0m dat71 \u001b[38;5;241m=\u001b[39m dat71\u001b[38;5;241m.\u001b[39mdrop(columns \u001b[38;5;241m=\u001b[39m [\u001b[38;5;124m'\u001b[39m\u001b[38;5;124msex_male\u001b[39m\u001b[38;5;124m'\u001b[39m, \u001b[38;5;124m'\u001b[39m\u001b[38;5;124msmoker_no\u001b[39m\u001b[38;5;124m'\u001b[39m])\n",
      "\u001b[1;31mNameError\u001b[0m: name 'dat7' is not defined"
     ]
    }
   ],
   "source": [
    "dat71 = pd.get_dummies(dat7)\n",
    "dat71\n",
    "dat71 = dat71.drop(columns = ['sex_male', 'smoker_no'])\n",
    "dat71\n",
    "import sklearn.model_selection as model_selection\n",
    "\n",
    "train, test = model_selection.train_test_split(dat71, train_size=0.6)\n",
    "train #Đây là train data\n",
    "X = train.drop(columns=['charges'])\n",
    "Y = train.loc[:,'charges']\n"
   ]
  }
 ],
 "metadata": {
  "kernelspec": {
   "display_name": "Python 3 (ipykernel)",
   "language": "python",
   "name": "python3"
  },
  "language_info": {
   "codemirror_mode": {
    "name": "ipython",
    "version": 3
   },
   "file_extension": ".py",
   "mimetype": "text/x-python",
   "name": "python",
   "nbconvert_exporter": "python",
   "pygments_lexer": "ipython3",
   "version": "3.10.4"
  }
 },
 "nbformat": 4,
 "nbformat_minor": 5
}
