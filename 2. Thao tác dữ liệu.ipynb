{
 "cells": [
  {
   "cell_type": "code",
   "execution_count": null,
   "id": "34973af4",
   "metadata": {},
   "outputs": [],
   "source": [
    "##Hợp nhất các cột dữ liệu từ nhiều data frame \n",
    "\n",
    "# Xóa các dòng có thuộc tính ProductID trùng nhau, giữ lại bản ghi cuối cùng, giữ chỉ số ban đầu của các dòng\n",
    "df=df.drop_duplicates(['ProductId'], keep='last')\n",
    "\n",
    "# Xóa các dòng có thuộc tính ProductID trùng nhau, giữ lại bản ghi cuối cùng, thiết lập lại chỉ số\n",
    "df=df.drop_duplicates(['ProductId'],keep='last').reset_index(drop=True)\n",
    "\n",
    "# Tách file chứa thông tin sản phẩm\n",
    "df_pro = df.loc[:,['ProductId','ProductName','UmId','UmName']]\n",
    "\n",
    "# Tách file chứa thông tin giá\n",
    "df_pri = df.loc[:,['ProductId','Place','Month','Year','Price']]\n",
    "\n",
    "# Tách file chứa thông tin giá với số dòng từ bản ghi 10 đến 20\n",
    "df_pri10 = df.loc[10:20,['ProductId','Place','Month','Year','Price']]\n",
    "\n",
    "#Ghép các cột từ các file\n",
    "df1=pd.merge(df_pro,df_pri, on='ProductId')\n",
    "df2=pd.concat([df_pro,df_pri], axis=1)\n",
    "df2=pd.concat([df_pro,df_pri,df_pri10], axis=1)\n",
    "df6=df1.append(df2)\n",
    "# thêm cột\n",
    "df.loc[df.shape[0]] =[...]\n",
    "# sắp xếp lại bảng\n",
    "data = data.sort_index()\n",
    "data = data.reset_index()"
   ]
  },
  {
   "cell_type": "code",
   "execution_count": null,
   "id": "431840ef",
   "metadata": {},
   "outputs": [],
   "source": [
    "#Thêm các cột mới từ các cột có dữ liệu kiểu sốTa có thể sử dụng các phép toán số học: +, -, *, /\n",
    "df['rating'] = df['rating_good'] * 2 + df['rating_normal'] - df['rating_bad'] * 3\n",
    "\n",
    "#Thêm các cột mới từ các cột có dữ liệu kiểu chuỗiTa có thể sử dụng phép toán ghép chuỗi +Phép toán + dùng để nối các chuỗi lại với nhau, ta dùng hàm astype(str) để đổi một giá trị có kiểu bất kỳ về kiểu chuỗi.\n",
    "df['date'] = df['join_month'] + \" \" + df['join_day'].astype(str) + \",\" + df['join_year'].astype(str)\n",
    "\n",
    "#Thêm các cột mới theo điều kiện\n",
    "df['new'] = df['join_year'] == 2021 \n",
    "\n",
    "# Nếu có 2 lựa chọn ta sử dụng np.where\n",
    "# Thêm cột rate có giá trị good nếu rating_good >= 50000,  bad trong trường hợp còn lại\n",
    "import numpy as np\n",
    "df['rate'] = np.where(df['rating_good'] >= 50000,'good','bad' )\n",
    "\n",
    "# Nếu có nhiều hơn 2 lựa chọn ta sử dụng np.select\n",
    "# Thêm cột flag tặng cờ cho các cửa hàng, flag nhận các giá trị như sau:\n",
    "# blue khi rating_good >= 30000 và rating_bad <= 100\n",
    "# yellow khi 10000 <= rating_good < 30000 và 100 < rating_bad <= 1000\n",
    "# red khi rating_good < 10000\n",
    "# black đối với các trường hợp còn lại\n",
    "\n",
    "conditions = [(df['rating_good'] >= 30000) & (df['rating_bad'] <= 100),\n",
    "              (df['rating_good'] >= 10000) & (df['rating_good'] < 30000) & (df['rating_bad'] <= 1000) & (df['rating_bad'] > 100),\n",
    "              (df['rating_good'] < 10000)]\n",
    "choices = ['blue', 'yellow','red']\n",
    "df['flag'] = np.select(conditions, choices, default='black')"
   ]
  },
  {
   "cell_type": "code",
   "execution_count": null,
   "id": "9ce07476",
   "metadata": {},
   "outputs": [],
   "source": [
    "#Tách cột dữ liệu có kiểu chuỗiTa có thể sử dụng các phép toán tách chuỗi splitHàm str.split(‘Ký tự phân cách’) có tác dụng tách chuỗi ban đầu str thành các chuỗi con được ngăn cách nhau bởi ký tự phân cách\n",
    "# Tách cột shop_location thành 2 cột District và City\n",
    "\n",
    "df['District']=df['shop_location'].str.split(',').str[0]\n",
    "df['City']=df['shop_location'].str.split(',').str[1]\n",
    "\n",
    "# Tách cột date_collected thành 3 cột Day, Month, Year\n",
    "df['Day']=pd.to_datetime(df['date_collected'],format='%Y-%m-%d').dt.day\n",
    "df['Month']=pd.to_datetime(df['date_collected'],format='%Y-%m-%d').dt.month\n",
    "df['Year']=pd.to_datetime(df['date_collected'],format='%Y-%m-%d').dt.year\n",
    "\n",
    "# Tách cột response_time thành 3 cột Hour, Minute, Second\n",
    "df['Hour']=pd.to_datetime(df['response_time'],format=' %H:%M:%S').dt.hour\n",
    "df['Minute']=pd.to_datetime(df['response_time'],format=' %H:%M:%S').dt.minute\n",
    "df['Second']=pd.to_datetime(df['response_time'],format=' %H:%M:%S').dt.second"
   ]
  }
 ],
 "metadata": {
  "kernelspec": {
   "display_name": "Python 3 (ipykernel)",
   "language": "python",
   "name": "python3"
  },
  "language_info": {
   "codemirror_mode": {
    "name": "ipython",
    "version": 3
   },
   "file_extension": ".py",
   "mimetype": "text/x-python",
   "name": "python",
   "nbconvert_exporter": "python",
   "pygments_lexer": "ipython3",
   "version": "3.10.4"
  }
 },
 "nbformat": 4,
 "nbformat_minor": 5
}
