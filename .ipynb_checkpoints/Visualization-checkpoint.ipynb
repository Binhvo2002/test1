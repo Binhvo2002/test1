{
 "cells": [
  {
   "cell_type": "code",
   "execution_count": 33,
   "id": "fe162e09",
   "metadata": {},
   "outputs": [
    {
     "ename": "KeyError",
     "evalue": "'x'",
     "output_type": "error",
     "traceback": [
      "\u001b[1;31m---------------------------------------------------------------------------\u001b[0m",
      "\u001b[1;31mKeyError\u001b[0m                                  Traceback (most recent call last)",
      "File \u001b[1;32m~\\AppData\\Local\\Programs\\Python\\Python310\\lib\\site-packages\\pandas\\core\\indexes\\base.py:3800\u001b[0m, in \u001b[0;36mIndex.get_loc\u001b[1;34m(self, key, method, tolerance)\u001b[0m\n\u001b[0;32m   3799\u001b[0m \u001b[38;5;28;01mtry\u001b[39;00m:\n\u001b[1;32m-> 3800\u001b[0m     \u001b[38;5;28;01mreturn\u001b[39;00m \u001b[38;5;28;43mself\u001b[39;49m\u001b[38;5;241;43m.\u001b[39;49m\u001b[43m_engine\u001b[49m\u001b[38;5;241;43m.\u001b[39;49m\u001b[43mget_loc\u001b[49m\u001b[43m(\u001b[49m\u001b[43mcasted_key\u001b[49m\u001b[43m)\u001b[49m\n\u001b[0;32m   3801\u001b[0m \u001b[38;5;28;01mexcept\u001b[39;00m \u001b[38;5;167;01mKeyError\u001b[39;00m \u001b[38;5;28;01mas\u001b[39;00m err:\n",
      "File \u001b[1;32m~\\AppData\\Local\\Programs\\Python\\Python310\\lib\\site-packages\\pandas\\_libs\\index.pyx:138\u001b[0m, in \u001b[0;36mpandas._libs.index.IndexEngine.get_loc\u001b[1;34m()\u001b[0m\n",
      "File \u001b[1;32m~\\AppData\\Local\\Programs\\Python\\Python310\\lib\\site-packages\\pandas\\_libs\\index.pyx:165\u001b[0m, in \u001b[0;36mpandas._libs.index.IndexEngine.get_loc\u001b[1;34m()\u001b[0m\n",
      "File \u001b[1;32mpandas\\_libs\\hashtable_class_helper.pxi:5745\u001b[0m, in \u001b[0;36mpandas._libs.hashtable.PyObjectHashTable.get_item\u001b[1;34m()\u001b[0m\n",
      "File \u001b[1;32mpandas\\_libs\\hashtable_class_helper.pxi:5753\u001b[0m, in \u001b[0;36mpandas._libs.hashtable.PyObjectHashTable.get_item\u001b[1;34m()\u001b[0m\n",
      "\u001b[1;31mKeyError\u001b[0m: 'x'",
      "\nThe above exception was the direct cause of the following exception:\n",
      "\u001b[1;31mKeyError\u001b[0m                                  Traceback (most recent call last)",
      "Input \u001b[1;32mIn [33]\u001b[0m, in \u001b[0;36m<cell line: 27>\u001b[1;34m()\u001b[0m\n\u001b[0;32m     17\u001b[0m plt\u001b[38;5;241m.\u001b[39mxlabel(\u001b[38;5;124m'\u001b[39m\u001b[38;5;124mTrục x\u001b[39m\u001b[38;5;124m'\u001b[39m, fontdict \u001b[38;5;241m=\u001b[39m {\u001b[38;5;124m'\u001b[39m\u001b[38;5;124mfontsize\u001b[39m\u001b[38;5;124m'\u001b[39m: \u001b[38;5;241m20\u001b[39m,\n\u001b[0;32m     18\u001b[0m                     \u001b[38;5;124m'\u001b[39m\u001b[38;5;124mfontweight\u001b[39m\u001b[38;5;124m'\u001b[39m: \u001b[38;5;241m20\u001b[39m,\n\u001b[0;32m     19\u001b[0m \u001b[38;5;66;03m#                      'loc': 'right'\u001b[39;00m\n\u001b[0;32m     20\u001b[0m                      \u001b[38;5;124m'\u001b[39m\u001b[38;5;124mhorizontalalignment\u001b[39m\u001b[38;5;124m'\u001b[39m: \u001b[38;5;124m'\u001b[39m\u001b[38;5;124mcenter\u001b[39m\u001b[38;5;124m'\u001b[39m,\n\u001b[0;32m     21\u001b[0m                      \u001b[38;5;124m'\u001b[39m\u001b[38;5;124mcolor\u001b[39m\u001b[38;5;124m'\u001b[39m: \u001b[38;5;124m'\u001b[39m\u001b[38;5;124mred\u001b[39m\u001b[38;5;124m'\u001b[39m})\n\u001b[0;32m     22\u001b[0m plt\u001b[38;5;241m.\u001b[39mylabel(\u001b[38;5;124m'\u001b[39m\u001b[38;5;124mTrục y\u001b[39m\u001b[38;5;124m'\u001b[39m, fontdict \u001b[38;5;241m=\u001b[39m {\u001b[38;5;124m'\u001b[39m\u001b[38;5;124mfontsize\u001b[39m\u001b[38;5;124m'\u001b[39m: \u001b[38;5;241m20\u001b[39m,\n\u001b[0;32m     23\u001b[0m                     \u001b[38;5;124m'\u001b[39m\u001b[38;5;124mfontweight\u001b[39m\u001b[38;5;124m'\u001b[39m: \u001b[38;5;241m20\u001b[39m,\n\u001b[0;32m     24\u001b[0m                      \n\u001b[0;32m     25\u001b[0m                      \u001b[38;5;124m'\u001b[39m\u001b[38;5;124mhorizontalalignment\u001b[39m\u001b[38;5;124m'\u001b[39m: \u001b[38;5;124m'\u001b[39m\u001b[38;5;124mcenter\u001b[39m\u001b[38;5;124m'\u001b[39m,\n\u001b[0;32m     26\u001b[0m                      \u001b[38;5;124m'\u001b[39m\u001b[38;5;124mcolor\u001b[39m\u001b[38;5;124m'\u001b[39m: \u001b[38;5;124m'\u001b[39m\u001b[38;5;124myellow\u001b[39m\u001b[38;5;124m'\u001b[39m})\n\u001b[1;32m---> 27\u001b[0m plt\u001b[38;5;241m.\u001b[39mplot(\u001b[43mdata\u001b[49m\u001b[38;5;241;43m.\u001b[39;49m\u001b[43mloc\u001b[49m\u001b[43m[\u001b[49m\u001b[43m:\u001b[49m\u001b[43m,\u001b[49m\u001b[38;5;124;43m'\u001b[39;49m\u001b[38;5;124;43mx\u001b[39;49m\u001b[38;5;124;43m'\u001b[39;49m\u001b[43m]\u001b[49m,data\u001b[38;5;241m.\u001b[39mloc[:,\u001b[38;5;124m'\u001b[39m\u001b[38;5;124my\u001b[39m\u001b[38;5;124m'\u001b[39m])\n\u001b[0;32m     28\u001b[0m plt\u001b[38;5;241m.\u001b[39mshow()\n\u001b[0;32m     29\u001b[0m axes \u001b[38;5;241m=\u001b[39m plt\u001b[38;5;241m.\u001b[39mgca()\n",
      "File \u001b[1;32m~\\AppData\\Local\\Programs\\Python\\Python310\\lib\\site-packages\\pandas\\core\\indexing.py:1068\u001b[0m, in \u001b[0;36m_LocationIndexer.__getitem__\u001b[1;34m(self, key)\u001b[0m\n\u001b[0;32m   1066\u001b[0m     \u001b[38;5;28;01mif\u001b[39;00m \u001b[38;5;28mself\u001b[39m\u001b[38;5;241m.\u001b[39m_is_scalar_access(key):\n\u001b[0;32m   1067\u001b[0m         \u001b[38;5;28;01mreturn\u001b[39;00m \u001b[38;5;28mself\u001b[39m\u001b[38;5;241m.\u001b[39mobj\u001b[38;5;241m.\u001b[39m_get_value(\u001b[38;5;241m*\u001b[39mkey, takeable\u001b[38;5;241m=\u001b[39m\u001b[38;5;28mself\u001b[39m\u001b[38;5;241m.\u001b[39m_takeable)\n\u001b[1;32m-> 1068\u001b[0m     \u001b[38;5;28;01mreturn\u001b[39;00m \u001b[38;5;28;43mself\u001b[39;49m\u001b[38;5;241;43m.\u001b[39;49m\u001b[43m_getitem_tuple\u001b[49m\u001b[43m(\u001b[49m\u001b[43mkey\u001b[49m\u001b[43m)\u001b[49m\n\u001b[0;32m   1069\u001b[0m \u001b[38;5;28;01melse\u001b[39;00m:\n\u001b[0;32m   1070\u001b[0m     \u001b[38;5;66;03m# we by definition only have the 0th axis\u001b[39;00m\n\u001b[0;32m   1071\u001b[0m     axis \u001b[38;5;241m=\u001b[39m \u001b[38;5;28mself\u001b[39m\u001b[38;5;241m.\u001b[39maxis \u001b[38;5;129;01mor\u001b[39;00m \u001b[38;5;241m0\u001b[39m\n",
      "File \u001b[1;32m~\\AppData\\Local\\Programs\\Python\\Python310\\lib\\site-packages\\pandas\\core\\indexing.py:1248\u001b[0m, in \u001b[0;36m_LocIndexer._getitem_tuple\u001b[1;34m(self, tup)\u001b[0m\n\u001b[0;32m   1246\u001b[0m \u001b[38;5;28;01mwith\u001b[39;00m suppress(IndexingError):\n\u001b[0;32m   1247\u001b[0m     tup \u001b[38;5;241m=\u001b[39m \u001b[38;5;28mself\u001b[39m\u001b[38;5;241m.\u001b[39m_expand_ellipsis(tup)\n\u001b[1;32m-> 1248\u001b[0m     \u001b[38;5;28;01mreturn\u001b[39;00m \u001b[38;5;28;43mself\u001b[39;49m\u001b[38;5;241;43m.\u001b[39;49m\u001b[43m_getitem_lowerdim\u001b[49m\u001b[43m(\u001b[49m\u001b[43mtup\u001b[49m\u001b[43m)\u001b[49m\n\u001b[0;32m   1250\u001b[0m \u001b[38;5;66;03m# no multi-index, so validate all of the indexers\u001b[39;00m\n\u001b[0;32m   1251\u001b[0m tup \u001b[38;5;241m=\u001b[39m \u001b[38;5;28mself\u001b[39m\u001b[38;5;241m.\u001b[39m_validate_tuple_indexer(tup)\n",
      "File \u001b[1;32m~\\AppData\\Local\\Programs\\Python\\Python310\\lib\\site-packages\\pandas\\core\\indexing.py:968\u001b[0m, in \u001b[0;36m_LocationIndexer._getitem_lowerdim\u001b[1;34m(self, tup)\u001b[0m\n\u001b[0;32m    964\u001b[0m \u001b[38;5;28;01mfor\u001b[39;00m i, key \u001b[38;5;129;01min\u001b[39;00m \u001b[38;5;28menumerate\u001b[39m(tup):\n\u001b[0;32m    965\u001b[0m     \u001b[38;5;28;01mif\u001b[39;00m is_label_like(key):\n\u001b[0;32m    966\u001b[0m         \u001b[38;5;66;03m# We don't need to check for tuples here because those are\u001b[39;00m\n\u001b[0;32m    967\u001b[0m         \u001b[38;5;66;03m#  caught by the _is_nested_tuple_indexer check above.\u001b[39;00m\n\u001b[1;32m--> 968\u001b[0m         section \u001b[38;5;241m=\u001b[39m \u001b[38;5;28;43mself\u001b[39;49m\u001b[38;5;241;43m.\u001b[39;49m\u001b[43m_getitem_axis\u001b[49m\u001b[43m(\u001b[49m\u001b[43mkey\u001b[49m\u001b[43m,\u001b[49m\u001b[43m \u001b[49m\u001b[43maxis\u001b[49m\u001b[38;5;241;43m=\u001b[39;49m\u001b[43mi\u001b[49m\u001b[43m)\u001b[49m\n\u001b[0;32m    970\u001b[0m         \u001b[38;5;66;03m# We should never have a scalar section here, because\u001b[39;00m\n\u001b[0;32m    971\u001b[0m         \u001b[38;5;66;03m#  _getitem_lowerdim is only called after a check for\u001b[39;00m\n\u001b[0;32m    972\u001b[0m         \u001b[38;5;66;03m#  is_scalar_access, which that would be.\u001b[39;00m\n\u001b[0;32m    973\u001b[0m         \u001b[38;5;28;01mif\u001b[39;00m section\u001b[38;5;241m.\u001b[39mndim \u001b[38;5;241m==\u001b[39m \u001b[38;5;28mself\u001b[39m\u001b[38;5;241m.\u001b[39mndim:\n\u001b[0;32m    974\u001b[0m             \u001b[38;5;66;03m# we're in the middle of slicing through a MultiIndex\u001b[39;00m\n\u001b[0;32m    975\u001b[0m             \u001b[38;5;66;03m# revise the key wrt to `section` by inserting an _NS\u001b[39;00m\n",
      "File \u001b[1;32m~\\AppData\\Local\\Programs\\Python\\Python310\\lib\\site-packages\\pandas\\core\\indexing.py:1313\u001b[0m, in \u001b[0;36m_LocIndexer._getitem_axis\u001b[1;34m(self, key, axis)\u001b[0m\n\u001b[0;32m   1311\u001b[0m \u001b[38;5;66;03m# fall thru to straight lookup\u001b[39;00m\n\u001b[0;32m   1312\u001b[0m \u001b[38;5;28mself\u001b[39m\u001b[38;5;241m.\u001b[39m_validate_key(key, axis)\n\u001b[1;32m-> 1313\u001b[0m \u001b[38;5;28;01mreturn\u001b[39;00m \u001b[38;5;28;43mself\u001b[39;49m\u001b[38;5;241;43m.\u001b[39;49m\u001b[43m_get_label\u001b[49m\u001b[43m(\u001b[49m\u001b[43mkey\u001b[49m\u001b[43m,\u001b[49m\u001b[43m \u001b[49m\u001b[43maxis\u001b[49m\u001b[38;5;241;43m=\u001b[39;49m\u001b[43maxis\u001b[49m\u001b[43m)\u001b[49m\n",
      "File \u001b[1;32m~\\AppData\\Local\\Programs\\Python\\Python310\\lib\\site-packages\\pandas\\core\\indexing.py:1261\u001b[0m, in \u001b[0;36m_LocIndexer._get_label\u001b[1;34m(self, label, axis)\u001b[0m\n\u001b[0;32m   1259\u001b[0m \u001b[38;5;28;01mdef\u001b[39;00m \u001b[38;5;21m_get_label\u001b[39m(\u001b[38;5;28mself\u001b[39m, label, axis: \u001b[38;5;28mint\u001b[39m):\n\u001b[0;32m   1260\u001b[0m     \u001b[38;5;66;03m# GH#5567 this will fail if the label is not present in the axis.\u001b[39;00m\n\u001b[1;32m-> 1261\u001b[0m     \u001b[38;5;28;01mreturn\u001b[39;00m \u001b[38;5;28;43mself\u001b[39;49m\u001b[38;5;241;43m.\u001b[39;49m\u001b[43mobj\u001b[49m\u001b[38;5;241;43m.\u001b[39;49m\u001b[43mxs\u001b[49m\u001b[43m(\u001b[49m\u001b[43mlabel\u001b[49m\u001b[43m,\u001b[49m\u001b[43m \u001b[49m\u001b[43maxis\u001b[49m\u001b[38;5;241;43m=\u001b[39;49m\u001b[43maxis\u001b[49m\u001b[43m)\u001b[49m\n",
      "File \u001b[1;32m~\\AppData\\Local\\Programs\\Python\\Python310\\lib\\site-packages\\pandas\\core\\generic.py:4042\u001b[0m, in \u001b[0;36mNDFrame.xs\u001b[1;34m(self, key, axis, level, drop_level)\u001b[0m\n\u001b[0;32m   4040\u001b[0m \u001b[38;5;28;01mif\u001b[39;00m axis \u001b[38;5;241m==\u001b[39m \u001b[38;5;241m1\u001b[39m:\n\u001b[0;32m   4041\u001b[0m     \u001b[38;5;28;01mif\u001b[39;00m drop_level:\n\u001b[1;32m-> 4042\u001b[0m         \u001b[38;5;28;01mreturn\u001b[39;00m \u001b[38;5;28;43mself\u001b[39;49m\u001b[43m[\u001b[49m\u001b[43mkey\u001b[49m\u001b[43m]\u001b[49m\n\u001b[0;32m   4043\u001b[0m     index \u001b[38;5;241m=\u001b[39m \u001b[38;5;28mself\u001b[39m\u001b[38;5;241m.\u001b[39mcolumns\n\u001b[0;32m   4044\u001b[0m \u001b[38;5;28;01melse\u001b[39;00m:\n",
      "File \u001b[1;32m~\\AppData\\Local\\Programs\\Python\\Python310\\lib\\site-packages\\pandas\\core\\frame.py:3805\u001b[0m, in \u001b[0;36mDataFrame.__getitem__\u001b[1;34m(self, key)\u001b[0m\n\u001b[0;32m   3803\u001b[0m \u001b[38;5;28;01mif\u001b[39;00m \u001b[38;5;28mself\u001b[39m\u001b[38;5;241m.\u001b[39mcolumns\u001b[38;5;241m.\u001b[39mnlevels \u001b[38;5;241m>\u001b[39m \u001b[38;5;241m1\u001b[39m:\n\u001b[0;32m   3804\u001b[0m     \u001b[38;5;28;01mreturn\u001b[39;00m \u001b[38;5;28mself\u001b[39m\u001b[38;5;241m.\u001b[39m_getitem_multilevel(key)\n\u001b[1;32m-> 3805\u001b[0m indexer \u001b[38;5;241m=\u001b[39m \u001b[38;5;28;43mself\u001b[39;49m\u001b[38;5;241;43m.\u001b[39;49m\u001b[43mcolumns\u001b[49m\u001b[38;5;241;43m.\u001b[39;49m\u001b[43mget_loc\u001b[49m\u001b[43m(\u001b[49m\u001b[43mkey\u001b[49m\u001b[43m)\u001b[49m\n\u001b[0;32m   3806\u001b[0m \u001b[38;5;28;01mif\u001b[39;00m is_integer(indexer):\n\u001b[0;32m   3807\u001b[0m     indexer \u001b[38;5;241m=\u001b[39m [indexer]\n",
      "File \u001b[1;32m~\\AppData\\Local\\Programs\\Python\\Python310\\lib\\site-packages\\pandas\\core\\indexes\\base.py:3802\u001b[0m, in \u001b[0;36mIndex.get_loc\u001b[1;34m(self, key, method, tolerance)\u001b[0m\n\u001b[0;32m   3800\u001b[0m     \u001b[38;5;28;01mreturn\u001b[39;00m \u001b[38;5;28mself\u001b[39m\u001b[38;5;241m.\u001b[39m_engine\u001b[38;5;241m.\u001b[39mget_loc(casted_key)\n\u001b[0;32m   3801\u001b[0m \u001b[38;5;28;01mexcept\u001b[39;00m \u001b[38;5;167;01mKeyError\u001b[39;00m \u001b[38;5;28;01mas\u001b[39;00m err:\n\u001b[1;32m-> 3802\u001b[0m     \u001b[38;5;28;01mraise\u001b[39;00m \u001b[38;5;167;01mKeyError\u001b[39;00m(key) \u001b[38;5;28;01mfrom\u001b[39;00m \u001b[38;5;21;01merr\u001b[39;00m\n\u001b[0;32m   3803\u001b[0m \u001b[38;5;28;01mexcept\u001b[39;00m \u001b[38;5;167;01mTypeError\u001b[39;00m:\n\u001b[0;32m   3804\u001b[0m     \u001b[38;5;66;03m# If we have a listlike key, _check_indexing_error will raise\u001b[39;00m\n\u001b[0;32m   3805\u001b[0m     \u001b[38;5;66;03m#  InvalidIndexError. Otherwise we fall through and re-raise\u001b[39;00m\n\u001b[0;32m   3806\u001b[0m     \u001b[38;5;66;03m#  the TypeError.\u001b[39;00m\n\u001b[0;32m   3807\u001b[0m     \u001b[38;5;28mself\u001b[39m\u001b[38;5;241m.\u001b[39m_check_indexing_error(key)\n",
      "\u001b[1;31mKeyError\u001b[0m: 'x'"
     ]
    },
    {
     "data": {
      "image/png": "[encoded data removed]",
      "text/plain": [
       "<Figure size 432x288 with 1 Axes>"
      ]
     },
     "metadata": {
      "needs_background": "light"
     },
     "output_type": "display_data"
    }
   ],
   "source": [
    "import matplotlib.pyplot as plt\n",
    "import pandas as pd\n",
    "import numpy as np\n",
    "\n",
    "x = [2,4,6,8,10]\n",
    "y = [12.2, 16.3, 20.5, 25.4, 31.2]\n",
    "plt.plot(x,y)\n",
    "# data = pd.DataFrame()\n",
    "# data.loc[:,'x'] = pd.DataFrame(x_)\n",
    "# data.loc[:,'y'] = pd.DataFrame(y_)\n",
    "plt.title(\"Đô thì x theo y\",\n",
    "         fontdict = {'fontsize': 20,\n",
    "                    'fontweight': 20,\n",
    "                     'verticalalignment': 'center',\n",
    "                     'horizontalalignment': 'center',\n",
    "                     'color': 'green'})\n",
    "plt.xlabel('Trục x', fontdict = {'fontsize': 20,\n",
    "                    'fontweight': 20,\n",
    "#                      'loc': 'right'\n",
    "                     'horizontalalignment': 'center',\n",
    "                     'color': 'red'})\n",
    "plt.ylabel('Trục y', fontdict = {'fontsize': 20,\n",
    "                    'fontweight': 20,\n",
    "                     \n",
    "                     'horizontalalignment': 'center',\n",
    "                     'color': 'yellow'})\n",
    "plt.plot(data.loc[:,'x'],data.loc[:,'y'])\n",
    "plt.show()\n",
    "axes = plt.gca()\n",
    "axes.set_title()"
   ]
  },
  {
   "cell_type": "code",
   "execution_count": 5,
   "id": "1c42d3e7",
   "metadata": {},
   "outputs": [
    {
     "data": {
      "text/html": [
       "<div>\n",
       "<style scoped>\n",
       "    .dataframe tbody tr th:only-of-type {\n",
       "        vertical-align: middle;\n",
       "    }\n",
       "\n",
       "    .dataframe tbody tr th {\n",
       "        vertical-align: top;\n",
       "    }\n",
       "\n",
       "    .dataframe thead th {\n",
       "        text-align: right;\n",
       "    }\n",
       "</style>\n",
       "<table border=\"1\" class=\"dataframe\">\n",
       "  <thead>\n",
       "    <tr style=\"text-align: right;\">\n",
       "      <th></th>\n",
       "      <th>Country</th>\n",
       "      <th>Continent</th>\n",
       "      <th>GDP (millions of US$)</th>\n",
       "    </tr>\n",
       "  </thead>\n",
       "  <tbody>\n",
       "    <tr>\n",
       "      <th>0</th>\n",
       "      <td>Afghanistan</td>\n",
       "      <td>Asia</td>\n",
       "      <td>18181</td>\n",
       "    </tr>\n",
       "    <tr>\n",
       "      <th>1</th>\n",
       "      <td>Albania</td>\n",
       "      <td>Europe</td>\n",
       "      <td>12847</td>\n",
       "    </tr>\n",
       "    <tr>\n",
       "      <th>2</th>\n",
       "      <td>Algeria</td>\n",
       "      <td>Africa</td>\n",
       "      <td>190709</td>\n",
       "    </tr>\n",
       "    <tr>\n",
       "      <th>3</th>\n",
       "      <td>Angola</td>\n",
       "      <td>Africa</td>\n",
       "      <td>100948</td>\n",
       "    </tr>\n",
       "    <tr>\n",
       "      <th>4</th>\n",
       "      <td>Argentina</td>\n",
       "      <td>South America</td>\n",
       "      <td>447644</td>\n",
       "    </tr>\n",
       "    <tr>\n",
       "      <th>...</th>\n",
       "      <td>...</td>\n",
       "      <td>...</td>\n",
       "      <td>...</td>\n",
       "    </tr>\n",
       "    <tr>\n",
       "      <th>120</th>\n",
       "      <td>Uzbekistan</td>\n",
       "      <td>Asia</td>\n",
       "      <td>45353</td>\n",
       "    </tr>\n",
       "    <tr>\n",
       "      <th>121</th>\n",
       "      <td>Venezuela</td>\n",
       "      <td>South America</td>\n",
       "      <td>315841</td>\n",
       "    </tr>\n",
       "    <tr>\n",
       "      <th>122</th>\n",
       "      <td>Vietnam</td>\n",
       "      <td>Asia</td>\n",
       "      <td>122722</td>\n",
       "    </tr>\n",
       "    <tr>\n",
       "      <th>123</th>\n",
       "      <td>Yemen</td>\n",
       "      <td>Africa</td>\n",
       "      <td>33675</td>\n",
       "    </tr>\n",
       "    <tr>\n",
       "      <th>124</th>\n",
       "      <td>Zambia</td>\n",
       "      <td>Africa</td>\n",
       "      <td>19206</td>\n",
       "    </tr>\n",
       "  </tbody>\n",
       "</table>\n",
       "<p>125 rows × 3 columns</p>\n",
       "</div>"
      ],
      "text/plain": [
       "          Country      Continent  GDP (millions of US$)\n",
       "0     Afghanistan           Asia                  18181\n",
       "1         Albania         Europe                  12847\n",
       "2         Algeria         Africa                 190709\n",
       "3          Angola         Africa                 100948\n",
       "4       Argentina  South America                 447644\n",
       "..            ...            ...                    ...\n",
       "120    Uzbekistan           Asia                  45353\n",
       "121     Venezuela  South America                 315841\n",
       "122       Vietnam           Asia                 122722\n",
       "123         Yemen         Africa                  33675\n",
       "124        Zambia         Africa                  19206\n",
       "\n",
       "[125 rows x 3 columns]"
      ]
     },
     "execution_count": 5,
     "metadata": {},
     "output_type": "execute_result"
    }
   ],
   "source": [
    "import pandas as pd\n",
    "from matplotlib import pyplot as plt\n",
    "import numpy as np\n",
    "data = pd.read_csv('GDPlist.csv', header=0, encoding= 'ISO-8859-1')\n",
    "data\n"
   ]
  },
  {
   "cell_type": "code",
   "execution_count": 15,
   "id": "28e674b3",
   "metadata": {},
   "outputs": [
    {
     "data": {
      "text/html": [
       "<div>\n",
       "<style scoped>\n",
       "    .dataframe tbody tr th:only-of-type {\n",
       "        vertical-align: middle;\n",
       "    }\n",
       "\n",
       "    .dataframe tbody tr th {\n",
       "        vertical-align: top;\n",
       "    }\n",
       "\n",
       "    .dataframe thead th {\n",
       "        text-align: right;\n",
       "    }\n",
       "</style>\n",
       "<table border=\"1\" class=\"dataframe\">\n",
       "  <thead>\n",
       "    <tr style=\"text-align: right;\">\n",
       "      <th></th>\n",
       "      <th>Country</th>\n",
       "      <th>Continent</th>\n",
       "      <th>GDP (millions of US$)</th>\n",
       "    </tr>\n",
       "  </thead>\n",
       "  <tbody>\n",
       "    <tr>\n",
       "      <th>4</th>\n",
       "      <td>Argentina</td>\n",
       "      <td>South America</td>\n",
       "      <td>447644</td>\n",
       "    </tr>\n",
       "    <tr>\n",
       "      <th>15</th>\n",
       "      <td>Brazil</td>\n",
       "      <td>South America</td>\n",
       "      <td>2492908</td>\n",
       "    </tr>\n",
       "    <tr>\n",
       "      <th>22</th>\n",
       "      <td>Chile</td>\n",
       "      <td>South America</td>\n",
       "      <td>248411</td>\n",
       "    </tr>\n",
       "    <tr>\n",
       "      <th>24</th>\n",
       "      <td>Colombia</td>\n",
       "      <td>South America</td>\n",
       "      <td>328422</td>\n",
       "    </tr>\n",
       "    <tr>\n",
       "      <th>34</th>\n",
       "      <td>Ecuador</td>\n",
       "      <td>South America</td>\n",
       "      <td>66381</td>\n",
       "    </tr>\n",
       "    <tr>\n",
       "      <th>86</th>\n",
       "      <td>Paraguay</td>\n",
       "      <td>South America</td>\n",
       "      <td>21236</td>\n",
       "    </tr>\n",
       "    <tr>\n",
       "      <th>87</th>\n",
       "      <td>Peru</td>\n",
       "      <td>South America</td>\n",
       "      <td>173502</td>\n",
       "    </tr>\n",
       "    <tr>\n",
       "      <th>119</th>\n",
       "      <td>Uruguay</td>\n",
       "      <td>South America</td>\n",
       "      <td>46872</td>\n",
       "    </tr>\n",
       "    <tr>\n",
       "      <th>121</th>\n",
       "      <td>Venezuela</td>\n",
       "      <td>South America</td>\n",
       "      <td>315841</td>\n",
       "    </tr>\n",
       "  </tbody>\n",
       "</table>\n",
       "</div>"
      ],
      "text/plain": [
       "        Country      Continent  GDP (millions of US$)\n",
       "4     Argentina  South America                 447644\n",
       "15       Brazil  South America                2492908\n",
       "22        Chile  South America                 248411\n",
       "24     Colombia  South America                 328422\n",
       "34      Ecuador  South America                  66381\n",
       "86     Paraguay  South America                  21236\n",
       "87         Peru  South America                 173502\n",
       "119     Uruguay  South America                  46872\n",
       "121   Venezuela  South America                 315841"
      ]
     },
     "execution_count": 15,
     "metadata": {},
     "output_type": "execute_result"
    }
   ],
   "source": [
    "SA = data.loc[data.loc[:,'Continent'] == 'South America']\n",
    "SA"
   ]
  },
  {
   "cell_type": "code",
   "execution_count": 32,
   "id": "f555a802",
   "metadata": {},
   "outputs": [
    {
     "data": {
      "image/png": "[encoded data removed]",
      "text/plain": [
       "<Figure size 432x288 with 1 Axes>"
      ]
     },
     "metadata": {
      "needs_background": "light"
     },
     "output_type": "display_data"
    }
   ],
   "source": [
    "SA = SA.sort_values(by=\"GDP (millions of US$)\")\n",
    "plt.bar(x=SA.loc[:,'Country'], height= SA.loc[:,'GDP (millions of US$)']/1000)\n",
    "plt.xticks(rotation=45)\n",
    "plt.title(\"So sánh GDP các quốc gia Nam Mỹ\")\n",
    "plt.ylabel(\"Billions\")\n",
    "plt.show()\n",
    "## Trong 9 nước Nam Mỹ thì Brazil là quốc gia có thu nhập GDP cao nhất và vượt trội hẳn và vượt lên hẳn tổng ản phẩm quốc nội\n",
    "## Ngoài ra còn có thể chia thành 2 nhóm \n",
    "## Nhóm trung bình: Peru, Chille, Venezuela, Colombia, Argentina\n",
    "## Nhóm thấp: Paraguay, Uruguay và Ecuador"
   ]
  },
  {
   "cell_type": "code",
   "execution_count": 49,
   "id": "25d3c195",
   "metadata": {},
   "outputs": [
    {
     "data": {
      "text/html": [
       "<div>\n",
       "<style scoped>\n",
       "    .dataframe tbody tr th:only-of-type {\n",
       "        vertical-align: middle;\n",
       "    }\n",
       "\n",
       "    .dataframe tbody tr th {\n",
       "        vertical-align: top;\n",
       "    }\n",
       "\n",
       "    .dataframe thead th {\n",
       "        text-align: right;\n",
       "    }\n",
       "</style>\n",
       "<table border=\"1\" class=\"dataframe\">\n",
       "  <thead>\n",
       "    <tr style=\"text-align: right;\">\n",
       "      <th></th>\n",
       "      <th>Country</th>\n",
       "      <th>Continent</th>\n",
       "      <th>GDP (millions of US$)</th>\n",
       "    </tr>\n",
       "  </thead>\n",
       "  <tbody>\n",
       "    <tr>\n",
       "      <th>19</th>\n",
       "      <td>Cambodia</td>\n",
       "      <td>Asia</td>\n",
       "      <td>12861</td>\n",
       "    </tr>\n",
       "    <tr>\n",
       "      <th>53</th>\n",
       "      <td>Indonesia</td>\n",
       "      <td>Asia</td>\n",
       "      <td>845680</td>\n",
       "    </tr>\n",
       "    <tr>\n",
       "      <th>70</th>\n",
       "      <td>Malaysia</td>\n",
       "      <td>Asia</td>\n",
       "      <td>278680</td>\n",
       "    </tr>\n",
       "    <tr>\n",
       "      <th>122</th>\n",
       "      <td>Vietnam</td>\n",
       "      <td>Asia</td>\n",
       "      <td>122722</td>\n",
       "    </tr>\n",
       "  </tbody>\n",
       "</table>\n",
       "</div>"
      ],
      "text/plain": [
       "        Country Continent  GDP (millions of US$)\n",
       "19     Cambodia      Asia                  12861\n",
       "53    Indonesia      Asia                 845680\n",
       "70     Malaysia      Asia                 278680\n",
       "122     Vietnam      Asia                 122722"
      ]
     },
     "execution_count": 49,
     "metadata": {},
     "output_type": "execute_result"
    }
   ],
   "source": [
    "sea_ = ['\\xa0Vietnam', '\\xa0Indonesia', '\\xa0Cambodia', ' \\xa0Thailand','\\xa0Malaysia']\n",
    "\n",
    "SEA = data.loc[data.loc[:,\"Country\"].isin(sea_)]\n",
    "SEA\n"
   ]
  },
  {
   "cell_type": "code",
   "execution_count": 55,
   "id": "145650a9",
   "metadata": {},
   "outputs": [
    {
     "data": {
      "image/png": "[encoded data removed]",
      "text/plain": [
       "<Figure size 432x288 with 1 Axes>"
      ]
     },
     "metadata": {},
     "output_type": "display_data"
    }
   ],
   "source": [
    "plt.pie(SEA.loc[:,'GDP (millions of US$)'], labels = SEA.loc[:,'Country'], autopct = '%1.2f%%')\n",
    "plt.show()"
   ]
  },
  {
   "cell_type": "code",
   "execution_count": null,
   "id": "718c2636",
   "metadata": {},
   "outputs": [],
   "source": []
  },
  {
   "cell_type": "code",
   "execution_count": 40,
   "id": "cf57dd40",
   "metadata": {},
   "outputs": [
    {
     "data": {
      "text/plain": [
       "array(['\\xa0Afghanistan', '\\xa0Albania', '\\xa0Algeria', '\\xa0Angola',\n",
       "       '\\xa0Argentina', '\\xa0Australia', '\\xa0Austria', '\\xa0Azerbaijan',\n",
       "       '\\xa0Bahrain', '\\xa0Bangladesh', '\\xa0Belarus', '\\xa0Belgium',\n",
       "       '\\xa0Bolivia', '\\xa0Bosnia and Herzegovina', '\\xa0Botswana',\n",
       "       '\\xa0Brazil', '\\xa0Brunei', '\\xa0Bulgaria', '\\xa0Burma',\n",
       "       '\\xa0Cambodia', '\\xa0Cameroon', '\\xa0Canada', '\\xa0Chile',\n",
       "       '\\xa0China', '\\xa0Colombia',\n",
       "       '\\xa0Congo, Democratic Republic of the',\n",
       "       '\\xa0Congo, Republic of the', '\\xa0Costa Rica',\n",
       "       \"\\xa0Côte d'Ivoire\", '\\xa0Croatia', '\\xa0Cyprus',\n",
       "       '\\xa0Czech Republic', '\\xa0Denmark', '\\xa0Dominican Republic',\n",
       "       '\\xa0Ecuador', '\\xa0Egypt', '\\xa0El Salvador',\n",
       "       '\\xa0Equatorial Guinea', '\\xa0Estonia', '\\xa0Ethiopia',\n",
       "       '\\xa0Finland', '\\xa0France', '\\xa0Gabon', '\\xa0Georgia',\n",
       "       '\\xa0Germany', '\\xa0Ghana', '\\xa0Greece', '\\xa0Guatemala',\n",
       "       '\\xa0Honduras', '\\xa0Hong Kong', '\\xa0Hungary', '\\xa0Iceland',\n",
       "       '\\xa0India', '\\xa0Indonesia', '\\xa0Iran', '\\xa0Iraq',\n",
       "       '\\xa0Ireland', '\\xa0Israel', '\\xa0Italy', '\\xa0Jamaica',\n",
       "       '\\xa0Japan', '\\xa0Jordan', '\\xa0Kazakhstan', '\\xa0Kenya',\n",
       "       '\\xa0Kuwait', '\\xa0Latvia', '\\xa0Lebanon', '\\xa0Libya',\n",
       "       '\\xa0Lithuania', '\\xa0Luxembourg', '\\xa0Malaysia', '\\xa0Mali',\n",
       "       '\\xa0Mauritius', '\\xa0Mexico', '\\xa0Morocco', '\\xa0Mozambique',\n",
       "       '\\xa0Namibia', '\\xa0Nepal', '\\xa0Netherlands', '\\xa0New Zealand',\n",
       "       '\\xa0Nigeria', '\\xa0Norway', '\\xa0Oman', '\\xa0Pakistan',\n",
       "       '\\xa0Panama', '\\xa0Papua New Guinea', '\\xa0Paraguay', '\\xa0Peru',\n",
       "       '\\xa0Philippines', '\\xa0Poland', '\\xa0Portugal', '\\xa0Qatar',\n",
       "       '\\xa0Romania', '\\xa0Russia', '\\xa0Saudi Arabia', '\\xa0Senegal',\n",
       "       '\\xa0Serbia', '\\xa0Singapore', '\\xa0Slovakia', '\\xa0Slovenia',\n",
       "       '\\xa0South Africa', '\\xa0South Korea', '\\xa0Spain',\n",
       "       '\\xa0Sri Lanka', '\\xa0Sudan + \\xa0South Sudan', '\\xa0Sweden',\n",
       "       '\\xa0Switzerland', '\\xa0Taiwan', '\\xa0Tanzania', '\\xa0Thailand',\n",
       "       '\\xa0Trinidad and Tobago', '\\xa0Tunisia', '\\xa0Turkey',\n",
       "       '\\xa0Turkmenistan', '\\xa0Uganda', '\\xa0Ukraine',\n",
       "       '\\xa0United Arab Emirates', '\\xa0United Kingdom',\n",
       "       '\\xa0United States', '\\xa0Uruguay', '\\xa0Uzbekistan',\n",
       "       '\\xa0Venezuela', '\\xa0Vietnam', '\\xa0Yemen', '\\xa0Zambia'],\n",
       "      dtype=object)"
      ]
     },
     "execution_count": 40,
     "metadata": {},
     "output_type": "execute_result"
    }
   ],
   "source": [
    "data.loc[:,'Country'].unique()"
   ]
  },
  {
   "cell_type": "code",
   "execution_count": null,
   "id": "df34eaab",
   "metadata": {},
   "outputs": [],
   "source": []
  },
  {
   "cell_type": "code",
   "execution_count": 59,
   "id": "fa1613c7",
   "metadata": {},
   "outputs": [
    {
     "data": {
      "text/html": [
       "<div>\n",
       "<style scoped>\n",
       "    .dataframe tbody tr th:only-of-type {\n",
       "        vertical-align: middle;\n",
       "    }\n",
       "\n",
       "    .dataframe tbody tr th {\n",
       "        vertical-align: top;\n",
       "    }\n",
       "\n",
       "    .dataframe thead th {\n",
       "        text-align: right;\n",
       "    }\n",
       "</style>\n",
       "<table border=\"1\" class=\"dataframe\">\n",
       "  <thead>\n",
       "    <tr style=\"text-align: right;\">\n",
       "      <th></th>\n",
       "      <th>y1</th>\n",
       "      <th>y2</th>\n",
       "      <th>date</th>\n",
       "    </tr>\n",
       "  </thead>\n",
       "  <tbody>\n",
       "    <tr>\n",
       "      <th>0</th>\n",
       "      <td>234.060418</td>\n",
       "      <td>-26.123665</td>\n",
       "      <td>2021-01-01</td>\n",
       "    </tr>\n",
       "    <tr>\n",
       "      <th>1</th>\n",
       "      <td>219.155091</td>\n",
       "      <td>214.458707</td>\n",
       "      <td>2021-01-02</td>\n",
       "    </tr>\n",
       "    <tr>\n",
       "      <th>2</th>\n",
       "      <td>192.144991</td>\n",
       "      <td>101.510622</td>\n",
       "      <td>2021-01-03</td>\n",
       "    </tr>\n",
       "    <tr>\n",
       "      <th>3</th>\n",
       "      <td>176.151909</td>\n",
       "      <td>124.804075</td>\n",
       "      <td>2021-01-04</td>\n",
       "    </tr>\n",
       "    <tr>\n",
       "      <th>4</th>\n",
       "      <td>189.579279</td>\n",
       "      <td>58.221538</td>\n",
       "      <td>2021-01-05</td>\n",
       "    </tr>\n",
       "    <tr>\n",
       "      <th>...</th>\n",
       "      <td>...</td>\n",
       "      <td>...</td>\n",
       "      <td>...</td>\n",
       "    </tr>\n",
       "    <tr>\n",
       "      <th>95</th>\n",
       "      <td>267.523512</td>\n",
       "      <td>149.828599</td>\n",
       "      <td>2021-04-06</td>\n",
       "    </tr>\n",
       "    <tr>\n",
       "      <th>96</th>\n",
       "      <td>187.648182</td>\n",
       "      <td>137.900225</td>\n",
       "      <td>2021-04-07</td>\n",
       "    </tr>\n",
       "    <tr>\n",
       "      <th>97</th>\n",
       "      <td>188.574233</td>\n",
       "      <td>75.683672</td>\n",
       "      <td>2021-04-08</td>\n",
       "    </tr>\n",
       "    <tr>\n",
       "      <th>98</th>\n",
       "      <td>180.950762</td>\n",
       "      <td>83.094132</td>\n",
       "      <td>2021-04-09</td>\n",
       "    </tr>\n",
       "    <tr>\n",
       "      <th>99</th>\n",
       "      <td>220.832482</td>\n",
       "      <td>37.251613</td>\n",
       "      <td>2021-04-10</td>\n",
       "    </tr>\n",
       "  </tbody>\n",
       "</table>\n",
       "<p>100 rows × 3 columns</p>\n",
       "</div>"
      ],
      "text/plain": [
       "            y1          y2       date\n",
       "0   234.060418  -26.123665 2021-01-01\n",
       "1   219.155091  214.458707 2021-01-02\n",
       "2   192.144991  101.510622 2021-01-03\n",
       "3   176.151909  124.804075 2021-01-04\n",
       "4   189.579279   58.221538 2021-01-05\n",
       "..         ...         ...        ...\n",
       "95  267.523512  149.828599 2021-04-06\n",
       "96  187.648182  137.900225 2021-04-07\n",
       "97  188.574233   75.683672 2021-04-08\n",
       "98  180.950762   83.094132 2021-04-09\n",
       "99  220.832482   37.251613 2021-04-10\n",
       "\n",
       "[100 rows x 3 columns]"
      ]
     },
     "execution_count": 59,
     "metadata": {},
     "output_type": "execute_result"
    }
   ],
   "source": [
    "import matplotlib.pyplot as plt\n",
    "import pandas as pd\n",
    "import numpy as np\n",
    "y1 = np.random.normal(200, 30, size = 100)\n",
    "y2 = np.random.normal(100, 70, size = 100)\n",
    "data = pd.DataFrame({'y1': y1, 'y2': y2, 'date': pd.date_range('1/1/2021', periods=100)})\n",
    "data\n"
   ]
  },
  {
   "cell_type": "code",
   "execution_count": 69,
   "id": "a7fa6364",
   "metadata": {},
   "outputs": [
    {
     "data": {
      "image/png": "[encoded data removed]",
      "text/plain": [
       "<Figure size 432x288 with 1 Axes>"
      ]
     },
     "metadata": {
      "needs_background": "light"
     },
     "output_type": "display_data"
    }
   ],
   "source": [
    "plt.plot(data.index, data.loc[:,'y1'], \"r\", label = 'y1')\n",
    "plt.plot(data.index, data.loc[:,'y2'], \"b\", label = 'y2')\n",
    "\n",
    "plt.title('Đồ thị  phân bố nor')\n",
    "plt.xlabel(\"index\")\n",
    "plt.ylabel(\"dao động\")\n",
    "\n",
    "plt.legend()\n",
    "plt.show()"
   ]
  },
  {
   "cell_type": "code",
   "execution_count": 72,
   "id": "1eb1fde0",
   "metadata": {},
   "outputs": [
    {
     "data": {
      "text/html": [
       "<div>\n",
       "<style scoped>\n",
       "    .dataframe tbody tr th:only-of-type {\n",
       "        vertical-align: middle;\n",
       "    }\n",
       "\n",
       "    .dataframe tbody tr th {\n",
       "        vertical-align: top;\n",
       "    }\n",
       "\n",
       "    .dataframe thead th {\n",
       "        text-align: right;\n",
       "    }\n",
       "</style>\n",
       "<table border=\"1\" class=\"dataframe\">\n",
       "  <thead>\n",
       "    <tr style=\"text-align: right;\">\n",
       "      <th></th>\n",
       "      <th>y3</th>\n",
       "      <th>y4</th>\n",
       "      <th>date</th>\n",
       "    </tr>\n",
       "  </thead>\n",
       "  <tbody>\n",
       "    <tr>\n",
       "      <th>0</th>\n",
       "      <td>195.066847</td>\n",
       "      <td>797.626993</td>\n",
       "      <td>2021-01-01</td>\n",
       "    </tr>\n",
       "    <tr>\n",
       "      <th>1</th>\n",
       "      <td>248.579631</td>\n",
       "      <td>556.891034</td>\n",
       "      <td>2021-01-02</td>\n",
       "    </tr>\n",
       "    <tr>\n",
       "      <th>2</th>\n",
       "      <td>188.719927</td>\n",
       "      <td>1156.717886</td>\n",
       "      <td>2021-01-03</td>\n",
       "    </tr>\n",
       "    <tr>\n",
       "      <th>3</th>\n",
       "      <td>194.040509</td>\n",
       "      <td>874.895645</td>\n",
       "      <td>2021-01-04</td>\n",
       "    </tr>\n",
       "    <tr>\n",
       "      <th>4</th>\n",
       "      <td>251.522463</td>\n",
       "      <td>1180.301340</td>\n",
       "      <td>2021-01-05</td>\n",
       "    </tr>\n",
       "    <tr>\n",
       "      <th>...</th>\n",
       "      <td>...</td>\n",
       "      <td>...</td>\n",
       "      <td>...</td>\n",
       "    </tr>\n",
       "    <tr>\n",
       "      <th>95</th>\n",
       "      <td>208.404997</td>\n",
       "      <td>768.269723</td>\n",
       "      <td>2021-04-06</td>\n",
       "    </tr>\n",
       "    <tr>\n",
       "      <th>96</th>\n",
       "      <td>202.365444</td>\n",
       "      <td>709.208129</td>\n",
       "      <td>2021-04-07</td>\n",
       "    </tr>\n",
       "    <tr>\n",
       "      <th>97</th>\n",
       "      <td>202.555567</td>\n",
       "      <td>1237.303241</td>\n",
       "      <td>2021-04-08</td>\n",
       "    </tr>\n",
       "    <tr>\n",
       "      <th>98</th>\n",
       "      <td>195.902724</td>\n",
       "      <td>1506.564520</td>\n",
       "      <td>2021-04-09</td>\n",
       "    </tr>\n",
       "    <tr>\n",
       "      <th>99</th>\n",
       "      <td>216.356740</td>\n",
       "      <td>1398.814472</td>\n",
       "      <td>2021-04-10</td>\n",
       "    </tr>\n",
       "  </tbody>\n",
       "</table>\n",
       "<p>100 rows × 3 columns</p>\n",
       "</div>"
      ],
      "text/plain": [
       "            y3           y4       date\n",
       "0   195.066847   797.626993 2021-01-01\n",
       "1   248.579631   556.891034 2021-01-02\n",
       "2   188.719927  1156.717886 2021-01-03\n",
       "3   194.040509   874.895645 2021-01-04\n",
       "4   251.522463  1180.301340 2021-01-05\n",
       "..         ...          ...        ...\n",
       "95  208.404997   768.269723 2021-04-06\n",
       "96  202.365444   709.208129 2021-04-07\n",
       "97  202.555567  1237.303241 2021-04-08\n",
       "98  195.902724  1506.564520 2021-04-09\n",
       "99  216.356740  1398.814472 2021-04-10\n",
       "\n",
       "[100 rows x 3 columns]"
      ]
     },
     "execution_count": 72,
     "metadata": {},
     "output_type": "execute_result"
    }
   ],
   "source": [
    "#Tạo dữ liệu nhân tạo\n",
    "y3 = np.random.normal(200, 30, size = 100)\n",
    "y4 = np.random.normal(1000, 200, size = 100)\n",
    "data = pd.DataFrame({'y3': y3, 'y4': y4, 'date': pd.date_range('1/1/2021', periods=100)})\n",
    "data\n"
   ]
  },
  {
   "cell_type": "code",
   "execution_count": 73,
   "id": "79754a3b",
   "metadata": {},
   "outputs": [
    {
     "data": {
      "image/png": "[encoded data removed]",
      "text/plain": [
       "<Figure size 432x288 with 1 Axes>"
      ]
     },
     "metadata": {
      "needs_background": "light"
     },
     "output_type": "display_data"
    }
   ],
   "source": [
    "#Tạo dữ liệu nhân tạo\n",
    "#Vẽ đồ thị ghép (cùng loại trên cùng 1 axes) nên tránh\n",
    "plt.plot(data.index, data.loc[:,'y3'], 'r', label='Giá xe') #Đường y3 màu đỏ\n",
    "plt.plot(data.index, data.loc[:,'y4'], 'b', label='Doanh số') #Đường y4 màu xanh\n",
    "\n",
    "plt.title('Đồ thị phân bố normal') #Tên đồ thị\n",
    "plt.xlabel('Index') #Tên trục X\n",
    "plt.ylabel('Dao động') #Tên trục Y\n",
    "plt.legend() #Legend (chỉ nên dùng khi có từ 2 đồ thị con trở lên)\n",
    "plt.show()\n"
   ]
  },
  {
   "cell_type": "code",
   "execution_count": 74,
   "id": "d4225d84",
   "metadata": {},
   "outputs": [
    {
     "data": {
      "text/html": [
       "<div>\n",
       "<style scoped>\n",
       "    .dataframe tbody tr th:only-of-type {\n",
       "        vertical-align: middle;\n",
       "    }\n",
       "\n",
       "    .dataframe tbody tr th {\n",
       "        vertical-align: top;\n",
       "    }\n",
       "\n",
       "    .dataframe thead th {\n",
       "        text-align: right;\n",
       "    }\n",
       "</style>\n",
       "<table border=\"1\" class=\"dataframe\">\n",
       "  <thead>\n",
       "    <tr style=\"text-align: right;\">\n",
       "      <th></th>\n",
       "      <th>x</th>\n",
       "      <th>y1</th>\n",
       "      <th>y2</th>\n",
       "      <th>y3</th>\n",
       "    </tr>\n",
       "  </thead>\n",
       "  <tbody>\n",
       "    <tr>\n",
       "      <th>0</th>\n",
       "      <td>Day 1</td>\n",
       "      <td>12.2</td>\n",
       "      <td>20.3</td>\n",
       "      <td>16.3</td>\n",
       "    </tr>\n",
       "    <tr>\n",
       "      <th>1</th>\n",
       "      <td>Day 2</td>\n",
       "      <td>16.3</td>\n",
       "      <td>27.6</td>\n",
       "      <td>17.6</td>\n",
       "    </tr>\n",
       "    <tr>\n",
       "      <th>2</th>\n",
       "      <td>Day 3</td>\n",
       "      <td>20.5</td>\n",
       "      <td>31.4</td>\n",
       "      <td>24.4</td>\n",
       "    </tr>\n",
       "    <tr>\n",
       "      <th>3</th>\n",
       "      <td>Day 4</td>\n",
       "      <td>25.4</td>\n",
       "      <td>33.7</td>\n",
       "      <td>26.7</td>\n",
       "    </tr>\n",
       "    <tr>\n",
       "      <th>4</th>\n",
       "      <td>Day 5</td>\n",
       "      <td>31.2</td>\n",
       "      <td>39.2</td>\n",
       "      <td>33.2</td>\n",
       "    </tr>\n",
       "    <tr>\n",
       "      <th>5</th>\n",
       "      <td>Day 6</td>\n",
       "      <td>24.2</td>\n",
       "      <td>33.4</td>\n",
       "      <td>29.4</td>\n",
       "    </tr>\n",
       "    <tr>\n",
       "      <th>6</th>\n",
       "      <td>Day 7</td>\n",
       "      <td>18.0</td>\n",
       "      <td>29.2</td>\n",
       "      <td>27.2</td>\n",
       "    </tr>\n",
       "    <tr>\n",
       "      <th>7</th>\n",
       "      <td>Day 8</td>\n",
       "      <td>13.5</td>\n",
       "      <td>25.7</td>\n",
       "      <td>24.7</td>\n",
       "    </tr>\n",
       "    <tr>\n",
       "      <th>8</th>\n",
       "      <td>Day 9</td>\n",
       "      <td>17.1</td>\n",
       "      <td>31.2</td>\n",
       "      <td>27.2</td>\n",
       "    </tr>\n",
       "    <tr>\n",
       "      <th>9</th>\n",
       "      <td>Day 10</td>\n",
       "      <td>21.7</td>\n",
       "      <td>36.0</td>\n",
       "      <td>32.0</td>\n",
       "    </tr>\n",
       "  </tbody>\n",
       "</table>\n",
       "</div>"
      ],
      "text/plain": [
       "        x    y1    y2    y3\n",
       "0   Day 1  12.2  20.3  16.3\n",
       "1   Day 2  16.3  27.6  17.6\n",
       "2   Day 3  20.5  31.4  24.4\n",
       "3   Day 4  25.4  33.7  26.7\n",
       "4   Day 5  31.2  39.2  33.2\n",
       "5   Day 6  24.2  33.4  29.4\n",
       "6   Day 7  18.0  29.2  27.2\n",
       "7   Day 8  13.5  25.7  24.7\n",
       "8   Day 9  17.1  31.2  27.2\n",
       "9  Day 10  21.7  36.0  32.0"
      ]
     },
     "execution_count": 74,
     "metadata": {},
     "output_type": "execute_result"
    }
   ],
   "source": [
    "#Tạo dữ liệu\n",
    "x1 = ['Day 1','Day 2','Day 3','Day 4','Day 5','Day 6','Day 7','Day 8','Day 9','Day 10']\n",
    "y1 = [12.2, 16.3, 20.5, 25.4, 31.2, 24.2, 18, 13.5, 17.1, 21.7]\n",
    "y2 = [20.3, 27.6, 31.4, 33.7, 39.2, 33.4, 29.2, 25.7, 31.2, 36]\n",
    "y3 = [16.3, 17.6, 24.4, 26.7, 33.2, 29.4, 27.2, 24.7, 27.2, 32]\n",
    "data2 = pd.DataFrame({'x':x1, 'y1':y1, 'y2':y2, 'y3':y3})\n",
    "data2"
   ]
  },
  {
   "cell_type": "code",
   "execution_count": 75,
   "id": "b17a435d",
   "metadata": {},
   "outputs": [
    {
     "data": {
      "image/png": "[encoded data removed]",
      "text/plain": [
       "<Figure size 432x288 with 3 Axes>"
      ]
     },
     "metadata": {
      "needs_background": "light"
     },
     "output_type": "display_data"
    },
    {
     "data": {
      "image/png": "[encoded data removed]",
      "text/plain": [
       "<Figure size 432x288 with 3 Axes>"
      ]
     },
     "metadata": {
      "needs_background": "light"
     },
     "output_type": "display_data"
    },
    {
     "data": {
      "image/png": "[encoded data removed]",
      "text/plain": [
       "<Figure size 432x288 with 3 Axes>"
      ]
     },
     "metadata": {
      "needs_background": "light"
     },
     "output_type": "display_data"
    }
   ],
   "source": [
    "fig1, ax = plt.subplots(3,1)\n",
    "#Tạo Figure và Subplot (các axes = ax)\n",
    "fig1, ax = plt.subplots(3,1)\n",
    "ax[0].plot(data2['x'], data2['y1'], label='y1')\n",
    "ax[1].plot(data2['x'], data2['y2'], label='y2')\n",
    "ax[2].plot(data2['x'], data2['y3'], label='y3')\n",
    "\n",
    "ax[0].set_title('Giá các mặt hàng')\n",
    "ax[2].set_xlabel('Ngày')\n",
    "ax[1].set_ylabel('Giá trị dầu')\n",
    "ax[0].set_ylabel('Giá vàng')\n",
    "ax[2].set_ylabel('Giá đôla')\n",
    "\n",
    "ax[0].set_xticklabels([])\n",
    "ax[1].set_xticklabels([])\n",
    "\n",
    "ax[0].tick_params(axis='y', size = 8)\n",
    "ax[1].tick_params(axis='y', size = 8)\n",
    "ax[2].tick_params(axis='y', size = 8)\n",
    "\n",
    "ax[0].tick_params(axis='x', size = 2)\n",
    "ax[1].tick_params(axis='x', size = 2)\n",
    "ax[2].tick_params(axis='x', size = 8)\n",
    "\n",
    "# ax[0].set_xticks([]) #Remove tick\n",
    "# ax[1].set_xticks([]) #Remove tick\n",
    "plt.tight_layout(pad = 0) #Set margin between subplots\n",
    "plt.show()\n",
    "fig1, ax = plt.subplots(3,1, sharex=True, sharey=True) \n",
    "#Nếu cùng trục X thì dùng sharex=True\n",
    "#Nếu trục Y có scale tương đối gần nhau thì sharey=True\n",
    "ax[0].plot(data2['x'], data2['y1'], label='y1')\n",
    "ax[1].plot(data2['x'], data2['y2'], label='y2')\n",
    "ax[2].plot(data2['x'], data2['y3'], label='y3')\n",
    "\n",
    "ax[0].set_title('Giá các mặt hàng')\n",
    "ax[2].set_xlabel('Ngày')\n",
    "ax[1].set_ylabel('Giá trị dầu')\n",
    "ax[0].set_ylabel('Giá vàng')\n",
    "ax[2].set_ylabel('Giá đôla')\n",
    "\n",
    "plt.show()\n"
   ]
  },
  {
   "cell_type": "code",
   "execution_count": 76,
   "id": "171451d1",
   "metadata": {},
   "outputs": [
    {
     "data": {
      "text/html": [
       "<div>\n",
       "<style scoped>\n",
       "    .dataframe tbody tr th:only-of-type {\n",
       "        vertical-align: middle;\n",
       "    }\n",
       "\n",
       "    .dataframe tbody tr th {\n",
       "        vertical-align: top;\n",
       "    }\n",
       "\n",
       "    .dataframe thead th {\n",
       "        text-align: right;\n",
       "    }\n",
       "</style>\n",
       "<table border=\"1\" class=\"dataframe\">\n",
       "  <thead>\n",
       "    <tr style=\"text-align: right;\">\n",
       "      <th></th>\n",
       "      <th>y1</th>\n",
       "      <th>y2</th>\n",
       "      <th>y3</th>\n",
       "      <th>y4</th>\n",
       "    </tr>\n",
       "  </thead>\n",
       "  <tbody>\n",
       "    <tr>\n",
       "      <th>0</th>\n",
       "      <td>129.924411</td>\n",
       "      <td>172.752643</td>\n",
       "      <td>181.854848</td>\n",
       "      <td>904.540106</td>\n",
       "    </tr>\n",
       "    <tr>\n",
       "      <th>1</th>\n",
       "      <td>89.622929</td>\n",
       "      <td>90.616662</td>\n",
       "      <td>200.446493</td>\n",
       "      <td>1017.269754</td>\n",
       "    </tr>\n",
       "    <tr>\n",
       "      <th>2</th>\n",
       "      <td>110.133267</td>\n",
       "      <td>108.827706</td>\n",
       "      <td>168.105204</td>\n",
       "      <td>1112.944672</td>\n",
       "    </tr>\n",
       "    <tr>\n",
       "      <th>3</th>\n",
       "      <td>77.520646</td>\n",
       "      <td>116.504742</td>\n",
       "      <td>202.137985</td>\n",
       "      <td>1268.902072</td>\n",
       "    </tr>\n",
       "    <tr>\n",
       "      <th>4</th>\n",
       "      <td>119.490280</td>\n",
       "      <td>88.853531</td>\n",
       "      <td>132.944149</td>\n",
       "      <td>887.247780</td>\n",
       "    </tr>\n",
       "    <tr>\n",
       "      <th>...</th>\n",
       "      <td>...</td>\n",
       "      <td>...</td>\n",
       "      <td>...</td>\n",
       "      <td>...</td>\n",
       "    </tr>\n",
       "    <tr>\n",
       "      <th>95</th>\n",
       "      <td>78.161114</td>\n",
       "      <td>-25.366336</td>\n",
       "      <td>209.634773</td>\n",
       "      <td>1487.912218</td>\n",
       "    </tr>\n",
       "    <tr>\n",
       "      <th>96</th>\n",
       "      <td>81.984473</td>\n",
       "      <td>99.103700</td>\n",
       "      <td>270.791949</td>\n",
       "      <td>1450.383951</td>\n",
       "    </tr>\n",
       "    <tr>\n",
       "      <th>97</th>\n",
       "      <td>83.752279</td>\n",
       "      <td>2.561537</td>\n",
       "      <td>185.135973</td>\n",
       "      <td>886.262099</td>\n",
       "    </tr>\n",
       "    <tr>\n",
       "      <th>98</th>\n",
       "      <td>102.695287</td>\n",
       "      <td>161.856463</td>\n",
       "      <td>149.957835</td>\n",
       "      <td>1009.617928</td>\n",
       "    </tr>\n",
       "    <tr>\n",
       "      <th>99</th>\n",
       "      <td>114.893739</td>\n",
       "      <td>14.536288</td>\n",
       "      <td>231.103190</td>\n",
       "      <td>983.473956</td>\n",
       "    </tr>\n",
       "  </tbody>\n",
       "</table>\n",
       "<p>100 rows × 4 columns</p>\n",
       "</div>"
      ],
      "text/plain": [
       "            y1          y2          y3           y4\n",
       "0   129.924411  172.752643  181.854848   904.540106\n",
       "1    89.622929   90.616662  200.446493  1017.269754\n",
       "2   110.133267  108.827706  168.105204  1112.944672\n",
       "3    77.520646  116.504742  202.137985  1268.902072\n",
       "4   119.490280   88.853531  132.944149   887.247780\n",
       "..         ...         ...         ...          ...\n",
       "95   78.161114  -25.366336  209.634773  1487.912218\n",
       "96   81.984473   99.103700  270.791949  1450.383951\n",
       "97   83.752279    2.561537  185.135973   886.262099\n",
       "98  102.695287  161.856463  149.957835  1009.617928\n",
       "99  114.893739   14.536288  231.103190   983.473956\n",
       "\n",
       "[100 rows x 4 columns]"
      ]
     },
     "execution_count": 76,
     "metadata": {},
     "output_type": "execute_result"
    }
   ],
   "source": [
    "#Tạo dữ liệu nhân tạo\n",
    "y1 = np.random.normal(100, 30, size = 100)\n",
    "y2 = np.random.normal(100, 70, size = 100)\n",
    "y3 = np.random.normal(200, 30, size = 100)\n",
    "y4 = np.random.normal(1000, 200, size = 100)\n",
    "data3 = pd.DataFrame({'y1':y1, 'y2':y2, 'y3': y3, 'y4': y4})\n",
    "data3\n",
    "Vẽ đồ thị ghép 2x2.\n",
    "Trục x xuất phát từ 0, cách nhau 10 giá trị, trục x là index\n",
    "Tên Figure là \"Ví dụ 3\"\n",
    "Tên trục X là \"My index\"\n",
    "Trên trục Y là y1, y2, y3, y4\n",
    "Màu y1, y2, y3, y4 lần lượt là đỏ, xanh lục, xanh biển, vàng\n"
   ]
  },
  {
   "cell_type": "code",
   "execution_count": 5,
   "id": "bcd016f0",
   "metadata": {},
   "outputs": [
    {
     "data": {
      "image/png": "[encoded data removed]",
      "text/plain": [
       "<Figure size 432x288 with 2 Axes>"
      ]
     },
     "metadata": {
      "needs_background": "light"
     },
     "output_type": "display_data"
    }
   ],
   "source": [
    "#Tạo dữ liệu\n",
    "import matplotlib.pyplot as plt\n",
    "import pandas as pd\n",
    "import numpy as np\n",
    "x = [1, 2, 3, 4, 5, 6, 7, 8, 9, 10]\n",
    "y1 = [12.2, 16.3, 20.5, 25.4, 31.2, 14.2, 24, 19.5, 28.1, 21.7]\n",
    "y2 = [2000, 4000, 1200, 3200, 5600, 2300, 3600, 2500, 3100, 3000]\n",
    "plt.bar(x, y1, label = 'bar 1', width = 0.5); #Bị đè\n",
    "# plt.bar(x, y3, label = 'bar 2', width = 0.5);\n",
    "# plt.plot(x,y2, label = 'line 1', linewidth = 2, c = 'r', marker = 'o') #Hiện tượng đè dữ liệu do khác scale\n",
    "\n",
    "axes1 = plt.gca() #get current axes -> lấy giá trị của trục vừa mới vẽ\n",
    "axes2 = axes1.twinx() #Tạo trục thứ 2 chia sẻ trục X với trục axes1\n",
    "axes2.plot(x,y2,label = 'line 1', linewidth = 2, c = 'r', marker = 'o')\n",
    "\n",
    "plt.title('Ví dụ')\n",
    "axes1.set_ylabel('Biểu đồ cột trục Y')\n",
    "axes2.set_ylabel('Biểu đồ đường trục Y')\n",
    "axes1.set_xlabel('Trục X')\n",
    "axes1.tick_params(axis='y', colors='blue')\n",
    "axes2.tick_params(axis='y', colors='red')\n",
    "plt.show()\n"
   ]
  },
  {
   "cell_type": "code",
   "execution_count": 6,
   "id": "74adaaf6",
   "metadata": {},
   "outputs": [
    {
     "data": {
      "image/png": "[encoded data removed]",
      "text/plain": [
       "<Figure size 432x288 with 4 Axes>"
      ]
     },
     "metadata": {
      "needs_background": "light"
     },
     "output_type": "display_data"
    }
   ],
   "source": [
    "#Nhập dữ liệu\n",
    "x1 = ['P1','P2','P3','P4','P5']\n",
    "y1 = [12.2, 16.3, 20.5, 25.4, 31.2]\n",
    "y2 = [20.3, 22.6, 31.4, 33.7, 39.2]\n",
    "y3 = [16.3, 17.6, 24.4, 26.7, 33.2]\n",
    "fig, ax = plt.subplots(2, 2);\n",
    "\n",
    "ax[0][0].bar(x1, y1)\n",
    "ax[0][0].set_title('Y1 cột')\n",
    "\n",
    "ax[1][0].bar(x1, y2)\n",
    "ax[1][0].set_title('Y2 cột')\n",
    "\n",
    "ax[0][1].pie(y1, labels=x1, autopct='%1.f%%', radius=1.3)\n",
    "ax[0][1].set_title('Y1 tròn')\n",
    "\n",
    "ax[1][1].pie(y2, labels=x1, autopct='%1.f%%', radius=1.3)\n",
    "ax[1][1].set_title('Y2 tròn')\n",
    "\n",
    "plt.tight_layout()\n",
    "plt.show()\n"
   ]
  },
  {
   "cell_type": "code",
   "execution_count": 18,
   "id": "0efcf3fc",
   "metadata": {},
   "outputs": [
    {
     "data": {
      "application/vnd.jupyter.widget-view+json": {
       "model_id": "c45aeb5187d441d292143b07e8f01829",
       "version_major": 2,
       "version_minor": 0
      },
      "text/plain": [
       "IntSlider(value=20, description='VD IntSlider', max=20, min=-1)"
      ]
     },
     "metadata": {},
     "output_type": "display_data"
    }
   ],
   "source": [
    "import ipywidgets as widgets\n",
    "\n",
    "aaa = widgets.IntSlider(\n",
    "    description='VD IntSlider',\n",
    "    min= -1, \n",
    "    max=20, \n",
    "    step=1, \n",
    "    value=30,\n",
    "    orientation='horizontal')\n",
    "\n",
    "# print(aaa.keys)\n",
    "\n",
    "display(aaa)\n"
   ]
  },
  {
   "cell_type": "code",
   "execution_count": 24,
   "id": "532399f4",
   "metadata": {},
   "outputs": [
    {
     "data": {
      "application/vnd.jupyter.widget-view+json": {
       "model_id": "0590d5400a994569a4c5d01a24d53964",
       "version_major": 2,
       "version_minor": 0
      },
      "text/plain": [
       "FloatSlider(value=7.5, continuous_update=False, description='Ví dụ FloatSlider:', max=10.0, readout_format='1.…"
      ]
     },
     "metadata": {},
     "output_type": "display_data"
    }
   ],
   "source": [
    "FloatSlider = widgets.FloatSlider(\n",
    "    value=7.5,\n",
    "    min=0,\n",
    "    max=10.0,\n",
    "    step=0.1,\n",
    "    description='Ví dụ FloatSlider:',\n",
    "    disabled=False,\n",
    "    continuous_update=False,\n",
    "    orientation='horizontal',\n",
    "    readout=True,\n",
    "    readout_format='1.2f',\n",
    ")\n",
    "# print(FloatSlider.keys)\n",
    "\n",
    "display(FloatSlider)\n"
   ]
  },
  {
   "cell_type": "code",
   "execution_count": 23,
   "id": "072d8dea",
   "metadata": {},
   "outputs": [
    {
     "data": {
      "application/vnd.jupyter.widget-view+json": {
       "model_id": "acbd0fe23d404d94a9051cd5868189e4",
       "version_major": 2,
       "version_minor": 0
      },
      "text/plain": [
       "IntText(value=7, continuous_update=True, description='Hãy điền số:')"
      ]
     },
     "metadata": {},
     "output_type": "display_data"
    }
   ],
   "source": [
    "IntText = widgets.IntText(\n",
    "    value=7,\n",
    "    description='Hãy điền số:',\n",
    "    disabled=False,\n",
    "    continuous_update = True\n",
    ")\n",
    "# print(IntText.keys)\n",
    "\n",
    "display(IntText)\n"
   ]
  },
  {
   "cell_type": "code",
   "execution_count": 25,
   "id": "ef93be9a",
   "metadata": {},
   "outputs": [
    {
     "data": {
      "application/vnd.jupyter.widget-view+json": {
       "model_id": "93590dac6ec444b79bcb396d949877d5",
       "version_major": 2,
       "version_minor": 0
      },
      "text/plain": [
       "IntText(value=7, continuous_update=True, description='Hãy điền số:')"
      ]
     },
     "metadata": {},
     "output_type": "display_data"
    },
    {
     "data": {
      "application/vnd.jupyter.widget-view+json": {
       "model_id": "32f260211ace4491a9de6363be2b0f5d",
       "version_major": 2,
       "version_minor": 0
      },
      "text/plain": [
       "FloatText(value=7.5, description='Điền số float:', step=0.01)"
      ]
     },
     "metadata": {},
     "output_type": "display_data"
    }
   ],
   "source": [
    "FloatText = widgets.FloatText(\n",
    "    value=7.5,\n",
    "    description='Điền số float:',\n",
    "    disabled=False,\n",
    "    step = 0.01\n",
    ")\n",
    "# print(FloatText.keys)\n",
    "\n",
    "display(FloatText)\n"
   ]
  }
 ],
 "metadata": {
  "kernelspec": {
   "display_name": "Python 3 (ipykernel)",
   "language": "python",
   "name": "python3"
  },
  "language_info": {
   "codemirror_mode": {
    "name": "ipython",
    "version": 3
   },
   "file_extension": ".py",
   "mimetype": "text/x-python",
   "name": "python",
   "nbconvert_exporter": "python",
   "pygments_lexer": "ipython3",
   "version": "3.10.4"
  }
 },
 "nbformat": 4,
 "nbformat_minor": 5
}
