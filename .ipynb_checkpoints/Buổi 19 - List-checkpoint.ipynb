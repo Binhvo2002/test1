{
 "cells": [
  {
   "cell_type": "markdown",
   "id": "fad0ff18",
   "metadata": {},
   "source": [
    "# List\n",
    "\n",
    "### Đặt vấn đề\n",
    "\n",
    "Nếu như ta có một lượng dữ liệu không biết trước được số lượng cần lưu vào biến, ta không thể lưu bằng cách thông thường\n",
    "\n",
    "Lấy ví dụ:\n",
    "\n",
    "Nhập vào số n, sau đó nhập tiếp n số và lưu trữ n số đó vào biến\n",
    "\n",
    "Vậy ta hoàn toàn không biết được người dùng sẽ nhập bao nhiêu số để lưu trữ\n",
    "\n",
    "Lúc này ta cần đến List\n",
    "\n",
    "List giúp chúng ta lưu nhiều giá trị cùng 1 lúc, nhưng chỉ cần đặt tên cho nó lần\n",
    "\n",
    "##### Tài liệu tham khảo: https://www.w3schools.com/python/python_lists.asp"
   ]
  },
  {
   "cell_type": "markdown",
   "id": "4ca9e91e",
   "metadata": {},
   "source": [
    "### Cách thức khai báo List\n",
    "\n",
    "Cú pháp:\n",
    "\n",
    "`<tên list> = []`\n",
    "\n",
    "##### List được khai báo bằng 2 dấu ngoặc vuông\n",
    "\n",
    "<b> Ví dụ 1: </b>\n",
    "\n",
    "`a = []`\n",
    "\n",
    "a là một list, không có bất kỳ phần tử nào trong đó\n",
    "\n",
    "<b> Ví dụ 2: </b>\n",
    "\n",
    "`b = [1,2,3]`\n",
    "\n",
    "##### Các phần tử trong list được khai báo, mỗi phần tử cách nhau một dấu phẩy\n",
    "\n",
    "b là một list có 3 phần tử\n",
    "\n",
    "<b> Ví dụ 3: </b>\n",
    "\n",
    "`c = [\"abc\",5,1.5]`\n",
    "\n",
    "##### Các phần tử trong list có thể có những kiểu dữ liệu khác nhau\n",
    "\n",
    "c là một list có 3 phần tử, phần tử thứ nhất có kiểu dữ liệu là chuỗi, phần tử thứ hai có kiểu dữ liệu là số nguyên và phần tử cuối cùng có kiểu dữ liệu là số thực\n",
    "\n",
    "<b> Hãy khai báo một list xong rồi in list đó lên màn hình </b>"
   ]
  },
  {
   "cell_type": "code",
   "execution_count": 1,
   "id": "c2f37351",
   "metadata": {},
   "outputs": [
    {
     "name": "stdout",
     "output_type": "stream",
     "text": [
      "[1, 2, 3]\n"
     ]
    }
   ],
   "source": [
    "c = [1,2,3]\n",
    "print(c)"
   ]
  },
  {
   "cell_type": "markdown",
   "id": "be8e19b0",
   "metadata": {},
   "source": [
    "### Truy xuất phần tử trong List\n",
    "\n",
    "Giống như chuỗi, các phần tử trong list được truy xuất theo cú pháp:\n",
    "\n",
    "`<tên list>[<vị trí của phần tử>]`\n",
    "\n",
    "<b> Ví dụ 1: </b>\n",
    "\n",
    "`a = [1,4,6]\n",
    "print(a[1])`\n",
    "\n",
    "Màn hình sẽ in ra 4\n",
    "\n",
    "<b> Hãy khai báo một list có một chuỗi và một số rồi in chuỗi trong list đó ra màn hình </b>"
   ]
  },
  {
   "cell_type": "code",
   "execution_count": 7,
   "id": "bb3f9141",
   "metadata": {},
   "outputs": [
    {
     "name": "stdout",
     "output_type": "stream",
     "text": [
      "hello\n"
     ]
    }
   ],
   "source": [
    "a = [\"hi\",\"xinchào\",\"hello\"]\n",
    "print(a[2])"
   ]
  },
  {
   "cell_type": "markdown",
   "id": "ad61e236",
   "metadata": {},
   "source": [
    "### Thêm phần tử vào List\n",
    "\n",
    "Cú pháp:\n",
    "\n",
    "`<tên list>.append()`\n",
    "\n",
    "<b>Ví dụ:</b>\n",
    "\n",
    "`a = []\n",
    "a.append(5)`\n",
    "\n",
    "a sẽ có 1 phần tử là 5\n",
    "\n",
    "<b> Hãy khai báo một list rỗng, rồi thêm 2 phần tử bất kỳ vào list đó, sau đó in list đó ra</b>"
   ]
  },
  {
   "cell_type": "code",
   "execution_count": 11,
   "id": "5823ddca",
   "metadata": {},
   "outputs": [
    {
     "name": "stdout",
     "output_type": "stream",
     "text": [
      "[1, 2, 3, 4, 5]\n",
      "[1, 2, 3, 4, 5, 6]\n"
     ]
    }
   ],
   "source": [
    "a = [1,2,3,4,5]\n",
    "print(a)\n",
    "a.append(6)\n",
    "print(a)"
   ]
  },
  {
   "cell_type": "markdown",
   "id": "8c92d3d3",
   "metadata": {},
   "source": [
    "### Thay đổi giá trị của List\n",
    "\n",
    "Cú pháp:\n",
    "\n",
    "`<tên list>[<vị trí của phần tử>] = <giá trị mới>`\n",
    "\n",
    "<b> Hãy khai báo một list bất kỳ, rồi thay đổi 1 phần tử trong nó, sau đó in list đó ra</b>"
   ]
  },
  {
   "cell_type": "code",
   "execution_count": 15,
   "id": "13c61075",
   "metadata": {},
   "outputs": [
    {
     "name": "stdout",
     "output_type": "stream",
     "text": [
      "[1, 2, 3, 4, 5, 3]\n",
      "[3, 2, 3, 4, 5, 3]\n"
     ]
    }
   ],
   "source": [
    "a = [1,2,3,4,5,6]\n",
    "a[5] = 3\n",
    "print(a)\n",
    "a[0] = 3\n",
    "print(a)"
   ]
  },
  {
   "cell_type": "markdown",
   "id": "ce14eefe",
   "metadata": {},
   "source": [
    "### Xóa 1 phần tử trong list\n",
    "\n",
    "#### Lệnh remove()\n",
    "\n",
    "Cú pháp:\n",
    "\n",
    "`<tên list>.remove(<giá trị cần xóa>)`\n",
    "\n",
    "<b>Ví dụ:</b>\n",
    "\n",
    "`a = [\"hi\",3,\"hello\",4]\n",
    "a.remove(\"hi\")`\n",
    "\n",
    "Sau khi thực hiện lệnh trên, a chỉ còn [3,\"hello\",4]\n",
    "\n",
    "<b> Hãy khai báo một list bất kỳ, rồi xóa 1 phần tử trong nó bằng lệnh remove(), sau đó in list đó ra</b>"
   ]
  },
  {
   "cell_type": "code",
   "execution_count": 17,
   "id": "f79402ad",
   "metadata": {},
   "outputs": [
    {
     "name": "stdout",
     "output_type": "stream",
     "text": [
      "['hi', 'hello']\n"
     ]
    }
   ],
   "source": [
    "a = [\"hi\",\"chào\",\"hello\"]\n",
    "a.remove(\"chào\")\n",
    "print(a)"
   ]
  },
  {
   "cell_type": "markdown",
   "id": "ec66c5cc",
   "metadata": {},
   "source": [
    "#### Lệnh pop()\n",
    "\n",
    "Cú pháp:\n",
    "\n",
    "`<tên list>.pop(<vị trí cần xóa>)`\n",
    "\n",
    "<b>Ví dụ:</b>\n",
    "\n",
    "`a = [\"hi\",3,\"hello\",4]\n",
    "a.pop(3)`\n",
    "\n",
    "Sau khi thực hiện lệnh trên, a chỉ còn [\"hi\",3,\"hello\"]\n",
    "\n",
    "<b> Hãy khai báo một list bất kỳ, rồi xóa 1 phần tử trong nó bằng lệnh pop(), sau đó in list đó ra</b>"
   ]
  },
  {
   "cell_type": "code",
   "execution_count": 21,
   "id": "eeaa0766",
   "metadata": {},
   "outputs": [
    {
     "name": "stdout",
     "output_type": "stream",
     "text": [
      "['hi', 3, 'hello']\n",
      "l\n"
     ]
    }
   ],
   "source": [
    "a = [\"hi\",3,\"hello\",4]\n",
    "a.pop(3)\n",
    "print(a)\n",
    "print(a[2][2])"
   ]
  },
  {
   "cell_type": "code",
   "execution_count": 53,
   "id": "00ba855d",
   "metadata": {},
   "outputs": [
    {
     "name": "stdout",
     "output_type": "stream",
     "text": [
      "[12, 6, 32, 42, 6]\n"
     ]
    }
   ],
   "source": [
    "a = [1,2,3,4,5,12,4,6,32,4,42,6,2]\n",
    "for i in range(1,6):\n",
    "    while i in a:\n",
    "        a.remove(i)\n",
    "print(a)"
   ]
  },
  {
   "cell_type": "markdown",
   "id": "96daac1c",
   "metadata": {},
   "source": [
    "### Sao chép list\n",
    "\n",
    "###### Lưu ý: Nếu ta có list a, ta thực hiện lệnh b = a, list b sẽ bị ảnh hưởng khi list a có sự thay đổi\n",
    "\n",
    "<b> Ví dụ: </b>\n",
    "\n",
    "`a = [5,7,1]\n",
    "b = a\n",
    "a.remove(5)`\n",
    "\n",
    "Khi thực hiện 3 lệnh trên, b sẽ bằng [7,1], dù cho ta thực hiện lệnh `b = a` trước `a.remove(5)`\n",
    "\n",
    "<b> Kiểm chứng sự ảnh hưởng khi gán list </b>"
   ]
  },
  {
   "cell_type": "code",
   "execution_count": 20,
   "id": "1dbdf54b",
   "metadata": {},
   "outputs": [
    {
     "name": "stdout",
     "output_type": "stream",
     "text": [
      "[7, 1]\n"
     ]
    }
   ],
   "source": [
    "a = [5,7,1]\n",
    "b = a\n",
    "a.remove(5)\n",
    "print(a)"
   ]
  },
  {
   "cell_type": "markdown",
   "id": "c9c51aad",
   "metadata": {},
   "source": [
    "### Lệnh copy()\n",
    "\n",
    "Cú pháp:\n",
    "\n",
    "`<tên list>.copy()`\n",
    "\n",
    "##### Dùng lệnh copy sẽ khắc phục được vấn đề gán list a cho b\n",
    "\n",
    "<b> Ví dụ: </b>\n",
    "\n",
    "`a = [5,7,1]\n",
    "b = a.copy()\n",
    "a.remove(5)`\n",
    "\n",
    "Khi thực hiện 3 lệnh trên, b vẫn sẽ bằng [5,7,1]\n",
    "\n",
    "Lúc này, b sẽ là một list mới độc lập hoàn toàn với a\n",
    "\n",
    "<b> Khai báo list a, dùng lệnh copy cho list b, rồi thêm phần tử vào list a, sau đó in cả 2 list lên màn hình</b>"
   ]
  },
  {
   "cell_type": "code",
   "execution_count": 54,
   "id": "46759662",
   "metadata": {},
   "outputs": [
    {
     "name": "stdout",
     "output_type": "stream",
     "text": [
      "[1, 2, 3, 4, 5]\n",
      "[1, 2, 3, 4]\n"
     ]
    }
   ],
   "source": [
    "a = [1,2,3,4,5]\n",
    "b = a.copy()\n",
    "a.remove(5)\n",
    "print(b)\n",
    "print(a)"
   ]
  },
  {
   "cell_type": "code",
   "execution_count": 62,
   "id": "6f28c552",
   "metadata": {},
   "outputs": [
    {
     "name": "stdout",
     "output_type": "stream",
     "text": [
      "[]\n"
     ]
    },
    {
     "data": {
      "text/plain": [
       "list"
      ]
     },
     "execution_count": 62,
     "metadata": {},
     "output_type": "execute_result"
    }
   ],
   "source": [
    "a = [1,2,3,4,5]\n",
    "a .clear()\n",
    "print(a)\n",
    "type(a)"
   ]
  },
  {
   "cell_type": "code",
   "execution_count": 63,
   "id": "b37d329c",
   "metadata": {},
   "outputs": [
    {
     "name": "stdout",
     "output_type": "stream",
     "text": [
      "[]\n"
     ]
    },
    {
     "data": {
      "text/plain": [
       "list"
      ]
     },
     "execution_count": 63,
     "metadata": {},
     "output_type": "execute_result"
    }
   ],
   "source": [
    "a = [1,2,3,4,5]\n",
    "a = []\n",
    "print(a)\n",
    "type(a)"
   ]
  },
  {
   "cell_type": "markdown",
   "id": "d8f470e0",
   "metadata": {},
   "source": [
    "### Lệnh len()\n",
    "\n",
    "Tương tự như chuỗi, ta có thể dùng lệnh len cho list để trả về số lượng của list\n",
    "\n",
    "<b> Ví dụ:</b>\n",
    "\n",
    "`a = [3,\"Hello\",5,\"hi\"]\n",
    "b = len(a)`\n",
    "\n",
    "Giá trị của b là 4\n",
    "\n",
    "<b> Khai báo list a, in lên độ dài của list a </b>"
   ]
  },
  {
   "cell_type": "code",
   "execution_count": 27,
   "id": "dfbcf0db",
   "metadata": {},
   "outputs": [
    {
     "name": "stdout",
     "output_type": "stream",
     "text": [
      "6\n"
     ]
    }
   ],
   "source": [
    "a = [1,3,\"Bình\",\"Hello\",5,\"hi\"]\n",
    "b = len(a)\n",
    "print(b)"
   ]
  },
  {
   "cell_type": "markdown",
   "id": "8ac29b78",
   "metadata": {},
   "source": [
    "### Duyệt list bằng lệnh for\n",
    "\n",
    "<b> Duyệt list với vị trí </b>"
   ]
  },
  {
   "cell_type": "code",
   "execution_count": 1,
   "id": "1be33622",
   "metadata": {},
   "outputs": [
    {
     "name": "stdout",
     "output_type": "stream",
     "text": [
      "[0]\n",
      "[1]\n",
      "[2]\n",
      "[3]\n",
      "[4]\n",
      "[5]\n"
     ]
    }
   ],
   "source": [
    "aa = [1,3,\"Bình\",\"Hello\",5,\"hi\"]\n",
    "for i in range(len(aa)):\n",
    "    print([i])\n"
   ]
  },
  {
   "cell_type": "code",
   "execution_count": null,
   "id": "9281add3",
   "metadata": {},
   "outputs": [],
   "source": [
    "## không thay đổi số lượng  => dùng duyệt FOR vị trí\n",
    "## Mún thay đổi phần tử thì xài While"
   ]
  },
  {
   "cell_type": "markdown",
   "id": "53b6e6eb",
   "metadata": {},
   "source": [
    "<b> Duyệt list với giá trị từng phần tử</b>"
   ]
  },
  {
   "cell_type": "code",
   "execution_count": 68,
   "id": "cdf22aa3",
   "metadata": {},
   "outputs": [
    {
     "name": "stdout",
     "output_type": "stream",
     "text": [
      "1\n",
      "3\n",
      "Bình\n",
      "Hello\n",
      "5\n",
      "hi\n"
     ]
    }
   ],
   "source": [
    "aa = [1,3,\"Bình\",\"Hello\",5,\"hi\"]\n",
    "a = 0\n",
    "for i in aa:\n",
    "    print(i)"
   ]
  },
  {
   "cell_type": "markdown",
   "id": "3fcda853",
   "metadata": {},
   "source": [
    "### Bài tập"
   ]
  },
  {
   "cell_type": "markdown",
   "id": "72d9a5fa",
   "metadata": {},
   "source": [
    "Nhập vào một dãy số nguyên dương (ngưng nhập nếu người dùng nhập -1)\n",
    "\n",
    "Sau khi nhập hãy:\n",
    "- In ra số lớn nhất trong dãy\n",
    "- In ra số bé nhất trong dãy\n",
    "- In ra dãy số nguyên tố tìm được trong dãy vừa nhập"
   ]
  },
  {
   "cell_type": "code",
   "execution_count": 15,
   "id": "fe444148",
   "metadata": {},
   "outputs": [
    {
     "name": "stdout",
     "output_type": "stream",
     "text": [
      "12\n",
      "3\n",
      "124\n",
      "564\n",
      "36\n",
      "32\n",
      "-1\n",
      "[12, 3, 124, 564, 36, 32]\n",
      "564\n",
      "3\n",
      "[3]\n"
     ]
    }
   ],
   "source": [
    "a =int(input())\n",
    "L = []\n",
    "while a != -1: \n",
    "    L.append(a) \n",
    "    a = int(input()) \n",
    "print(L) \n",
    "max = L[0] \n",
    "for i in L: \n",
    "    if max < i: \n",
    "        max = i \n",
    "print(max) \n",
    "min = L[0] \n",
    "for i in L: \n",
    "    if min > i: \n",
    "        min = i \n",
    "print(min) \n",
    "def snt(a):\n",
    "    if a<2: return False \n",
    "    for i in range(2,a): \n",
    "        if a%i == 0: \n",
    "            return False \n",
    "    return True \n",
    "L_snt = [] \n",
    "for i in L: \n",
    "    if snt(i): \n",
    "        L_snt.append(i) \n",
    "print(L_snt)"
   ]
  },
  {
   "cell_type": "markdown",
   "id": "f493bb3e",
   "metadata": {},
   "source": [
    "Viết hàm với dữ liệu đầu vào bao gồm 3 tham số: list, a, b. Hàm này có công dụng tìm số lớn nhất trong đoạn từ vị trí a đến vị trí b trong list."
   ]
  },
  {
   "cell_type": "code",
   "execution_count": 34,
   "id": "a730c2f8",
   "metadata": {},
   "outputs": [
    {
     "name": "stdout",
     "output_type": "stream",
     "text": [
      "356\n"
     ]
    }
   ],
   "source": [
    "def ham(list,a,b):\n",
    "\n",
    "    max = list[a]\n",
    "    for i in range (a+1,b+1):\n",
    "         if max < list[i]:\n",
    "            max = list[i] \n",
    "    return max\n",
    "list = [1,2,435,574,34,356,45,7,3]\n",
    "\n",
    "print(ham(list,4,7))"
   ]
  },
  {
   "cell_type": "markdown",
   "id": "87acccb8",
   "metadata": {},
   "source": [
    "Viết hàm có tham số đầu vào là list, giá trị trả về là số lượng số nguyên tố bé hơn 100 trong list"
   ]
  },
  {
   "cell_type": "code",
   "execution_count": 21,
   "id": "c605991d",
   "metadata": {},
   "outputs": [
    {
     "name": "stdout",
     "output_type": "stream",
     "text": [
      "6\n"
     ]
    }
   ],
   "source": [
    "def ham(a):\n",
    "    if a < 2: return False \n",
    "    for i in range(2,a): \n",
    "        if a%i == 0: \n",
    "            return False\n",
    "    return True\n",
    "def demsnt(L):\n",
    "    count = 0\n",
    "    for i in L:\n",
    "        if i < 100 and ham(i):\n",
    "            count+=1\n",
    "    return count\n",
    "print(demsnt([56,2,7,54,14,3,2,2,3]))"
   ]
  },
  {
   "cell_type": "markdown",
   "id": "13840ec8",
   "metadata": {},
   "source": [
    "Viết hàm tìm giá trị dương đầu tiên của list, nếu không có giá trị dương trả về -1"
   ]
  },
  {
   "cell_type": "code",
   "execution_count": 15,
   "id": "d7ffb2b7",
   "metadata": {},
   "outputs": [
    {
     "data": {
      "text/plain": [
       "-1"
      ]
     },
     "execution_count": 15,
     "metadata": {},
     "output_type": "execute_result"
    }
   ],
   "source": [
    "def check(x):\n",
    "    for i in x:\n",
    "        if i > 0: return i\n",
    "    return -1\n",
    "check([-12,-41,-42,-23,-1,-3,-4,-5])"
   ]
  },
  {
   "cell_type": "markdown",
   "id": "0f71c71e",
   "metadata": {},
   "source": [
    "Viết hàm có 2 giá trị đầu vào là list và x. Tìm giá trị trong list xa x nhất"
   ]
  },
  {
   "cell_type": "code",
   "execution_count": 16,
   "id": "03ef7d4c",
   "metadata": {},
   "outputs": [
    {
     "data": {
      "text/plain": [
       "999"
      ]
     },
     "execution_count": 16,
     "metadata": {},
     "output_type": "execute_result"
    }
   ],
   "source": [
    "def check(L,x):\n",
    "    for i in range (len(L)-2):\n",
    "        if L[i] > L[i+1]:\n",
    "            L[i],L[i+1] = L[i+1],L[i]\n",
    "        if L[i+1] > L[i+2]:\n",
    "            L[i+1],L[i+2] = L[i+2],L[i+1]\n",
    "        if L[i] > L[i+2]:\n",
    "            L[i],L[i+2] = L[i+2],L[i]\n",
    "    return L[i+2]\n",
    "check([1,2,4,4,343,12,999],61)\n"
   ]
  },
  {
   "cell_type": "markdown",
   "id": "3b634d0f",
   "metadata": {},
   "source": [
    "Một người dùng số tiền là U đô-la và V Euro để mua một loại nguyên liệu sản xuất. \n",
    "\n",
    "Có N công ty nước ngoài bán nguyên liệu trên được đánh số từ 1 đến N. Công ty thứ i có giá bán Ai đô la/1 kg nguyên liệu và Bi Euro/1 kg nguyên liệu. \n",
    "\n",
    "Tuy nhiên, tại mỗi công ty chỉ bán nguyên liệu cho một khách hàng hoặc theo đô-la, hoặc theo Euro. \n",
    "\n",
    "Hãy giúp người đó tìm cách chọn ra 2 công ty để mua hàng sao cho số lượng nguyên liệu sản xuất có thể mua được là nhiều nhất.\n",
    "\n",
    "Nhập vào: Từ bàn phím 3 số theo thứ tự : N U V (1 ≤ N ≤ 20; 1 ≤ U, V ≤ 1000) và N cặp số nguyên Ai, Bi (1 < Ai, Bi < 1000) (nhập lần lượng A1, B1 rồi A2, B2)\n",
    "\n",
    "In ra : Số lượng nguyên liệu S(kg) người đó mua được với 2 chữ số thập phân."
   ]
  },
  {
   "cell_type": "code",
   "execution_count": null,
   "id": "90401e4e",
   "metadata": {},
   "outputs": [],
   "source": [
    "def check(n,u,v,a1,b1,a2,b2):\n",
    "    s = 0\n",
    "    s1 = 0\n",
    "    s2 = 0\n",
    "    for i in range(n+1):\n",
    "        \n",
    "    if s1 > s2:    \n",
    "        return s1\n",
    "    elif s2 < s1:\n",
    "        return s2\n",
    "    else:\n",
    "        return s1\n",
    "# while n >= 1 and n <= 20:\n",
    "#         n = int(input(\"Nhập lại số lượng công ty: \"))\n",
    "#     if (u < 1 and u > 1000): \n",
    "#         u = int(input(\"Nhập lại giá tiền theo đô la: \"))\n",
    "#     if (v < 1 and u > 1000):\n",
    "#         v = int(input(\"Nhập lại giá tiền theo Euro: \"))\n",
    "# n = int(input(\"Nhập số lượng công ty: \"))\n",
    "# u = int(input(\"Nhập giá tiền theo đô la: \"))\n",
    "# v = int(input(\"Nhập giá tiền theo Euro: \"))\n",
    "# a1 = int(input(\"Nhập giá bán A1: \"))\n",
    "# b1 = int(input(\"Nhập giá bán B1: \"))\n",
    "# a2 = int(input(\"Nhập giá bán A2: \"))\n",
    "# b2 = int(input(\"Nhập giá bán B2: \"))\n",
    "\n",
    "# print(check(n,u,v))"
   ]
  }
 ],
 "metadata": {
  "kernelspec": {
   "display_name": "Python 3 (ipykernel)",
   "language": "python",
   "name": "python3"
  },
  "language_info": {
   "codemirror_mode": {
    "name": "ipython",
    "version": 3
   },
   "file_extension": ".py",
   "mimetype": "text/x-python",
   "name": "python",
   "nbconvert_exporter": "python",
   "pygments_lexer": "ipython3",
   "version": "3.10.4"
  }
 },
 "nbformat": 4,
 "nbformat_minor": 5
}
