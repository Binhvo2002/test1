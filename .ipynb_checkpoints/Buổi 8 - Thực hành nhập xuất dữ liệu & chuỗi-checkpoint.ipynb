{
 "cells": [
  {
   "cell_type": "markdown",
   "id": "5bc93fb0",
   "metadata": {},
   "source": [
    "# Thực hành nhập xuất dữ liệu & chuỗi\n",
    "\n",
    "### Bài tập tra cứu lệnh\n",
    "\n",
    "Nhập vào một chuỗi, kiểm tra xem chuỗi đó có ký tự nào là chữ in hoa hay không, nếu có thì in True, không có thì in False"
   ]
  },
  {
   "cell_type": "code",
   "execution_count": 19,
   "id": "4b3df2ba",
   "metadata": {},
   "outputs": [
    {
     "name": "stdout",
     "output_type": "stream",
     "text": [
      "Nhập chuỗi: binh\n",
      "False\n"
     ]
    }
   ],
   "source": [
    "# a = input(\"nhap ten: \")\n",
    "# print (False) if a.islower() == True else print(True)\n",
    "a = input(\"Nhập chuỗi: \")\n",
    "print (not a.islower())\n"
   ]
  },
  {
   "cell_type": "markdown",
   "id": "e14eae7c",
   "metadata": {},
   "source": [
    "Nhập vào một chuỗi, kiểm tra xem chuỗi đó có ký tự nào là chữ in thường hay không, nếu có thì in True, không có thì in False"
   ]
  },
  {
   "cell_type": "code",
   "execution_count": 26,
   "id": "ab00180c",
   "metadata": {
    "scrolled": true
   },
   "outputs": [
    {
     "name": "stdout",
     "output_type": "stream",
     "text": [
      "nhap ten: Bình\n",
      "True\n"
     ]
    }
   ],
   "source": [
    "# a = input(\"nhap ten: \")\n",
    "# print (False) if a.isupper() == True else print(True)\n",
    "a = input(\"Nhập chuỗi: \")\n",
    "print (not a.isupper())"
   ]
  },
  {
   "cell_type": "markdown",
   "id": "eab86ecf",
   "metadata": {},
   "source": [
    "Nhập vào một chuỗi a và chuỗi b, tìm vị trí đầu tiên xuất hiện chuỗi b trong chuỗi a"
   ]
  },
  {
   "cell_type": "code",
   "execution_count": 6,
   "id": "051eb4af",
   "metadata": {},
   "outputs": [
    {
     "name": "stdout",
     "output_type": "stream",
     "text": [
      "nhập chuỗi a: xin chào\n",
      "nhập chuỗi b: chào\n",
      "4\n"
     ]
    }
   ],
   "source": [
    "a = input('nhập chuỗi a: ')\n",
    "b = input('nhập chuỗi b: ')\n",
    "print(a.find(b))\n"
   ]
  },
  {
   "cell_type": "markdown",
   "id": "9239bc4e",
   "metadata": {},
   "source": [
    "Nhập vào một chuỗi a, hãy xóa từ đầu tiên trong chuỗi a, rồi in ra màn hình"
   ]
  },
  {
   "cell_type": "code",
   "execution_count": 1,
   "id": "90967cd9",
   "metadata": {},
   "outputs": [
    {
     "name": "stdout",
     "output_type": "stream",
     "text": [
      "nhap a: xin chào\n",
      "False\n"
     ]
    }
   ],
   "source": [
    "a = input(\"nhap a: \")\n",
    "tim_khoang_trang = a.find(\" \")\n",
    "bo_ki_tu_dau = a[tim_khoang_trang+1:]\n",
    "print(bo_ki_tu_dau)"
   ]
  },
  {
   "cell_type": "markdown",
   "id": "05b74fb4",
   "metadata": {},
   "source": [
    "### Bài 1\n",
    "\n",
    "Nhập vào một chuỗi, đếm xem có bao nhiêu từ trong chuỗi kết thúc bằng chữ n"
   ]
  },
  {
   "cell_type": "code",
   "execution_count": 13,
   "id": "d126675c",
   "metadata": {},
   "outputs": [
    {
     "name": "stdout",
     "output_type": "stream",
     "text": [
      "nhập chuỗi: binh\n",
      "0\n"
     ]
    }
   ],
   "source": [
    "\n",
    "a = input(\"nhập chuỗi: \")\n",
    "a += \" \"\n",
    "a = a.count(\"n \")+a.count(\"n, \")+ a.count(\"n. \")+ a.count(\"n! \")+a.count(\"n? \")\n",
    "print(a)"
   ]
  },
  {
   "cell_type": "markdown",
   "id": "53a78d35",
   "metadata": {},
   "source": [
    "### Bài 2\n",
    "\n",
    "Nhập vào một chuỗi, kiểm tra xem chuỗi đó có ký tự hoa hoặc ký tự thường hay không."
   ]
  },
  {
   "cell_type": "code",
   "execution_count": 16,
   "id": "f5be8c39",
   "metadata": {},
   "outputs": [
    {
     "name": "stdout",
     "output_type": "stream",
     "text": [
      "Hãy nhập vào một chuỗi: Bình\n",
      "Chuỗi a có ký tự hoa hay không:  True\n",
      "Chuỗi a có ký tự thường hay không:  True\n"
     ]
    }
   ],
   "source": [
    "# a = input(\"nhap ten: \")\n",
    "# if a.islower() == True:\n",
    "#     print(\"Có chữ thường\")\n",
    "# elif a.isupper()== True:\n",
    "#     print(\"Có chữ thường\")\n",
    "# else:\n",
    "#     print(\"Không\")\n",
    "a = input(\"Hãy nhập vào một chuỗi: \")\n",
    "print(\"Chuỗi a có ký tự hoa hay không: \", not a.isupper())\n",
    "print(\"Chuỗi a có ký tự thường hay không: \", not a.islower())"
   ]
  },
  {
   "cell_type": "markdown",
   "id": "64ca662e",
   "metadata": {},
   "source": [
    "### Bài 3\n",
    "\n",
    "Nhập vào một chuỗi, kiểm tra tính đối xứng của chuỗi đó"
   ]
  },
  {
   "cell_type": "code",
   "execution_count": 26,
   "id": "749f4136",
   "metadata": {},
   "outputs": [
    {
     "name": "stdout",
     "output_type": "stream",
     "text": [
      "False\n"
     ]
    }
   ],
   "source": [
    "a= (\"nhap chuoi: \")\n",
    "# k = -1\n",
    "# a_nguoc = \"\"\n",
    "# for i in range (len(a)):\n",
    "#     a_nguoc +=a[k]\n",
    "#     k -=1\n",
    "a = a_nguoc[::-1]\n",
    "print(a==a_nguoc)"
   ]
  },
  {
   "cell_type": "markdown",
   "id": "85dd8fef",
   "metadata": {},
   "source": [
    "### Bài 4\n",
    "\n",
    "Nhập vào một chuỗi, in ra các ký tự trong chuỗi và nếu là ký tự hoa thì in kèm True, ký tự thường thì in kèm False"
   ]
  },
  {
   "cell_type": "code",
   "execution_count": 28,
   "id": "0d099247",
   "metadata": {},
   "outputs": [
    {
     "name": "stdout",
     "output_type": "stream",
     "text": [
      "Nhap vao chuoi: 1413423423h2if\n",
      "False\n",
      "False\n",
      "False\n",
      "False\n",
      "False\n",
      "False\n",
      "False\n",
      "False\n",
      "False\n",
      "False\n",
      "False\n",
      "False\n",
      "False\n",
      "False\n"
     ]
    }
   ],
   "source": [
    "a = input(\"Nhap vao chuoi: \")\n",
    "k = 0\n",
    "for i in range (len(a)):\n",
    "    print(a[k].isupper())\n",
    "    k+=1"
   ]
  },
  {
   "cell_type": "markdown",
   "id": "1373dc74",
   "metadata": {},
   "source": [
    "### Bài 5\n",
    "\n",
    "Nhập vào một chuỗi, tìm các ký tự chỉ xuất hiện một lần trong chuỗi (nếu xuất hiện 1 lần in true, xuất hiện nhiều lần in false)\n",
    "\n",
    "Ví dụ:\n",
    "\n",
    "Nhập chuỗi: \"ABAbc\"\n",
    "\n",
    "In:\n",
    "\n",
    "A: False\n",
    "\n",
    "B: True\n",
    "\n",
    "A: False\n",
    "\n",
    "b: True\n",
    "\n",
    "c: True"
   ]
  },
  {
   "cell_type": "code",
   "execution_count": 31,
   "id": "a93bc53d",
   "metadata": {},
   "outputs": [
    {
     "name": "stdout",
     "output_type": "stream",
     "text": [
      "Nhap vao chuoi: 78t78h\n",
      "7,False\n",
      "8,False\n",
      "t,True\n",
      "7,False\n",
      "8,False\n",
      "h,True\n"
     ]
    }
   ],
   "source": [
    "a = input(\"Nhap vao chuoi: \")\n",
    "k = 0\n",
    "for i in range (len(a)):\n",
    "    print(a[k],a.count(a[k])==1, sep= \",\")\n",
    "    k+=1"
   ]
  },
  {
   "cell_type": "markdown",
   "id": "69bebf4c",
   "metadata": {},
   "source": [
    "### Bài 6\n",
    "\n",
    "Nhập vào một chuỗi, kiểm tra trong chuỗi có con số hay không, nếu có in True, không có in False"
   ]
  },
  {
   "cell_type": "code",
   "execution_count": 39,
   "id": "1b4eab4f",
   "metadata": {},
   "outputs": [
    {
     "name": "stdout",
     "output_type": "stream",
     "text": [
      "Nhap vao chuoi: fjsdnfsio9\n",
      "True\n"
     ]
    }
   ],
   "source": [
    "a = input(\"Nhap vao chuoi: \")\n",
    "k = 0 \n",
    "c = False\n",
    "for i in range(len(a)):\n",
    "    c = c or a[k].isnumeric()\n",
    "    k+=1\n",
    "print(c)"
   ]
  },
  {
   "cell_type": "markdown",
   "id": "1e51403c",
   "metadata": {},
   "source": [
    "### Bài 7\n",
    "\n",
    "Nhập vào một chuỗi, tách những con số có trong chuỗi ra rồi tính tổng của chúng\n",
    "\n",
    "In tổng lên màn hình"
   ]
  },
  {
   "cell_type": "code",
   "execution_count": null,
   "id": "a34e349d",
   "metadata": {},
   "outputs": [],
   "source": [
    "a = input(\"nhap a\")\n",
    "k = 0 \n",
    "b = 0 \n",
    "for i in range (10):\n",
    "    b += k*a.count(str(k))\n",
    "    k+=1\n",
    "print(b)"
   ]
  },
  {
   "cell_type": "markdown",
   "id": "e951779d",
   "metadata": {},
   "source": [
    "### Bài 8\n",
    "\n",
    "Nhập vào một chuỗi, đảo ngược chuỗi đã nhập rồi in ra màn hình"
   ]
  },
  {
   "cell_type": "code",
   "execution_count": null,
   "id": "9305f0f1",
   "metadata": {},
   "outputs": [],
   "source": [
    "chuoi = input(\"Nhập vào một chuỗi:\")\n",
    "a = len(chuoi)\n",
    "k = -1\n",
    "b = \"\"\n",
    "for i in range(a):\n",
    "    b+=chuoi[k]\n",
    "    k-=1\n",
    "print(b)"
   ]
  },
  {
   "cell_type": "markdown",
   "id": "04194b5c",
   "metadata": {},
   "source": [
    "### Bài 9\n",
    "\n",
    "Nhập vào một chuỗi, kiểm tra xem mỗi từ trong chuỗi có được viết hoa chữ cái đầu hay không, nếu tất cả đều được viết hoa thì in ra True, còn không thì in ra False\n",
    "\n",
    "Trong trường hợp là False, hãy viết hoa tất cả các chữ cái đầu của mỗi từ rồi in lên màn hình\n",
    "\n",
    "Cách làm thông thường:"
   ]
  },
  {
   "cell_type": "code",
   "execution_count": null,
   "id": "9f947c7d",
   "metadata": {},
   "outputs": [],
   "source": [
    "a=input(\"Nhập chuỗi a: \")\n",
    "a=\" \"+a\n",
    "kq=True\n",
    "for i in range(len(a)):\n",
    "    k=a.find(\" \")+1\n",
    "    kq=kq and not a[k].islower()\n",
    "print(kq)\n",
    "if kq==False:\n",
    "    print(a.title())"
   ]
  },
  {
   "cell_type": "markdown",
   "id": "f43e32af",
   "metadata": {},
   "source": [
    "Cách sử dụng lệnh có sẵn:"
   ]
  },
  {
   "cell_type": "code",
   "execution_count": 2,
   "id": "714f1412",
   "metadata": {},
   "outputs": [
    {
     "name": "stdout",
     "output_type": "stream",
     "text": [
      "Nhập chuỗi a: Bjipdjgs\n",
      "True\n"
     ]
    }
   ],
   "source": [
    "a=input(\"Nhập chuỗi a: \")\n",
    "print(a.istitle())\n",
    "\n"
   ]
  },
  {
   "cell_type": "code",
   "execution_count": null,
   "id": "bad39712",
   "metadata": {},
   "outputs": [],
   "source": []
  }
 ],
 "metadata": {
  "kernelspec": {
   "display_name": "Python 3 (ipykernel)",
   "language": "python",
   "name": "python3"
  },
  "language_info": {
   "codemirror_mode": {
    "name": "ipython",
    "version": 3
   },
   "file_extension": ".py",
   "mimetype": "text/x-python",
   "name": "python",
   "nbconvert_exporter": "python",
   "pygments_lexer": "ipython3",
   "version": "3.10.4"
  }
 },
 "nbformat": 4,
 "nbformat_minor": 5
}
