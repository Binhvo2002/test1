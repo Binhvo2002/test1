{
 "cells": [
  {
   "cell_type": "markdown",
   "id": "dcdb816e",
   "metadata": {},
   "source": [
    "# Thực hành cấu trúc điều khiển\n",
    "\n",
    "### Bài 1\n",
    "\n",
    "Cho phương trình bậc 2: ax^2 + bx + c = 0\n",
    "\n",
    "Nhập a, b, c\n",
    "\n",
    "Giải và biện luận phương trình trên"
   ]
  },
  {
   "cell_type": "code",
   "execution_count": 8,
   "id": "b5a5c325",
   "metadata": {},
   "outputs": [
    {
     "name": "stdout",
     "output_type": "stream",
     "text": [
      "nhập a: 1\n",
      "nhập b: -6\n",
      "nhập c: 8\n",
      "nghiệm phương trình x1 = 4.0 và x2 = 2.0\n"
     ]
    }
   ],
   "source": [
    "a = int(input(\"nhập a: \"))\n",
    "b = int(input(\"nhập b: \"))\n",
    "c = int(input(\"nhập c: \"))\n",
    "delta = (b**2) - (4*a*c)\n",
    "if a == 0:\n",
    "    if b ==0:\n",
    "        if c ==0:\n",
    "            print(\"Phương trình vô số nghiệm\")\n",
    "        else:\n",
    "            print(\"Phương trình vô nghiệm\")\n",
    "    else:\n",
    "        print(f\"Phương trình chỉ có 1 nghiệm {-c/b}\")\n",
    "else:\n",
    "    if delta > 0: \n",
    "        print(f\"nghiệm phương trình x1 = {(-b+(delta**0.5))/2} và x2 = {(-b-(delta**0.5))/2}\")\n",
    "    elif delta == 0:\n",
    "        print(f\"phương trình có 1 nghiệm kép x = {-b/(2*a)}\")\n",
    "    else: \n",
    "        print(\"phương trình vô nghiệm\")\n",
    "    "
   ]
  },
  {
   "cell_type": "markdown",
   "id": "6f7d329d",
   "metadata": {},
   "source": [
    "### Bài 2\n",
    "\n",
    "Hãy nhập vào một số\n",
    "\n",
    "Xác định coi đó có phải là số nguyên tố hay không"
   ]
  },
  {
   "cell_type": "code",
   "execution_count": null,
   "id": "049c85f5",
   "metadata": {},
   "outputs": [],
   "source": [
    "a = int(input(\"nhập a: \"))\n",
    "if a>1:\n",
    "    for i in range (2,a):\n",
    "        if (a%i) == 0:\n",
    "            print(f\"{a} không là số nguyên tố\")\n",
    "            print(f\"{i} nhân {a//i} bằng {a}\")\n",
    "            break\n",
    "        else:\n",
    "            print(f\"{a} là số nguyên tố\")\n",
    "else:\n",
    "    print(f\"{a} không là số nguyên tố\")"
   ]
  },
  {
   "cell_type": "code",
   "execution_count": null,
   "id": "d9800067",
   "metadata": {},
   "outputs": [],
   "source": []
  },
  {
   "cell_type": "markdown",
   "id": "75f7717b",
   "metadata": {},
   "source": [
    "# Bài 3\n",
    "\n",
    "Hãy nhập vào số n\n",
    "\n",
    "Hãy đếm số chữ số 0 tận cùng của n giai thừa\n",
    "\n",
    "(Bài này nâng cao, mọi người có thể bỏ qua)"
   ]
  },
  {
   "cell_type": "code",
   "execution_count": null,
   "id": "789e0e76",
   "metadata": {},
   "outputs": [],
   "source": []
  },
  {
   "cell_type": "markdown",
   "id": "29cd6c81",
   "metadata": {},
   "source": [
    "### Bài 4\n",
    "\n",
    "In ra tất cả các số chia hết cho 3 nhỏ hơn 100"
   ]
  },
  {
   "cell_type": "code",
   "execution_count": 1,
   "id": "0b848981",
   "metadata": {},
   "outputs": [
    {
     "name": "stdout",
     "output_type": "stream",
     "text": [
      "3\n",
      "6\n",
      "9\n",
      "12\n",
      "15\n",
      "18\n",
      "21\n",
      "24\n",
      "27\n",
      "30\n",
      "33\n",
      "36\n",
      "39\n",
      "42\n",
      "45\n",
      "48\n",
      "51\n",
      "54\n",
      "57\n",
      "60\n",
      "63\n",
      "66\n",
      "69\n",
      "72\n",
      "75\n",
      "78\n",
      "81\n",
      "84\n",
      "87\n",
      "90\n",
      "93\n",
      "96\n",
      "99\n"
     ]
    }
   ],
   "source": [
    "a = 1\n",
    "for i in range(100):\n",
    "    if a%3 == 0:\n",
    "        print(a)\n",
    "    a += 1"
   ]
  },
  {
   "cell_type": "markdown",
   "id": "04dbf99b",
   "metadata": {},
   "source": [
    "### Bài 5\n",
    "\n",
    "In ra tất cả các số lẻ nhưng không chia hết cho 3 nhỏ hơn 100"
   ]
  },
  {
   "cell_type": "code",
   "execution_count": 3,
   "id": "769eb439",
   "metadata": {},
   "outputs": [
    {
     "name": "stdout",
     "output_type": "stream",
     "text": [
      "1\n",
      "5\n",
      "7\n",
      "11\n",
      "13\n",
      "17\n",
      "19\n",
      "23\n",
      "25\n",
      "29\n",
      "31\n",
      "35\n",
      "37\n",
      "41\n",
      "43\n",
      "47\n",
      "49\n",
      "53\n",
      "55\n",
      "59\n",
      "61\n",
      "65\n",
      "67\n",
      "71\n",
      "73\n",
      "77\n",
      "79\n",
      "83\n",
      "85\n",
      "89\n",
      "91\n",
      "95\n",
      "97\n"
     ]
    }
   ],
   "source": [
    "a = 1\n",
    "for i in range(100):\n",
    "    if a%3 != 0 and a%2!=0:\n",
    "        print(a)\n",
    "    a += 1"
   ]
  },
  {
   "cell_type": "markdown",
   "id": "26dd47fb",
   "metadata": {},
   "source": [
    "### Bài 5\n",
    "\n",
    "Tại một cửa hàng nọ có menu như sau:\n",
    "\n",
    "1. Gà rán giá 35k\n",
    "2. Hamburger giá 50k\n",
    "3. Pesi giá 10k\n",
    "\n",
    "Nhập số lượng món hàng cần mua\n",
    "\n",
    "Tính và in ra tổng giá tiền (hiển thị có dấu chấm mỗi 3 chữ số để người dùng để quan sát)\n",
    "\n",
    "Nếu giá trị đơn hàng trên 2 triệu, giảm 10% cho khách, trên 4 triệu, giảm 15%\n",
    "\n",
    "Tính và in ra tổng giá tiền được giảm (hiển thị có dấu chấm mỗi 3 chữ số để người dùng để quan sát)\n",
    "\n",
    "Tính và in ra tổng giá tiền khách cần trả (hiển thị có dấu chấm mỗi 3 chữ số để người dùng để quan sát)\n",
    "\n",
    "In ra dòng chữ \"Cảm ơn quý khách đã mua hàng\""
   ]
  },
  {
   "cell_type": "code",
   "execution_count": 23,
   "id": "8509df1e",
   "metadata": {},
   "outputs": [
    {
     "name": "stdout",
     "output_type": "stream",
     "text": [
      "Nhập số lượng gà rán:100\n",
      "Nhập số lượng hamburger:100\n",
      "Nhập số lượng pepsi:100\n",
      "Tổng tiền được giảm'950000.0\n",
      "Tổng giá tiền 855.000.0.0\n",
      "Cảm ơn quý khách đã mua hàng\n"
     ]
    }
   ],
   "source": [
    "a = int(input('Nhập số lượng gà rán:'))\n",
    "b = int(input('Nhập số lượng hamburger:'))\n",
    "c = int(input('Nhập số lượng pepsi:'))\n",
    "t = a*35000 + b*50000 + c*10000\n",
    "if t > 2*10**6:\n",
    "    print(f\"Tổng tiền được giảm'{t*0.1}\")\n",
    "    t = t*0.9\n",
    "elif t > 4*10**6:\n",
    "    print(f'Tổng tiền được giảm {t*0.15}')\n",
    "    t = t*0.85\n",
    "\n",
    "tong_tam = \"\"\n",
    "t = str(t)\n",
    "k = -1\n",
    "dem = 0\n",
    "\n",
    "for i in range(len(t)): ## chạy từng ký tự trong chuỗi tong (chạy ngược từ dưới lên)\n",
    "    if dem == 3: ## đếm được 3 ký tự thì đưa thêm dấu chấm vào\n",
    "        tong_tam += \".\"\n",
    "        dem = 0\n",
    "    dem += 1\n",
    "    tong_tam += t[k]\n",
    "    k -= 1\n",
    "t = tong_tam[::-1]\n",
    "\n",
    "print(f'Tổng giá tiền {t}')\n",
    "print('Cảm ơn quý khách đã mua hàng')"
   ]
  },
  {
   "cell_type": "code",
   "execution_count": null,
   "id": "14c054d9",
   "metadata": {},
   "outputs": [],
   "source": []
  },
  {
   "cell_type": "markdown",
   "id": "ab10a1ce",
   "metadata": {},
   "source": [
    "### Bài 6\n",
    "\n",
    "Nhập vào chiều cao (cm) và cân nặng (kg), tính số BMI và xét rồi xin kết quả theo dữ liệu sau:\n",
    "\n",
    "- BMI < 16: Gầy cấp độ III\n",
    "- 16 <= BMI < 17:  Gầy cấp độ II\n",
    "- 17<= BMI < 18.5: Gầy cấp độ I\n",
    "- 18.5 <= BMI < 25: Bình thường\n",
    "- 25 <= BMI < 30: Thừa cân\n",
    "- 30 <= BMI < 35 : Béo phì cấp độ I\n",
    "- 35 <= BMI < 40: Béo phì cấp độ II\n",
    "- BMI > 40: Béo phì cấp độ III"
   ]
  },
  {
   "cell_type": "code",
   "execution_count": 24,
   "id": "1058f441",
   "metadata": {},
   "outputs": [
    {
     "name": "stdout",
     "output_type": "stream",
     "text": [
      " nhập chiều cao (cm): 120\n",
      " nhập chiều cân nặng (kg): 100\n",
      "Béo phì cấp III\n"
     ]
    }
   ],
   "source": [
    "a = int(input(\" nhập chiều cao (cm): \"))\n",
    "b = int(input(\" nhập chiều cân nặng (kg): \"))\n",
    "BMI = b/((a/100)**2)\n",
    "if BMI < 16:\n",
    "    print(\"gầy cấp độ III\")\n",
    "elif BMI < 17:\n",
    "    print(\"Gầy cấp độ II\")\n",
    "elif BMI < 18.5:\n",
    "     print(\"Gầy cấp độ I\")\n",
    "elif BMI < 25:\n",
    "     print(\"Bình thường\")\n",
    "elif BMI < 30:\n",
    "     print(\"Thừa cân\")\n",
    "elif BMI < 35:\n",
    "    print(\"Béo phì cấp I\")\n",
    "elif BMI < 40:\n",
    "    print(\"Béo phì cấp II\")\n",
    "else:\n",
    "    print(\"Béo phì cấp III\")"
   ]
  },
  {
   "cell_type": "markdown",
   "id": "f7620342",
   "metadata": {},
   "source": [
    "### Bài 7\n",
    "\n",
    "Nhập ngày, tháng, năm. Hãy tính và in ra màn hình kể từ đầu năm đến ngày vừa nhập là bao nhiêu ngày."
   ]
  },
  {
   "cell_type": "code",
   "execution_count": 3,
   "id": "4c57f0a5",
   "metadata": {},
   "outputs": [
    {
     "name": "stdout",
     "output_type": "stream",
     "text": [
      "nhập thời gian: 20.2.2022\n",
      "thời gian cách nhau: 50 days, 0:00:00 ngày\n"
     ]
    }
   ],
   "source": [
    "import datetime\n",
    "x = input(\"nhập thời gian: \")\n",
    "y = datetime.datetime.strptime(x, \"%d.%m.%Y\")\n",
    "z = datetime.datetime(2022, 1, 1)\n",
    "t = y-z\n",
    "print(f'thời gian cách nhau: {t} ngày')"
   ]
  },
  {
   "cell_type": "code",
   "execution_count": 2,
   "id": "7a039cae",
   "metadata": {},
   "outputs": [
    {
     "name": "stdout",
     "output_type": "stream",
     "text": [
      "Nhập ngày:20\n",
      "Nhập tháng:2\n",
      "Nhập năm:2022\n",
      "51\n"
     ]
    }
   ],
   "source": [
    "d = int(input(\"Nhập ngày:\"))\n",
    "m = int(input(\"Nhập tháng:\"))\n",
    "y = int(input(\"Nhập năm:\"))\n",
    "\n",
    "day = d\n",
    "## thí dụ mình nhập vào tháng 6 ~~> mình cho k chạy từ 1 đến 5\n",
    "k = 1\n",
    "for i in range(m-1):\n",
    "    if k == 4 or k == 6 or k == 9 or k == 11:\n",
    "        day += 30\n",
    "    elif k == 2:\n",
    "        if (y % 4 == 0 and y % 100 != 0) or y % 400:\n",
    "            day += 29\n",
    "        else:\n",
    "            day += 28\n",
    "    else:\n",
    "        day += 31\n",
    "    k += 1\n",
    "print(day)"
   ]
  },
  {
   "cell_type": "code",
   "execution_count": null,
   "id": "ffa9f63d",
   "metadata": {},
   "outputs": [],
   "source": []
  }
 ],
 "metadata": {
  "kernelspec": {
   "display_name": "Python 3 (ipykernel)",
   "language": "python",
   "name": "python3"
  },
  "language_info": {
   "codemirror_mode": {
    "name": "ipython",
    "version": 3
   },
   "file_extension": ".py",
   "mimetype": "text/x-python",
   "name": "python",
   "nbconvert_exporter": "python",
   "pygments_lexer": "ipython3",
   "version": "3.10.4"
  }
 },
 "nbformat": 4,
 "nbformat_minor": 5
}
