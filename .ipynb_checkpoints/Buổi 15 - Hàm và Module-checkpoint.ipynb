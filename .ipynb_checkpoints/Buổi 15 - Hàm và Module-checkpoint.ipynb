{
 "cells": [
  {
   "cell_type": "markdown",
   "id": "73456e5e",
   "metadata": {},
   "source": [
    "# Hàm\n",
    "\n",
    "### Hàm\n",
    "\n",
    "Cú pháp:\n",
    "\n",
    "`def <tên hàm>(<tham số)>:\n",
    "    //Nội dung hàm`\n",
    "\n",
    "Gọi hàm:\n",
    "`<tên hàm>(<giá trị đầu vào>)`\n",
    "\n",
    "Ví dụ:\n",
    "\n",
    "Hãy viết 1 hàm số để tính tổng 2 số đầu vào và in nó ra màn hình"
   ]
  },
  {
   "cell_type": "code",
   "execution_count": 1,
   "id": "af5b9f6d",
   "metadata": {},
   "outputs": [
    {
     "name": "stdout",
     "output_type": "stream",
     "text": [
      "chào\n"
     ]
    }
   ],
   "source": [
    "def chay():\n",
    "    print(\"chào\")\n",
    "chay()"
   ]
  },
  {
   "cell_type": "markdown",
   "id": "a7c39f47",
   "metadata": {},
   "source": [
    "### Giá trị trả về của hàm\n",
    "\n",
    "# return\n",
    "\n",
    "Cú pháp:\n",
    "\n",
    "`retrun <giá trị trả về>`\n",
    "\n",
    "##### Lưu ý: Sau khi thực hiện lệnh return, chương trình sẽ thoát khỏi hàm ngay lập tức (những lệnh sau đó không được thực hiện)\n",
    "\n",
    "Ví dụ:\n",
    "\n",
    "Hãy viết 1 hàm trả về giá trị trung bình của 2 số bất kỳ"
   ]
  },
  {
   "cell_type": "code",
   "execution_count": 6,
   "id": "0b527b95",
   "metadata": {},
   "outputs": [
    {
     "name": "stdout",
     "output_type": "stream",
     "text": [
      "3\n"
     ]
    }
   ],
   "source": [
    "def ttd(x):\n",
    "    x = x**0.5\n",
    "    print(int(x))\n",
    "ttd(9)"
   ]
  },
  {
   "cell_type": "code",
   "execution_count": 7,
   "id": "dd506f6c",
   "metadata": {},
   "outputs": [
    {
     "name": "stdout",
     "output_type": "stream",
     "text": [
      "-1\n"
     ]
    }
   ],
   "source": [
    "def hieu(x,y):\n",
    "    print(x-y)\n",
    "hieu(3,4)"
   ]
  },
  {
   "cell_type": "code",
   "execution_count": 9,
   "id": "a935456f",
   "metadata": {},
   "outputs": [
    {
     "name": "stdout",
     "output_type": "stream",
     "text": [
      "6\n"
     ]
    }
   ],
   "source": [
    "def tich(x,y):\n",
    "    print(x*y)\n",
    "tich(2,3)"
   ]
  },
  {
   "cell_type": "markdown",
   "id": "1d7f8db0",
   "metadata": {},
   "source": [
    "### Bài tập"
   ]
  },
  {
   "cell_type": "markdown",
   "id": "75fb488b",
   "metadata": {},
   "source": [
    "Viết hàm kiểm tra số nguyên tố"
   ]
  },
  {
   "cell_type": "code",
   "execution_count": 55,
   "id": "63701bd7",
   "metadata": {},
   "outputs": [
    {
     "name": "stdout",
     "output_type": "stream",
     "text": [
      "nhập: 2\n"
     ]
    },
    {
     "data": {
      "text/plain": [
       "True"
      ]
     },
     "execution_count": 55,
     "metadata": {},
     "output_type": "execute_result"
    }
   ],
   "source": [
    "def snt(x):\n",
    "    if x < 2: return False\n",
    "    for i in range(2,x):\n",
    "        if x%i == 0:\n",
    "            return False\n",
    "    return True\n",
    "snt(int(input(\"nhập: \")))"
   ]
  },
  {
   "cell_type": "markdown",
   "id": "221103cf",
   "metadata": {},
   "source": [
    "Nhập vào 3 điểm toán, lý, hóa\n",
    "\n",
    "Hãy viết hàm in điểm trung bung bình rồi tính điểm trung bình của toán lý, toán hóa, lý hóa và toán lý hóa"
   ]
  },
  {
   "cell_type": "code",
   "execution_count": 3,
   "id": "dc361df7",
   "metadata": {},
   "outputs": [
    {
     "name": "stdout",
     "output_type": "stream",
     "text": [
      "nhập toán: 10\n",
      "nhập lý: 5\n",
      "nhập hoá: 3\n",
      "điểm toán lý hoá: 6.0\n",
      "điểm toán lý : 7.5\n",
      "điểm toán hoá: 6.5\n",
      "điểm lý hoá: 4.0\n"
     ]
    }
   ],
   "source": [
    "def tb2so(x,y):\n",
    "    return (x+y)/2\n",
    "def tb3so(x,y,z): \n",
    "    return (x+y+z)/3\n",
    "toan = float(input(\"nhập toán: \"))\n",
    "ly = float(input(\"nhập lý: \"))\n",
    "hoa = float(input(\"nhập hoá: \"))\n",
    "print(f\"điểm toán lý hoá: {tb3so(toan,ly,hoa)}\")\n",
    "print(f\"điểm toán lý : {tb2so(toan,ly)}\")\n",
    "print(f\"điểm toán hoá: {tb2so(toan,hoa)}\")\n",
    "print(f\"điểm lý hoá: {tb2so(ly,hoa)}\")\n",
    "\n"
   ]
  },
  {
   "cell_type": "markdown",
   "id": "50f43307",
   "metadata": {},
   "source": [
    "Viết hàm đếm số lượng từ của một chuỗi đưa vào"
   ]
  },
  {
   "cell_type": "code",
   "execution_count": 8,
   "id": "a055169d",
   "metadata": {},
   "outputs": [
    {
     "name": "stdout",
     "output_type": "stream",
     "text": [
      "nhập gì đi: xin chào\n"
     ]
    },
    {
     "data": {
      "text/plain": [
       "2"
      ]
     },
     "execution_count": 8,
     "metadata": {},
     "output_type": "execute_result"
    }
   ],
   "source": [
    "def dem(x):\n",
    "    x+=' '\n",
    "    dem = 0\n",
    "    for i in x:\n",
    "        if i ==\" \":\n",
    "            dem +=1\n",
    "    return dem \n",
    "dem(input(\"nhập gì đi: \"))"
   ]
  },
  {
   "cell_type": "markdown",
   "id": "b4adef40",
   "metadata": {},
   "source": [
    "Viết một hàm vẽ hình tròn, một hàm vẽ hình vuông và một hàm vẽ hình tam giác đều (giá trị đầu vào là a)\n",
    "\n",
    "Tất cả hàm này, bắt đầu từ 1 vị trí, sau khi vẽ ra, con trỏ sẽ tiến tới vị trí tiếp theo, cách vì đầu một khoảng a + 10 theo chiều x từ trái sang"
   ]
  },
  {
   "cell_type": "code",
   "execution_count": null,
   "id": "e405d1d4",
   "metadata": {},
   "outputs": [],
   "source": [
    "import turtle \n",
    "t = turtle.Turtle()\n",
    "\n",
    "def hinhtron(a):\n",
    "    t.pu()\n",
    "    t.fd((a))\n",
    "    t.pd()\n",
    "    t.circle(a/4 +  5)\n",
    "    \n",
    "    t.pu()\n",
    "    t.fd((a/2 + 10))\n",
    "    t.pd()\n",
    "def hinhvuong(a):\n",
    "    for i in range(4):\n",
    "        t.fd(a)\n",
    "        t.lt(90)\n",
    "    t.pu()\n",
    "    t.fd(a + 10)\n",
    "    t.pd()\n",
    "def tamgiacdeu(a):\n",
    "    for i in range(3):\n",
    "        t.fd(a)\n",
    "        t.lt(120)\n",
    "    t.pu()\n",
    "    t.fd(a + 10)\n",
    "    t.pd()\n",
    "\n",
    "a = int(input(\"Nhập vào một số a để vẽ các hình: \"))\n",
    "    \n",
    "hinhtron(a)\n",
    "hinhvuong(a)\n",
    "tamgiacdeu(a)"
   ]
  }
 ],
 "metadata": {
  "kernelspec": {
   "display_name": "Python 3 (ipykernel)",
   "language": "python",
   "name": "python3"
  },
  "language_info": {
   "codemirror_mode": {
    "name": "ipython",
    "version": 3
   },
   "file_extension": ".py",
   "mimetype": "text/x-python",
   "name": "python",
   "nbconvert_exporter": "python",
   "pygments_lexer": "ipython3",
   "version": "3.10.4"
  }
 },
 "nbformat": 4,
 "nbformat_minor": 5
}
