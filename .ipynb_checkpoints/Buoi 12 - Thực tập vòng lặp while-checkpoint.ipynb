{
 "cells": [
  {
   "cell_type": "markdown",
   "id": "1f7be993",
   "metadata": {},
   "source": [
    "# Thực tập vòng lặp While\n",
    "\n",
    "### Bài 1\n",
    "\n",
    "Nhập vào số a, sử dụng lệnh while (không sử dụng break và for) để xác định xem số đó có phải là số nguyên tố hay không"
   ]
  },
  {
   "cell_type": "code",
   "execution_count": 1,
   "id": "8cb73965",
   "metadata": {},
   "outputs": [
    {
     "name": "stdout",
     "output_type": "stream",
     "text": [
      "nhập a: 23\n",
      "a là số nguyên tố\n"
     ]
    }
   ],
   "source": [
    "a = int(input(\"nhập a: \"))\n",
    "b =1 \n",
    "c = 0\n",
    "if a>=2:\n",
    "    while b<= a:\n",
    "        if a%b == 0:\n",
    "            c +=1\n",
    "        b +=1\n",
    "if c == 2:\n",
    "    print(\"a là số nguyên tố\")\n",
    "else:\n",
    "    print('a không phải là số nguyên tố')"
   ]
  },
  {
   "cell_type": "markdown",
   "id": "9f2357ca",
   "metadata": {},
   "source": [
    "### Bài 2\n",
    "\n",
    "Hãy sử dụng lệnh while lập trình cho bài đoán số ở buổi thứ 9"
   ]
  },
  {
   "cell_type": "code",
   "execution_count": null,
   "id": "db79cb9d",
   "metadata": {},
   "outputs": [],
   "source": []
  },
  {
   "cell_type": "markdown",
   "id": "58f5b789",
   "metadata": {},
   "source": [
    "### Bài 3\n",
    "\n",
    "Nhập vào số a, hãy đếm a có bao nhiêu chữ số chẵn, bao nhiêu cữ số lẻ\n",
    "\n",
    "#### Cách 1 (dùng chuỗi):"
   ]
  },
  {
   "cell_type": "code",
   "execution_count": 4,
   "id": "e7f9da21",
   "metadata": {},
   "outputs": [
    {
     "name": "stdout",
     "output_type": "stream",
     "text": [
      "nhập a:23124\n",
      "chữ số chẵn  3\n",
      "chữ số lẻ  2\n"
     ]
    }
   ],
   "source": []
  },
  {
   "cell_type": "markdown",
   "id": "9a3d9703",
   "metadata": {},
   "source": [
    "#### Cách 2 (không dùng chuỗi):"
   ]
  },
  {
   "cell_type": "code",
   "execution_count": null,
   "id": "d4e474c8",
   "metadata": {},
   "outputs": [],
   "source": [
    "a=int(input(\"nhập a:\"))\n",
    "i = 1\n",
    "demchan = 0\n",
    "demle = 0 \n",
    "while a!=0:\n",
    "    chusocuoicung = a%10\n",
    "    a = a//10\n",
    "    if chusocuoicung%2==0 and chusocuoicung !=0:\n",
    "        demchan+=1\n",
    "    else:\n",
    "        demle+=1\n",
    "print(demchan)\n",
    "print(demle)"
   ]
  },
  {
   "cell_type": "markdown",
   "id": "69539ece",
   "metadata": {},
   "source": [
    "### Bài 4\n",
    "\n",
    "Nhập vào số a, hãy tính tổng các chữ số nguyên tố của a"
   ]
  },
  {
   "cell_type": "code",
   "execution_count": 5,
   "id": "f001bd9a",
   "metadata": {},
   "outputs": [
    {
     "name": "stdout",
     "output_type": "stream",
     "text": [
      "nhập a: 1230\n",
      "1230 không là số nguyên tố\n",
      "2 nhân 615 bằng 1230\n"
     ]
    }
   ],
   "source": [
    "a = input(\"nhập a:\")\n",
    "i = 0\n",
    "tong = 0\n",
    "b = 0\n",
    "while i<len(a):\n",
    "    b = int(a[i])\n",
    "    if b == 2 or b == 3 or b == 5 or b == 7:\n",
    "        tong +=b\n",
    "    i +=1"
   ]
  },
  {
   "cell_type": "markdown",
   "id": "0a5075a4",
   "metadata": {},
   "source": [
    "### Bài 5\n",
    "\n",
    "Số armstrong là số có tổng của các chữ số mũ số lượng chữ số bằng chính nó\n",
    "\n",
    "Ví dụ\n",
    "\n",
    "Số 371 là một số armstrong vì:\n",
    "\n",
    "371 = 3^3 + 7^3 + 1^3 (3 là số lượng chữ số của 371)\n",
    "\n",
    "Số 1634 là một số armstrong vì:\n",
    "\n",
    "1634 = 1^4 + 6^4 + 3^4 + 4^4 (4 là số lượng chữ số của 1634)\n",
    "\n",
    "Nhập vào số a, kiểm tra xem a có phải là số armstrong không"
   ]
  },
  {
   "cell_type": "code",
   "execution_count": null,
   "id": "b9ed54a5",
   "metadata": {},
   "outputs": [],
   "source": [
    "a = int(t(\"nhập a:\"))\n",
    "b = len(str(a))\n",
    "c = a\n",
    "S = 0\n",
    "while c != 0:\n",
    "    S += (c%10)**b\n",
    "    c = c//10\n",
    "if S == a:\n",
    "    print(a,'là số armstrong')\n",
    "else:\n",
    "    print(a,'không phải là số armstrong')"
   ]
  },
  {
   "cell_type": "markdown",
   "id": "f8a584d3",
   "metadata": {},
   "source": [
    "### Bài 6\n",
    "\n",
    "Dãy số fibonacci là dãy số được định nghĩa như sau: 1, 1, 2, 3, 5, 8, 13,... với số kế tiếp sẽ bằng tổng hai số trước đó\n",
    "\n",
    "Nhập vào A, hãy tìm số trong dãy số fibonacci lớn nhất nhưng không vượt quá A"
   ]
  },
  {
   "cell_type": "code",
   "execution_count": 2,
   "id": "3ad4d85b",
   "metadata": {},
   "outputs": [
    {
     "name": "stdout",
     "output_type": "stream",
     "text": [
      "nhập a: 6\n",
      "5\n"
     ]
    }
   ],
   "source": [
    "a = int(input(\"nhập a: \"))\n",
    "\n",
    "b = 1\n",
    "c = 1\n",
    "while (b + c) <= a:\n",
    "    b, c = c, b+c\n",
    "print(c)"
   ]
  },
  {
   "cell_type": "markdown",
   "id": "9fa794f2",
   "metadata": {},
   "source": [
    "### Bài 7\n",
    "\n",
    "Nhập vào A, tìm n nhỏ nhất sao cho\n",
    "\n",
    "1 + 1/2 + 1/3 + 1/4 + ... + 1/n > A"
   ]
  },
  {
   "cell_type": "code",
   "execution_count": null,
   "id": "246ec002",
   "metadata": {},
   "outputs": [],
   "source": [
    "a = int(input(\"nhập a: \"))\n",
    "s = 0 \n",
    "n =1 \n",
    "while s < a:\n",
    "    s += 1/n\n",
    "    n+=1\n",
    "print(n)"
   ]
  },
  {
   "cell_type": "markdown",
   "id": "c5fd4d8a",
   "metadata": {},
   "source": [
    "### Bài 8\n",
    "\n",
    "Nhập vào a và b là số nguyên dương (b có một chữ số, nhập sai yêu cầu nhập lại), hãy tìm vị trí đầu tiên (bắt đầu từ bên trái) của b trong a, nếu không tìm thấy thì in kết quả là 0 (ví trí đầu bắt đầu từ 1)\n",
    "\n",
    "<b>Ví dụ:</b>\n",
    "\n",
    "<b>Nhập:</b>\n",
    "- a = 125785\n",
    "- b = 5\n",
    "\n",
    "<b>Kết quả:</b> 3 (do số 5 nằm ở vị trí 3)"
   ]
  },
  {
   "cell_type": "code",
   "execution_count": null,
   "id": "9edf35ac",
   "metadata": {},
   "outputs": [],
   "source": [
    "a = input(\"nhập a: \")\n",
    "b = input(\"nhập b: \")\n",
    "while len(b) != 1:\n",
    "    b = input(\"nhập b: \")\n",
    "c = a.find(b)\n",
    "if c == -1:\n",
    "    c = 0\n",
    "print(f\"a: {a}\\nb: {b}\\nvị trí của b: {c+1}\")"
   ]
  },
  {
   "cell_type": "markdown",
   "id": "8ec8c219",
   "metadata": {},
   "source": []
  }
 ],
 "metadata": {
  "kernelspec": {
   "display_name": "Python 3 (ipykernel)",
   "language": "python",
   "name": "python3"
  },
  "language_info": {
   "codemirror_mode": {
    "name": "ipython",
    "version": 3
   },
   "file_extension": ".py",
   "mimetype": "text/x-python",
   "name": "python",
   "nbconvert_exporter": "python",
   "pygments_lexer": "ipython3",
   "version": "3.10.4"
  }
 },
 "nbformat": 4,
 "nbformat_minor": 5
}
