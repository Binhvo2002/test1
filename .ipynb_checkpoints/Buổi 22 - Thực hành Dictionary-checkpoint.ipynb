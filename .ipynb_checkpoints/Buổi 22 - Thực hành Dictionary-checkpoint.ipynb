{
 "cells": [
  {
   "cell_type": "markdown",
   "id": "636d6b20",
   "metadata": {},
   "source": [
    "# Thực hành Dictionary"
   ]
  },
  {
   "cell_type": "markdown",
   "id": "4a1577c4",
   "metadata": {},
   "source": [
    "### Bài 1"
   ]
  },
  {
   "cell_type": "markdown",
   "id": "57583ad7",
   "metadata": {},
   "source": [
    "Cho list a và list b là 2 dãy số bất kỳ\n",
    "\n",
    "Hãy tìm những phần tử trong 2 list trùng nhau và in toàn bộ ra màn hình\n",
    "\n",
    "Ví dụ:\n",
    "\n",
    "a = [2,4,5,7,9]\n",
    "\n",
    "b = [2,5,10,12,45,65]\n",
    "\n",
    "in ra: 2, 5"
   ]
  },
  {
   "cell_type": "markdown",
   "id": "3bf52ad2",
   "metadata": {},
   "source": [
    "#### Khai báo list"
   ]
  },
  {
   "cell_type": "code",
   "execution_count": 25,
   "id": "ff4b8cef",
   "metadata": {},
   "outputs": [],
   "source": [
    "a = [2,4,5,7,9]\n",
    "global a\n",
    "b = [2,5,10,12,45,65]\n",
    "global b\n",
    "\n"
   ]
  },
  {
   "cell_type": "markdown",
   "id": "f7b1767c",
   "metadata": {},
   "source": [
    "#### Code"
   ]
  },
  {
   "cell_type": "code",
   "execution_count": 26,
   "id": "8d0bc5c0",
   "metadata": {},
   "outputs": [
    {
     "name": "stdout",
     "output_type": "stream",
     "text": [
      "[2, 5]\n"
     ]
    }
   ],
   "source": [
    "c =[]\n",
    "for i in a:\n",
    "    for j in b:\n",
    "        if i == j:\n",
    "            c.append(i)\n",
    "print(c)\n",
    "          "
   ]
  },
  {
   "cell_type": "markdown",
   "id": "2646ccba",
   "metadata": {},
   "source": [
    "### Bài 2"
   ]
  },
  {
   "cell_type": "markdown",
   "id": "6cc6dc38",
   "metadata": {},
   "source": [
    "Cho một dictonary có các giá trị là các số nguyên\n",
    "\n",
    "Hãy viết hàm tìm key có giá trị lớn nhất"
   ]
  },
  {
   "cell_type": "markdown",
   "id": "7b92f0ce",
   "metadata": {},
   "source": [
    "#### Khai báo dictionary"
   ]
  },
  {
   "cell_type": "code",
   "execution_count": 13,
   "id": "3ec8ec73",
   "metadata": {},
   "outputs": [],
   "source": [
    "a = [1,2,3,4,5,60,7,8,9,70]"
   ]
  },
  {
   "cell_type": "markdown",
   "id": "65018ab5",
   "metadata": {},
   "source": [
    "#### Code"
   ]
  },
  {
   "cell_type": "code",
   "execution_count": 34,
   "id": "e7a165eb",
   "metadata": {},
   "outputs": [
    {
     "name": "stdout",
     "output_type": "stream",
     "text": [
      "1\n"
     ]
    }
   ],
   "source": [
    "a = {'1':25,'2':3,'3':20,'4':9}\n",
    "ma=a['1']\n",
    "key='1'\n",
    "for i in a:\n",
    "    if ma<a[i]:\n",
    "        ma=a[i]  \n",
    "        key = i\n",
    "print(key)"
   ]
  },
  {
   "cell_type": "markdown",
   "id": "c562bc84",
   "metadata": {},
   "source": [
    "### Bài 3"
   ]
  },
  {
   "cell_type": "markdown",
   "id": "945e8929",
   "metadata": {},
   "source": [
    "Cho một dictonary có các key đều là chuỗi\n",
    "\n",
    "Hãy viết hàm trả về giá trị của key có độ dài chuỗi là lớn nhất"
   ]
  },
  {
   "cell_type": "markdown",
   "id": "1855bc8c",
   "metadata": {},
   "source": [
    "#### Khai báo dictionary"
   ]
  },
  {
   "cell_type": "code",
   "execution_count": 21,
   "id": "5ff9a0e5",
   "metadata": {},
   "outputs": [],
   "source": [
    "b = {\"name1\":\"Phở gà\",\"name2\":\"Phở bbbò\",\"name3\":\"Phở bbbbò\",\"name4\":\"Phở b222bbbbbò\"}\n",
    "global b"
   ]
  },
  {
   "cell_type": "markdown",
   "id": "21fae59d",
   "metadata": {},
   "source": [
    "#### Code"
   ]
  },
  {
   "cell_type": "code",
   "execution_count": 44,
   "id": "b3c2194d",
   "metadata": {},
   "outputs": [
    {
     "name": "stdout",
     "output_type": "stream",
     "text": [
      "Phở gà\n"
     ]
    }
   ],
   "source": [
    "D = {\"name1\":\"Phở gà\",\"name2\":\"Phở bbbò\",\"name3\":\"Phở bbbbò\",\"name4\":\"Phở b222bbbbbò\"}\n",
    "\n",
    "def keydainhat(D):\n",
    "    m = None\n",
    "    for i in D:\n",
    "        if m == None or len(m)<len(i):\n",
    "            m = i\n",
    "    return D[m]\n",
    "print(keydainhat(D))\n"
   ]
  },
  {
   "cell_type": "code",
   "execution_count": 43,
   "id": "51c15f9e",
   "metadata": {},
   "outputs": [
    {
     "name": "stdout",
     "output_type": "stream",
     "text": [
      "Phở bbbò\n"
     ]
    }
   ],
   "source": [
    "def timkeydainhat(D):\n",
    "    lenmax = ''\n",
    "    for i in D:\n",
    "        if lenmax == '' or len(i) > len(lenmax):\n",
    "            lenmax = i\n",
    "    return D[lenmax]\n",
    "print(timkeydainhat(D))"
   ]
  },
  {
   "cell_type": "markdown",
   "id": "205c6ef4",
   "metadata": {},
   "source": [
    "### Bài 4"
   ]
  },
  {
   "cell_type": "markdown",
   "id": "bd7ee674",
   "metadata": {},
   "source": [
    "Cho một list là một tập các chuỗi\n",
    "\n",
    "Hãy mã hóa list trên theo nguyên tắc sau:\n",
    "\n",
    "Mỗi một phần tử, ta mã hóa thành những con số theo thứ tự tăng dần\n",
    "\n",
    "Ví dụ:\n",
    "\n",
    "List = [\"đen\",\"vàng\",\"xanh\",\"vàng\",\"xanh\",\"đỏ\",\"hồng\"]\n",
    "\n",
    "List mã hóa = [0,1,2,1,2,3,4]\n",
    "\n",
    "- \"đen\" mã hóa thành 0\n",
    "- \"vàng\" mã hóa thành 1\n",
    "- \"xanh\" mã hóa thành 2\n",
    "- \"đỏ\" mã hòa thánh 3\n",
    "- \"hồng\" mã hòa thành 4"
   ]
  },
  {
   "cell_type": "markdown",
   "id": "e7ed3048",
   "metadata": {},
   "source": [
    "#### Khai báo"
   ]
  },
  {
   "cell_type": "code",
   "execution_count": 27,
   "id": "7573ae07",
   "metadata": {},
   "outputs": [],
   "source": [
    "a = [\"đen\",\"vàng\",\"xanh\",\"vàng\",\"xanh\",\"đỏ\",\"hồng\"]\n",
    "# b  = [0,1,2,1,2,3,4]"
   ]
  },
  {
   "cell_type": "markdown",
   "id": "9c61e63b",
   "metadata": {},
   "source": [
    "#### Code"
   ]
  },
  {
   "cell_type": "code",
   "execution_count": 46,
   "id": "c9f1ce56",
   "metadata": {},
   "outputs": [
    {
     "name": "stdout",
     "output_type": "stream",
     "text": [
      "[0, 1, 2, 1, 2, 3, 4, 5]\n"
     ]
    }
   ],
   "source": [
    "List = [\"đen\",\"vàng\",\"xanh\",\"vàng\",\"xanh\",\"đỏ\",\"hồng\",\"lá\"]\n",
    "\n",
    "def mahoa(List):\n",
    "    v = 0\n",
    "    D = {}\n",
    "    L = []\n",
    "    for i in List:\n",
    "        if i not in D:\n",
    "            D[i] = v\n",
    "            v+=1\n",
    "        L.append(D[i])\n",
    "    return L\n",
    "print(mahoa(List))"
   ]
  },
  {
   "cell_type": "markdown",
   "id": "8de66962",
   "metadata": {},
   "source": [
    "### Bài 5"
   ]
  },
  {
   "cell_type": "markdown",
   "id": "1e5c416d",
   "metadata": {},
   "source": [
    "Hãy viết hàm từ một list mã hóa, trả về list gốc của bài 4"
   ]
  },
  {
   "cell_type": "markdown",
   "id": "4881b7b0",
   "metadata": {},
   "source": [
    "#### Khai báo"
   ]
  },
  {
   "cell_type": "code",
   "execution_count": 28,
   "id": "602c7b70",
   "metadata": {},
   "outputs": [],
   "source": [
    "L_mahoa = [0, 1, 2, 1, 2, 3, 4]\n",
    "D_mahoa = {'Đen':0,'Vàng':1,'Xanh':2,'Đỏ':3,'Hồng':4}\n"
   ]
  },
  {
   "cell_type": "markdown",
   "id": "9a738638",
   "metadata": {},
   "source": [
    "#### Code"
   ]
  },
  {
   "cell_type": "code",
   "execution_count": 33,
   "id": "df4fb3a1",
   "metadata": {},
   "outputs": [
    {
     "name": "stdout",
     "output_type": "stream",
     "text": [
      "['đen', 'đỏ', 'xanh', 'đỏ', 'xanh', 'đỏ', 'hồng', None]\n"
     ]
    }
   ],
   "source": [
    "def mahoanguoc(a):\n",
    "    \n",
    "    return L"
   ]
  },
  {
   "cell_type": "code",
   "execution_count": 48,
   "id": "60783805",
   "metadata": {},
   "outputs": [
    {
     "name": "stdout",
     "output_type": "stream",
     "text": [
      "['Đen', 'Vàng', 'Xanh', 'Vàng', 'Xanh', 'Đỏ', 'Hồng']\n"
     ]
    }
   ],
   "source": [
    "L_mahoa = [0, 1, 2, 1, 2, 3, 4]\n",
    "D_mahoa = {'Đen':0,'Vàng':1,'Xanh':2,'Đỏ':3,'Hồng':4}\n",
    "def mahoanguoc(L_mahoa,D_mahoa):\n",
    "    L = []\n",
    "    for value in L_mahoa:\n",
    "        for key in D_mahoa:\n",
    "            if value == D_mahoa[key]:\n",
    "                L.append(key)\n",
    "    return L\n",
    "print(mahoanguoc(L_mahoa,D_mahoa))"
   ]
  },
  {
   "cell_type": "code",
   "execution_count": null,
   "id": "0ec4660e",
   "metadata": {},
   "outputs": [],
   "source": [
    "def mahoanguoc(L_mahoa,D_mahoa):\n",
    "    L = []\n",
    "    D1 = {}\n",
    "    for i in D_mahoa:\n",
    "        D1[D_mahoa[i]] =  i\n",
    "    for i in L_mahoa:\n",
    "        L.append(D1[i])\n",
    "    return L"
   ]
  },
  {
   "cell_type": "markdown",
   "id": "1a982dc5",
   "metadata": {},
   "source": [
    "### Bài 6"
   ]
  },
  {
   "cell_type": "markdown",
   "id": "726f6302",
   "metadata": {},
   "source": [
    "Một khách sạn có N phòng đôi được đánh số từ 1 đến N và M đoàn khách.\n",
    "\n",
    "Với mỗi đoàn khách, ta xếp mỗi cặp khách của đoàn vào một phòng trống theo thứ tự phòng tăng dần.\n",
    "\n",
    "Nếu đoàn khách có số người lẻ thì người khách cuối cùng được xếp vào một phòng trống tiếp theo.\n",
    "\n",
    "Nếu đã hết phòng còn trống thì ta sẽ xếp khách vào những phòng mới chỉ có 1 khách theo thứ tự phòng tăng dần.\n",
    "\n",
    "In ra số khách của mỗi phòng sau khi xếp\n",
    "\n",
    "Giả sử không có 2 đoàn khách nào đến cùng một lúc.\n",
    "\n",
    "#### Ví dụ 1:\n",
    "\n",
    "N = 7, M = 3\n",
    "\n",
    "doankhach = [3,7,3]\n",
    "\n",
    "Ta in: 2, 2, 2, 2, 2, 1, 2\n",
    "\n",
    "#### Ví dụ 2:\n",
    "\n",
    "N = 5, M = 3\n",
    "\n",
    "doankhach = [2,3,2]\n",
    "\n",
    "Ta in: 2, 2, 1, 2, 0"
   ]
  },
  {
   "cell_type": "markdown",
   "id": "e3346872",
   "metadata": {},
   "source": [
    "#### Khai báo"
   ]
  },
  {
   "cell_type": "code",
   "execution_count": 1,
   "id": "9f73da45",
   "metadata": {},
   "outputs": [
    {
     "name": "stdout",
     "output_type": "stream",
     "text": [
      "2 1\n",
      "2 2\n",
      "3 1\n",
      "3 2\n",
      "2 1\n",
      "2 2\n"
     ]
    }
   ],
   "source": [
    "x = [2,3,2]\n",
    "phong = 0\n",
    "for i in x:\n",
    "    for j in range(1,i+1):\n",
    "        if 1<=j<=2 :\n",
    "            print(i,j)\n",
    "        "
   ]
  },
  {
   "cell_type": "markdown",
   "id": "8f3d747c",
   "metadata": {},
   "source": [
    "#### Code"
   ]
  },
  {
   "cell_type": "code",
   "execution_count": 2,
   "id": "213227cd",
   "metadata": {},
   "outputs": [
    {
     "name": "stdout",
     "output_type": "stream",
     "text": [
      "Nhập số phòng đôi của khách sạn: 5\n",
      "Nhập số đoàn khách: 10\n",
      "Nhập SL khách của đoàn khách thứ 1: 23\n",
      "Nhập SL khách của đoàn khách thứ 2: 56\n",
      "Nhập SL khách của đoàn khách thứ 3: 4\n",
      "Nhập SL khách của đoàn khách thứ 4: 35\n",
      "Nhập SL khách của đoàn khách thứ 5: 75\n",
      "Nhập SL khách của đoàn khách thứ 6: 234\n",
      "Nhập SL khách của đoàn khách thứ 7: 34\n",
      "Nhập SL khách của đoàn khách thứ 8: 34\n",
      "Nhập SL khách của đoàn khách thứ 9: 2\n",
      "Nhập SL khách của đoàn khách thứ 10: 21\n"
     ]
    },
    {
     "ename": "NameError",
     "evalue": "name 'L' is not defined",
     "output_type": "error",
     "traceback": [
      "\u001b[1;31m---------------------------------------------------------------------------\u001b[0m",
      "\u001b[1;31mNameError\u001b[0m                                 Traceback (most recent call last)",
      "Input \u001b[1;32mIn [2]\u001b[0m, in \u001b[0;36m<cell line: 58>\u001b[1;34m()\u001b[0m\n\u001b[0;32m     55\u001b[0m \u001b[38;5;28;01mfor\u001b[39;00m k \u001b[38;5;129;01min\u001b[39;00m doankhach:\n\u001b[0;32m     56\u001b[0m     doankhach[k] \u001b[38;5;241m=\u001b[39m Room(couple,doankhach[k])\n\u001b[1;32m---> 58\u001b[0m \u001b[38;5;28;01mif\u001b[39;00m Full(\u001b[43mL\u001b[49m) \u001b[38;5;241m==\u001b[39m \u001b[38;5;28;01mFalse\u001b[39;00m \u001b[38;5;129;01mand\u001b[39;00m check(doankhach) \u001b[38;5;241m==\u001b[39m \u001b[38;5;28;01mFalse\u001b[39;00m:\n\u001b[0;32m     59\u001b[0m     \u001b[38;5;28;01mfor\u001b[39;00m j \u001b[38;5;129;01min\u001b[39;00m doankhach:\n\u001b[0;32m     60\u001b[0m         \u001b[38;5;28;01mif\u001b[39;00m doankhach[j] \u001b[38;5;241m!=\u001b[39m\u001b[38;5;241m0\u001b[39m :\n",
      "\u001b[1;31mNameError\u001b[0m: name 'L' is not defined"
     ]
    }
   ],
   "source": [
    "N = int(input('Nhập số phòng đôi của khách sạn: '))\n",
    "\n",
    "M = int(input('Nhập số đoàn khách: '))\n",
    "\n",
    "couple = []\n",
    "doankhach = {}\n",
    "for i in range(N):\n",
    "    couple.append(0)\n",
    "\n",
    "for k in range(1,M+1):\n",
    "    n = int(input('Nhập SL khách của đoàn khách thứ '+str(k)+': '))\n",
    "    doankhach['SL đoàn khách thứ '+ str(k)] = n \n",
    "\n",
    "def Room(L,s):\n",
    "    if s % 2 == 0:\n",
    "        d = 0\n",
    "        while d < len(L) and s > 0:\n",
    "            if L[d] == 0:\n",
    "                L[d] += 2\n",
    "                s -= 2\n",
    "            d += 1\n",
    "        return s\n",
    "    else:\n",
    "        d = 0\n",
    "        while d < len(L) and s >= 1:\n",
    "            if s == 1 and L[d] == 0:\n",
    "                L[d] += 1\n",
    "                s -= 1\n",
    "            elif L[d] == 0:\n",
    "                L[d] += 2\n",
    "                s -= 2\n",
    "            d += 1\n",
    "        return s\n",
    "\n",
    "def Full(L):\n",
    "    for i in L:\n",
    "        if i == 1:\n",
    "            return False\n",
    "    return True\n",
    "\n",
    "def ADD(L,s):\n",
    "    i = 0\n",
    "    while s != 0 and Full(L) == False:\n",
    "        if L[i] == 1:\n",
    "            L[i] += 1\n",
    "            s -= 1\n",
    "        i += 1\n",
    "\n",
    "def check(D):\n",
    "    for i in D:\n",
    "        if D[i] > 0:\n",
    "            return False\n",
    "    return True\n",
    "\n",
    "for k in doankhach:\n",
    "    doankhach[k] = Room(couple,doankhach[k])\n",
    "\n",
    "if Full(L) == False and check(doankhach) == False:\n",
    "    for j in doankhach:\n",
    "        if doankhach[j] !=0 :\n",
    "            ADD(couple,doankhach[j])\n",
    "\n",
    "print(couple)"
   ]
  },
  {
   "cell_type": "code",
   "execution_count": 3,
   "id": "eb3b9619",
   "metadata": {},
   "outputs": [
    {
     "ename": "TypeError",
     "evalue": "unsupported operand type(s) for -=: 'str' and 'int'",
     "output_type": "error",
     "traceback": [
      "\u001b[1;31m---------------------------------------------------------------------------\u001b[0m",
      "\u001b[1;31mTypeError\u001b[0m                                 Traceback (most recent call last)",
      "Input \u001b[1;32mIn [3]\u001b[0m, in \u001b[0;36m<cell line: 24>\u001b[1;34m()\u001b[0m\n\u001b[0;32m     22\u001b[0m     \u001b[38;5;28;01mreturn\u001b[39;00m D\n\u001b[0;32m     24\u001b[0m \u001b[38;5;28;01mfor\u001b[39;00m i \u001b[38;5;129;01min\u001b[39;00m doankhach:\n\u001b[1;32m---> 25\u001b[0m     \u001b[43mxepKhach\u001b[49m\u001b[43m(\u001b[49m\u001b[43mD\u001b[49m\u001b[43m,\u001b[49m\u001b[43m \u001b[49m\u001b[43mi\u001b[49m\u001b[43m)\u001b[49m\n\u001b[0;32m     27\u001b[0m \u001b[38;5;28mprint\u001b[39m(\u001b[38;5;124m'\u001b[39m\u001b[38;5;124m, \u001b[39m\u001b[38;5;124m'\u001b[39m\u001b[38;5;241m.\u001b[39mjoin(\u001b[38;5;28mmap\u001b[39m(\u001b[38;5;28mstr\u001b[39m, D\u001b[38;5;241m.\u001b[39mvalues())))\n",
      "Input \u001b[1;32mIn [3]\u001b[0m, in \u001b[0;36mxepKhach\u001b[1;34m(D, soKhach)\u001b[0m\n\u001b[0;32m      9\u001b[0m \u001b[38;5;28;01mif\u001b[39;00m D[i] \u001b[38;5;241m<\u001b[39m\u001b[38;5;241m2\u001b[39m:\n\u001b[0;32m     10\u001b[0m     D[i]\u001b[38;5;241m+\u001b[39m\u001b[38;5;241m=\u001b[39m\u001b[38;5;241m1\u001b[39m\n\u001b[1;32m---> 11\u001b[0m     soKhach \u001b[38;5;241m-\u001b[39m\u001b[38;5;241m=\u001b[39m\u001b[38;5;241m1\u001b[39m\n\u001b[0;32m     12\u001b[0m     \u001b[38;5;28;01mif\u001b[39;00m soKhach \u001b[38;5;241m==\u001b[39m \u001b[38;5;241m0\u001b[39m:\n\u001b[0;32m     13\u001b[0m         \u001b[38;5;28;01mbreak\u001b[39;00m\n",
      "\u001b[1;31mTypeError\u001b[0m: unsupported operand type(s) for -=: 'str' and 'int'"
     ]
    }
   ],
   "source": [
    "D = {}\n",
    "for i in range(1,N+1):\n",
    "    D[i] = 0\n",
    "def xepKhach(D, soKhach):\n",
    "    for i in D:\n",
    "        if D[i] == 0:\n",
    "            break\n",
    "    while True:\n",
    "        if D[i] <2:\n",
    "            D[i]+=1\n",
    "            soKhach -=1\n",
    "            if soKhach == 0:\n",
    "                break\n",
    "        else:\n",
    "            i+=1\n",
    "            if i>len(D):\n",
    "                for i in D:\n",
    "                    if D[i] == 1:\n",
    "                        break\n",
    "                if D[i]==2:\n",
    "                    break\n",
    "    return D\n",
    "\n",
    "for i in doankhach:\n",
    "    xepKhach(D, i)\n",
    "\n",
    "print(', '.join(map(str, D.values())))\n"
   ]
  }
 ],
 "metadata": {
  "kernelspec": {
   "display_name": "Python 3 (ipykernel)",
   "language": "python",
   "name": "python3"
  },
  "language_info": {
   "codemirror_mode": {
    "name": "ipython",
    "version": 3
   },
   "file_extension": ".py",
   "mimetype": "text/x-python",
   "name": "python",
   "nbconvert_exporter": "python",
   "pygments_lexer": "ipython3",
   "version": "3.10.4"
  }
 },
 "nbformat": 4,
 "nbformat_minor": 5
}
