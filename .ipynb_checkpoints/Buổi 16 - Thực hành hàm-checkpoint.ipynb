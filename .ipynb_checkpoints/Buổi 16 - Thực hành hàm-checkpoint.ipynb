{
 "cells": [
  {
   "cell_type": "markdown",
   "id": "028ffec3",
   "metadata": {},
   "source": [
    "# Thực hành hàm\n",
    "\n",
    "### Bài 1\n",
    "\n",
    "Viết hàm có dữ liệu đầu vào là 2 số a và b, số nào lớn hơn thì in bảng cửu chương của số đó"
   ]
  },
  {
   "cell_type": "code",
   "execution_count": 2,
   "id": "1974966b",
   "metadata": {},
   "outputs": [
    {
     "name": "stdout",
     "output_type": "stream",
     "text": [
      "Nhập a: 5\n",
      "Nhập b: 5\n",
      "5 * 1 = 5\n",
      "5 * 2 = 10\n",
      "5 * 3 = 15\n",
      "5 * 4 = 20\n",
      "5 * 5 = 25\n",
      "5 * 6 = 30\n",
      "5 * 7 = 35\n",
      "5 * 8 = 40\n",
      "5 * 9 = 45\n",
      "5 * 10 = 50\n"
     ]
    }
   ],
   "source": [
    "def bcc(a,b):\n",
    "    if a>b:\n",
    "        b = 0\n",
    "        for b in range(1,11):\n",
    "            print(f\"{a} * {b} = {a*b}\")\n",
    "    \n",
    "    else:\n",
    "        for a in range(1,11):\n",
    "            print(f\"{b} * {a} = {a*b}\")\n",
    "a = int(input(\"Nhập a: \"))\n",
    "b = int(input(\"Nhập b: \"))\n",
    "\n",
    "bcc(a,b)"
   ]
  },
  {
   "cell_type": "markdown",
   "id": "9de8ffaa",
   "metadata": {},
   "source": [
    "### Bài 2\n",
    "\n",
    "Viết hàm `xoachuoi` có dữ liệu đầu vào là 2 chuỗi a và b, hãy tìm trong chuỗi a có chuỗi b hay không, nếu có hãy xóa toán bộ chuỗi b trong a.\n",
    "\n",
    "Sau đó trả về chuỗi a mới\n",
    "\n",
    "Ví dụ:\n",
    "\n",
    "chuoi1 = \"xin chào các bạn, các bạn có khỏe không?\"\n",
    "\n",
    "chuoi2 = \"các bạn\"\n",
    "\n",
    "chuoi3 = xoachuoi(chuoi1,chuoi2)\n",
    "\n",
    "print(chuoi3)\n",
    "\n",
    "Kết quả in ra là:\n",
    "xin chào ,  có khỏe không"
   ]
  },
  {
   "cell_type": "code",
   "execution_count": 5,
   "id": "05de1584",
   "metadata": {},
   "outputs": [
    {
     "name": "stdout",
     "output_type": "stream",
     "text": [
      "nhập chuỗi 1:xin chào các bạn\n",
      "nhập chuỗi 2:chào\n",
      "xin  các bạn\n"
     ]
    },
    {
     "data": {
      "text/plain": [
       "'xin chào các bạn'"
      ]
     },
     "execution_count": 5,
     "metadata": {},
     "output_type": "execute_result"
    }
   ],
   "source": [
    "def xoachuoi(x,y):\n",
    "    if x.index(y) > 0:\n",
    "        a = x.replace(y,'')\n",
    "        print(a)\n",
    "    return x\n",
    "x = input(\"nhập chuỗi 1:\")\n",
    "y = input(\"nhập chuỗi 2:\")\n",
    "xoachuoi(x,y)"
   ]
  },
  {
   "cell_type": "code",
   "execution_count": 27,
   "id": "a91f3feb",
   "metadata": {},
   "outputs": [
    {
     "name": "stdout",
     "output_type": "stream",
     "text": [
      "nhập chuỗi 1:xin chào các bạn các bạn có khoẻ không\n",
      "nhập chuỗi 2:các bạn\n"
     ]
    }
   ],
   "source": [
    "def xoachuoi(x,y):\n",
    "    a = len(x)\n",
    "    b = len(y)\n",
    "    i = 0\n",
    "    while i < (a-b):\n",
    "        i +=1\n",
    "        if x[i:i +b] == y:\n",
    "            x = x[:i] + x[i+b:]\n",
    "            a -=b\n",
    "        else: \n",
    "            i +=1\n",
    "    return x\n",
    "c = xoachuoi(x,y)\n",
    "x = input(\"nhập chuỗi 1:\")\n",
    "y = input(\"nhập chuỗi 2:\")"
   ]
  },
  {
   "cell_type": "markdown",
   "id": "d626394e",
   "metadata": {},
   "source": [
    "### Bài 3\n",
    "\n",
    "Viết hàm `kiemtramatkhau` với dữ liệu đầu vào là 1 chuỗi có công dụng như sau:\n",
    "\n",
    "Kiểm tra xem chuỗi đầu vào có phải là mật khẩu mạnh hay không, nếu có trả về True, nếu không trả về False\n",
    "\n",
    "Mật khẩu mạnh là mật khẩu phải có ít nhất 1 chữ hoa, 1 chữ thường, 1 số và 1 ký tự đặc biệt"
   ]
  },
  {
   "cell_type": "code",
   "execution_count": 34,
   "id": "875d88f5",
   "metadata": {},
   "outputs": [
    {
     "name": "stdout",
     "output_type": "stream",
     "text": [
      "nhập gì đi: 1Q3#s\n"
     ]
    },
    {
     "data": {
      "text/plain": [
       "False"
      ]
     },
     "execution_count": 34,
     "metadata": {},
     "output_type": "execute_result"
    }
   ],
   "source": [
    "def kiemtramatkhau(x):\n",
    "    kt_hoa = False\n",
    "    kt_thuong = False\n",
    "    kt_so = False\n",
    "    kt_dacbiet = False\n",
    "    for i in x:\n",
    "        if i.isupper() == True:\n",
    "            kt_hoa = False\n",
    "        elif i.islower()== True:\n",
    "            kt_thuong == True\n",
    "        elif i.isnumeric() ==True:\n",
    "            kt_so = True\n",
    "        else:\n",
    "            kt_dacbiet = True\n",
    "        if kt_hoa and kt_thuong and kt_so and kt_dacbiet:\n",
    "            return True\n",
    "    return False\n",
    "\n",
    "   \n",
    "kiemtramatkhau(input(\"nhập gì đi: \"))"
   ]
  },
  {
   "cell_type": "markdown",
   "id": "1572568f",
   "metadata": {},
   "source": [
    "### Bài 4\n",
    "\n",
    "Viết hàm có 5 dữ liệu đầu vào là 5 số nguyên, tìm giá trị lớn nhì trong 5 số đó"
   ]
  },
  {
   "cell_type": "code",
   "execution_count": 42,
   "id": "47db28b4",
   "metadata": {},
   "outputs": [
    {
     "data": {
      "text/plain": [
       "54"
      ]
     },
     "execution_count": 42,
     "metadata": {},
     "output_type": "execute_result"
    }
   ],
   "source": [
    "def kiemtra(a,b,c,d,e):\n",
    "    if a>b:a,b=b,a\n",
    "    if a>c:a,c=c,a ## đưa số nhỏ nhất vào a\n",
    "    if b>c:b,c=c,b\n",
    "    if b>d:b,d=d,b\n",
    "    if c>d:c,d=d,c\n",
    "    if c>e:c,e=e,c\n",
    "    if d>e:d,e=e,d\n",
    "    if d>a:d,a=a,d\n",
    "    if e>a:e,a=a,e\n",
    "    if e>b:e,b=b,e\n",
    "    return b\n",
    "kiemtra(12,43,54,35,75)"
   ]
  },
  {
   "cell_type": "code",
   "execution_count": 41,
   "id": "93d0f113",
   "metadata": {},
   "outputs": [
    {
     "name": "stdout",
     "output_type": "stream",
     "text": [
      "6\n"
     ]
    }
   ],
   "source": [
    "def max2(a,b,c,d,e):\n",
    "    if a<b: a,b = b,a\n",
    "    if a<c: a,c = c,a\n",
    "    if a<d: a,d = d,a\n",
    "    if a<e: a,e = e,a\n",
    "    if b<c: b,c = c,b\n",
    "    if b<d: b,d = d,b\n",
    "    if b<e: b,e = e,b\n",
    "    return b\n",
    "print(max2(3,4,5,8,6))"
   ]
  },
  {
   "cell_type": "code",
   "execution_count": null,
   "id": "dc0acbad",
   "metadata": {},
   "outputs": [],
   "source": [
    "if a>b:a,b=b,a\n",
    "    if a>c:a,c=c,a ## đưa số nhỏ nhất vào a\n",
    "    if b>c:b,c=c,b\n",
    "    if b>d:bd = d,b\n",
    "    if c>d:c,d = d,c\n",
    "    if c>e:c,e = e,c\n",
    "    if d>e:d,e=e,d\n",
    "    if d>a:d,a=a,d\n",
    "    if e>a:e,a=a,e\n",
    "    if e>b:e,b=b,e\n",
    "    return b"
   ]
  },
  {
   "cell_type": "markdown",
   "id": "974d7da1",
   "metadata": {},
   "source": [
    "### Bài 5\n",
    "\n",
    "Nhập vào 2 cặp tọa độ tâm đường tròn và 2 bán kính R\n",
    "\n",
    "Hãy vẽ 2 hình tròn theo tọa độ và bán kính trên (tọa độ thứ nhất và bán kính thứ nhất là hình tròn thứ nhất, tọa độ thứ 2 với bán kính thứ 2 là hình tròn thứ hai)\n",
    "\n",
    "Viết hàm kiểm tra xem 2 hình tròn trên cắt nhau bao nhiêu điểm"
   ]
  },
  {
   "cell_type": "code",
   "execution_count": 4,
   "id": "f7722021",
   "metadata": {},
   "outputs": [
    {
     "name": "stdout",
     "output_type": "stream",
     "text": [
      "Nhập toạ độ a: 10\n",
      "Nhập toạ độ b: 20\n",
      "Nhập bán kính r1: 100\n",
      "Nhập toạ độ c: 40\n",
      "Nhập toạ độ d: 60\n",
      "Nhập bán kính r2: 500\n"
     ]
    },
    {
     "data": {
      "text/plain": [
       "'cắt nhau tại 2 điểm'"
      ]
     },
     "execution_count": 4,
     "metadata": {},
     "output_type": "execute_result"
    }
   ],
   "source": [
    "import turtle\n",
    "t = turtle.Turtle()\n",
    "def hinhtron(x,y,r):\n",
    "    t.pu()\n",
    "    t.goto(x,y-r)\n",
    "    t.pd()\n",
    "    t.circle(r)\n",
    "def giaodiem(a,b,r1,c,d,r2):\n",
    "    kc = (((a-c)**2) +((b-d)**2))**0.5\n",
    "    if kc > r1+r2:\n",
    "        return \"Không cắt nhau\"\n",
    "    elif kc == r1+r2 or abs(r1-r2) = kc:\n",
    "        return \"cắt nhau tại 1 điểm\"\n",
    "    elif kc < r1+r2 and a!= c and b!=d:\n",
    "        return \"cắt nhau tại 2 điểm\"\n",
    "    elif r1 == r2 and a == c and b == d:\n",
    "        return \"cắt nhau vô số điểm\"\n",
    "a = int(input(\"Nhập toạ độ a: \"))\n",
    "b = int(input(\"Nhập toạ độ b: \"))\n",
    "    \n",
    "r1 = int(input(\"Nhập bán kính r1: \"))\n",
    "\n",
    "c = int(input(\"Nhập toạ độ c: \"))\n",
    "d = int(input(\"Nhập toạ độ d: \"))\n",
    "\n",
    "r2 = int(input(\"Nhập bán kính r2: \"))\n",
    "\n",
    "hinhtron(a,b,r1,c,d,r2)\n",
    "giaodiem(a,b,r1,c,d,r2)"
   ]
  },
  {
   "cell_type": "markdown",
   "id": "a2157de8",
   "metadata": {},
   "source": [
    "### Bài 6\n",
    "\n",
    "Nhập vào 2 tọa độ là 2 đỉnh của một hình chữ nhật\n",
    "\n",
    "Sau đó\n",
    "\n",
    "Nhập vào tọa độ tâm đường tròn và bán kính R\n",
    "\n",
    "Hãy vẽ hình hình chữ nhật và đường tròn trên\n",
    "\n",
    "Viết hàm kiểm tra xem đường tròn trên và hình chữ nhật cắt nhau tại bao nhiêu điểm"
   ]
  },
  {
   "cell_type": "code",
   "execution_count": 1,
   "id": "e0d7b1a2",
   "metadata": {},
   "outputs": [],
   "source": [
    "import turtle\n",
    "t = turtle.Turtle()\n",
    "\n",
    "def hinhtron(x,y,r):\n",
    "    t.goto(x,y)\n",
    "    hinhtron = t.circle(r*3.14)\n",
    "def hcn(a,b,c,d):\n",
    "    x1 = a\n",
    "    y1 = d\n",
    "    x2 = b\n",
    "    y2 = c\n",
    "    t.pu()\n",
    "    t.goto(a,b)\n",
    "    t.pd()\n",
    "    t.goto(x1,y1)\n",
    "    t.goto(c,d)\n",
    "    t.goto(x2,y2)\n",
    "def kt(x,y,r,a,b,c,d):\n",
    "    r_hcn = ((((a-c)**2) + ((b-d)**2))**0.5)/2\n",
    "    tam_hcn_x = (a+c)/2\n",
    "    tam_hcn_y = (b+d)/2\n",
    "    kc = (((x-tam_hcn_x)**2) + ((y-tam_hcn_y)**2))**0.5\n",
    "    if kc > r_hcn + r or (r_hcn - r < r):\n",
    "        return \"Không cắt nhau\"\n",
    "    if kc == r:\n",
    "        return \"cắt tại 4 điểm\"\n",
    "    elif kc == r1+r2:\n",
    "        return \"cắt nhau tại 1 điểm\"\n",
    "    elif kc < r1+r2 and a!= c and b!=d:\n",
    "        return \"cắt nhau tại 2 điểm\"\n",
    "    elif r1 == r2 and a == c and b == d:\n",
    "        return \"cắt nhau vô số điểm\""
   ]
  },
  {
   "cell_type": "markdown",
   "id": "d1491579",
   "metadata": {},
   "source": [
    "### Bài 7\n",
    "\n",
    "Viết hàm kiểm tra số nguyên tố\n",
    "\n",
    "Viết hàm kiểm tra số hoàn hảo\n",
    "\n",
    "Viết hàm kiểm tra số chính phương\n",
    "\n",
    "Viết hàm kiểm tra số Armstrong\n",
    "\n",
    "Nhập vào một chuỗi, hãy lọc và tìm ra những số ở trong chuỗi (2 chữ số liền nhau là một chuỗi)\n",
    "\n",
    "Ví dụ chuỗi: \"AB25SDc5DSjjh52\"\n",
    "\n",
    "Trong chuỗi này ta có 3 số: 25, 5 và 52\n",
    "\n",
    "Sau khi lọc số, dùng các hàm trên để kiểm tra và thực hiện như sau:\n",
    "\n",
    "Cho biến S\n",
    "\n",
    "- Nếu số đó là số nguyên tố, ta thực hiện S += số đó\n",
    "- Nếu số đó là số hoàn hảo, ta thực hiện S -= số đó\n",
    "- Nếu số đó là số chính phương, ta thực hiện S /= số đó\n",
    "- Nếu đó là số Armstrong ta cho S = 0\n",
    "\n",
    "Hãy tính và in S"
   ]
  },
  {
   "cell_type": "code",
   "execution_count": 4,
   "id": "0b699e33",
   "metadata": {},
   "outputs": [
    {
     "name": "stdout",
     "output_type": "stream",
     "text": [
      "nhập a:3j432i\n",
      "432\n"
     ]
    }
   ],
   "source": [
    "def songuyento(tong):\n",
    "    if tong<2: return False\n",
    "    for i in range (2,tong):\n",
    "        if tong%i == 0:\n",
    "            return False\n",
    "    return True\n",
    "\n",
    "def sohoanhao(tong):\n",
    "    S= 0\n",
    "    for i in range(1,tong):\n",
    "        if tong%i ==0:\n",
    "            S+=i\n",
    "        return S==tong\n",
    "\n",
    "def sochinhphuong(tong):\n",
    "    cantong = tong**0.5\n",
    "    return cantong == int(cantong)\n",
    "\n",
    "def soarmstrong(tong):\n",
    "    tong = str(tong)\n",
    "    b = len(tong)\n",
    "    s = 0 \n",
    "    for i in tong:\n",
    "        S += int(i)**b\n",
    "    return S == int(tong)\n",
    "tong = input(\"nhập a:\")\n",
    "S = 0\n",
    "chuoitam=\"\"\n",
    "for i in tong:\n",
    "    if i.isnumeric():\n",
    "        chuoitam += i\n",
    "    else:\n",
    "        if chuoitam !=\"\":\n",
    "            so = int(chuoitam)\n",
    "            chuoitam =\"\"\n",
    "            if songuyenoto(tong):S += so\n",
    "            if sohoanhao(tong): S -= b\n",
    "            if sochinhphuong(tong): S /= b\n",
    "            if soarmstrong(tong): S = 0\n",
    "print(tong)     "
   ]
  }
 ],
 "metadata": {
  "kernelspec": {
   "display_name": "Python 3 (ipykernel)",
   "language": "python",
   "name": "python3"
  },
  "language_info": {
   "codemirror_mode": {
    "name": "ipython",
    "version": 3
   },
   "file_extension": ".py",
   "mimetype": "text/x-python",
   "name": "python",
   "nbconvert_exporter": "python",
   "pygments_lexer": "ipython3",
   "version": "3.10.4"
  }
 },
 "nbformat": 4,
 "nbformat_minor": 5
}
